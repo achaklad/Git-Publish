{
 "cells": [
  {
   "cell_type": "markdown",
   "id": "8d27d167",
   "metadata": {},
   "source": [
    "## Pandas<br>\n",
    "Pandas - open source data manipulation and analysis library for Python"
   ]
  },
  {
   "cell_type": "markdown",
   "id": "9532fc91",
   "metadata": {},
   "source": [
    "#### DataFrame"
   ]
  },
  {
   "cell_type": "code",
   "execution_count": null,
   "id": "e8a297db",
   "metadata": {},
   "outputs": [
    {
     "name": "stdout",
     "output_type": "stream",
     "text": [
      "Collecting pandas\n",
      "  Using cached pandas-2.2.3-cp312-cp312-win_amd64.whl.metadata (19 kB)\n",
      "Requirement already satisfied: numpy>=1.26.0 in d:\\codespace\\git publish\\python for data science, ai & development\\.venv\\lib\\site-packages (from pandas) (2.2.6)\n",
      "Requirement already satisfied: python-dateutil>=2.8.2 in d:\\codespace\\git publish\\python for data science, ai & development\\.venv\\lib\\site-packages (from pandas) (2.9.0.post0)\n",
      "Requirement already satisfied: pytz>=2020.1 in d:\\codespace\\git publish\\python for data science, ai & development\\.venv\\lib\\site-packages (from pandas) (2025.2)\n",
      "Requirement already satisfied: tzdata>=2022.7 in d:\\codespace\\git publish\\python for data science, ai & development\\.venv\\lib\\site-packages (from pandas) (2025.2)\n",
      "Requirement already satisfied: six>=1.5 in d:\\codespace\\git publish\\python for data science, ai & development\\.venv\\lib\\site-packages (from python-dateutil>=2.8.2->pandas) (1.17.0)\n",
      "Using cached pandas-2.2.3-cp312-cp312-win_amd64.whl (11.5 MB)\n",
      "Installing collected packages: pandas\n",
      "Successfully installed pandas-2.2.3\n",
      "Note: you may need to restart the kernel to use updated packages.\n"
     ]
    }
   ],
   "source": [
    "%pip install pandas"
   ]
  },
  {
   "cell_type": "code",
   "execution_count": 1,
   "id": "a105ec95",
   "metadata": {},
   "outputs": [],
   "source": [
    "import pandas as pd"
   ]
  },
  {
   "cell_type": "code",
   "execution_count": null,
   "id": "99c883f7",
   "metadata": {},
   "outputs": [
    {
     "data": {
      "text/html": [
       "<div>\n",
       "<style scoped>\n",
       "    .dataframe tbody tr th:only-of-type {\n",
       "        vertical-align: middle;\n",
       "    }\n",
       "\n",
       "    .dataframe tbody tr th {\n",
       "        vertical-align: top;\n",
       "    }\n",
       "\n",
       "    .dataframe thead th {\n",
       "        text-align: right;\n",
       "    }\n",
       "</style>\n",
       "<table border=\"1\" class=\"dataframe\">\n",
       "  <thead>\n",
       "    <tr style=\"text-align: right;\">\n",
       "      <th></th>\n",
       "      <th>Name</th>\n",
       "      <th>ID</th>\n",
       "      <th>Department</th>\n",
       "      <th>Salary</th>\n",
       "    </tr>\n",
       "  </thead>\n",
       "  <tbody>\n",
       "    <tr>\n",
       "      <th>0</th>\n",
       "      <td>Rose</td>\n",
       "      <td>1</td>\n",
       "      <td>Architect Group</td>\n",
       "      <td>100000</td>\n",
       "    </tr>\n",
       "    <tr>\n",
       "      <th>1</th>\n",
       "      <td>John</td>\n",
       "      <td>2</td>\n",
       "      <td>Software Group</td>\n",
       "      <td>80000</td>\n",
       "    </tr>\n",
       "    <tr>\n",
       "      <th>2</th>\n",
       "      <td>Jane</td>\n",
       "      <td>3</td>\n",
       "      <td>Design Team</td>\n",
       "      <td>50000</td>\n",
       "    </tr>\n",
       "    <tr>\n",
       "      <th>3</th>\n",
       "      <td>Mary</td>\n",
       "      <td>4</td>\n",
       "      <td>Infrastructure</td>\n",
       "      <td>60000</td>\n",
       "    </tr>\n",
       "  </tbody>\n",
       "</table>\n",
       "</div>"
      ],
      "text/plain": [
       "   Name  ID       Department  Salary\n",
       "0  Rose   1  Architect Group  100000\n",
       "1  John   2   Software Group   80000\n",
       "2  Jane   3      Design Team   50000\n",
       "3  Mary   4   Infrastructure   60000"
      ]
     },
     "execution_count": 2,
     "metadata": {},
     "output_type": "execute_result"
    }
   ],
   "source": [
    "#Dataframe from Dictionary:\n",
    "\n",
    "#dictionary 'x'\n",
    "x = {'Name': ['Rose','John', 'Jane', 'Mary'], 'ID': [1, 2, 3, 4], 'Department': ['Architect Group', 'Software Group', 'Design Team', 'Infrastructure'], \n",
    "      'Salary':[100000, 80000, 50000, 60000]}\n",
    "\n",
    "#casting the dictionary to a DataFrame\n",
    "df = pd.DataFrame(x)\n",
    "df"
   ]
  },
  {
   "cell_type": "code",
   "execution_count": null,
   "id": "cf4d9121",
   "metadata": {},
   "outputs": [
    {
     "data": {
      "text/html": [
       "<div>\n",
       "<style scoped>\n",
       "    .dataframe tbody tr th:only-of-type {\n",
       "        vertical-align: middle;\n",
       "    }\n",
       "\n",
       "    .dataframe tbody tr th {\n",
       "        vertical-align: top;\n",
       "    }\n",
       "\n",
       "    .dataframe thead th {\n",
       "        text-align: right;\n",
       "    }\n",
       "</style>\n",
       "<table border=\"1\" class=\"dataframe\">\n",
       "  <thead>\n",
       "    <tr style=\"text-align: right;\">\n",
       "      <th></th>\n",
       "      <th>ID</th>\n",
       "    </tr>\n",
       "  </thead>\n",
       "  <tbody>\n",
       "    <tr>\n",
       "      <th>0</th>\n",
       "      <td>1</td>\n",
       "    </tr>\n",
       "    <tr>\n",
       "      <th>1</th>\n",
       "      <td>2</td>\n",
       "    </tr>\n",
       "    <tr>\n",
       "      <th>2</th>\n",
       "      <td>3</td>\n",
       "    </tr>\n",
       "    <tr>\n",
       "      <th>3</th>\n",
       "      <td>4</td>\n",
       "    </tr>\n",
       "  </tbody>\n",
       "</table>\n",
       "</div>"
      ],
      "text/plain": [
       "   ID\n",
       "0   1\n",
       "1   2\n",
       "2   3\n",
       "3   4"
      ]
     },
     "execution_count": 3,
     "metadata": {},
     "output_type": "execute_result"
    }
   ],
   "source": [
    "#Retrieve \"ID\" column:\n",
    "x = df[['ID']]\n",
    "x"
   ]
  },
  {
   "cell_type": "code",
   "execution_count": 4,
   "id": "2ace7132",
   "metadata": {},
   "outputs": [
    {
     "data": {
      "text/plain": [
       "pandas.core.frame.DataFrame"
      ]
     },
     "execution_count": 4,
     "metadata": {},
     "output_type": "execute_result"
    }
   ],
   "source": [
    "#check the type of x\n",
    "type(x)"
   ]
  },
  {
   "cell_type": "markdown",
   "id": "a348fe4d",
   "metadata": {},
   "source": [
    "##### Accessing Multiple columns"
   ]
  },
  {
   "cell_type": "code",
   "execution_count": null,
   "id": "9e253639",
   "metadata": {},
   "outputs": [
    {
     "data": {
      "text/html": [
       "<div>\n",
       "<style scoped>\n",
       "    .dataframe tbody tr th:only-of-type {\n",
       "        vertical-align: middle;\n",
       "    }\n",
       "\n",
       "    .dataframe tbody tr th {\n",
       "        vertical-align: top;\n",
       "    }\n",
       "\n",
       "    .dataframe thead th {\n",
       "        text-align: right;\n",
       "    }\n",
       "</style>\n",
       "<table border=\"1\" class=\"dataframe\">\n",
       "  <thead>\n",
       "    <tr style=\"text-align: right;\">\n",
       "      <th></th>\n",
       "      <th>Department</th>\n",
       "      <th>Salary</th>\n",
       "      <th>ID</th>\n",
       "    </tr>\n",
       "  </thead>\n",
       "  <tbody>\n",
       "    <tr>\n",
       "      <th>0</th>\n",
       "      <td>Architect Group</td>\n",
       "      <td>100000</td>\n",
       "      <td>1</td>\n",
       "    </tr>\n",
       "    <tr>\n",
       "      <th>1</th>\n",
       "      <td>Software Group</td>\n",
       "      <td>80000</td>\n",
       "      <td>2</td>\n",
       "    </tr>\n",
       "    <tr>\n",
       "      <th>2</th>\n",
       "      <td>Design Team</td>\n",
       "      <td>50000</td>\n",
       "      <td>3</td>\n",
       "    </tr>\n",
       "    <tr>\n",
       "      <th>3</th>\n",
       "      <td>Infrastructure</td>\n",
       "      <td>60000</td>\n",
       "      <td>4</td>\n",
       "    </tr>\n",
       "  </tbody>\n",
       "</table>\n",
       "</div>"
      ],
      "text/plain": [
       "        Department  Salary  ID\n",
       "0  Architect Group  100000   1\n",
       "1   Software Group   80000   2\n",
       "2      Design Team   50000   3\n",
       "3   Infrastructure   60000   4"
      ]
     },
     "execution_count": 5,
     "metadata": {},
     "output_type": "execute_result"
    }
   ],
   "source": [
    "#Retrieving 3 cols: Department, Salary and ID\n",
    "z = df[['Department','Salary','ID']]\n",
    "z"
   ]
  },
  {
   "cell_type": "markdown",
   "id": "2e160587",
   "metadata": {},
   "source": [
    "#### Lab exercise:"
   ]
  },
  {
   "cell_type": "code",
   "execution_count": 8,
   "id": "461dd901",
   "metadata": {},
   "outputs": [
    {
     "data": {
      "text/html": [
       "<div>\n",
       "<style scoped>\n",
       "    .dataframe tbody tr th:only-of-type {\n",
       "        vertical-align: middle;\n",
       "    }\n",
       "\n",
       "    .dataframe tbody tr th {\n",
       "        vertical-align: top;\n",
       "    }\n",
       "\n",
       "    .dataframe thead th {\n",
       "        text-align: right;\n",
       "    }\n",
       "</style>\n",
       "<table border=\"1\" class=\"dataframe\">\n",
       "  <thead>\n",
       "    <tr style=\"text-align: right;\">\n",
       "      <th></th>\n",
       "      <th>Student</th>\n",
       "      <th>Age</th>\n",
       "      <th>Country</th>\n",
       "      <th>Course</th>\n",
       "      <th>Marks</th>\n",
       "    </tr>\n",
       "  </thead>\n",
       "  <tbody>\n",
       "    <tr>\n",
       "      <th>0</th>\n",
       "      <td>David</td>\n",
       "      <td>27</td>\n",
       "      <td>UK</td>\n",
       "      <td>Python</td>\n",
       "      <td>85</td>\n",
       "    </tr>\n",
       "    <tr>\n",
       "      <th>1</th>\n",
       "      <td>Samuel</td>\n",
       "      <td>24</td>\n",
       "      <td>Canada</td>\n",
       "      <td>Data Structures</td>\n",
       "      <td>72</td>\n",
       "    </tr>\n",
       "    <tr>\n",
       "      <th>2</th>\n",
       "      <td>Terry</td>\n",
       "      <td>22</td>\n",
       "      <td>China</td>\n",
       "      <td>Machine Learning</td>\n",
       "      <td>89</td>\n",
       "    </tr>\n",
       "    <tr>\n",
       "      <th>3</th>\n",
       "      <td>Evan</td>\n",
       "      <td>32</td>\n",
       "      <td>USA</td>\n",
       "      <td>Web Development</td>\n",
       "      <td>76</td>\n",
       "    </tr>\n",
       "  </tbody>\n",
       "</table>\n",
       "</div>"
      ],
      "text/plain": [
       "  Student  Age Country            Course  Marks\n",
       "0   David   27      UK            Python     85\n",
       "1  Samuel   24  Canada   Data Structures     72\n",
       "2   Terry   22   China  Machine Learning     89\n",
       "3    Evan   32     USA   Web Development     76"
      ]
     },
     "execution_count": 8,
     "metadata": {},
     "output_type": "execute_result"
    }
   ],
   "source": [
    "#Creating DF for given table:\n",
    "import pandas as pd\n",
    "\n",
    "x={\n",
    "    'Student': ['David','Samuel','Terry','Evan'],\n",
    "    'Age': [27,24,22,32],\n",
    "    'Country': ['UK','Canada','China','USA'],\n",
    "    'Course': ['Python','Data Structures','Machine Learning','Web Development'],\n",
    "    'Marks': [85,72,89,76]\n",
    "}\n",
    "\n",
    "df = pd.DataFrame(x)  #typecasting\n",
    "df"
   ]
  },
  {
   "cell_type": "code",
   "execution_count": 11,
   "id": "55634642",
   "metadata": {},
   "outputs": [
    {
     "data": {
      "text/html": [
       "<div>\n",
       "<style scoped>\n",
       "    .dataframe tbody tr th:only-of-type {\n",
       "        vertical-align: middle;\n",
       "    }\n",
       "\n",
       "    .dataframe tbody tr th {\n",
       "        vertical-align: top;\n",
       "    }\n",
       "\n",
       "    .dataframe thead th {\n",
       "        text-align: right;\n",
       "    }\n",
       "</style>\n",
       "<table border=\"1\" class=\"dataframe\">\n",
       "  <thead>\n",
       "    <tr style=\"text-align: right;\">\n",
       "      <th></th>\n",
       "      <th>Marks</th>\n",
       "    </tr>\n",
       "  </thead>\n",
       "  <tbody>\n",
       "    <tr>\n",
       "      <th>0</th>\n",
       "      <td>85</td>\n",
       "    </tr>\n",
       "    <tr>\n",
       "      <th>1</th>\n",
       "      <td>72</td>\n",
       "    </tr>\n",
       "    <tr>\n",
       "      <th>2</th>\n",
       "      <td>89</td>\n",
       "    </tr>\n",
       "    <tr>\n",
       "      <th>3</th>\n",
       "      <td>76</td>\n",
       "    </tr>\n",
       "  </tbody>\n",
       "</table>\n",
       "</div>"
      ],
      "text/plain": [
       "   Marks\n",
       "0     85\n",
       "1     72\n",
       "2     89\n",
       "3     76"
      ]
     },
     "execution_count": 11,
     "metadata": {},
     "output_type": "execute_result"
    }
   ],
   "source": [
    "#Column retrieval:\n",
    "b = df[['Marks']]    #remember: Python is case sensitive\n",
    "b\n"
   ]
  },
  {
   "cell_type": "code",
   "execution_count": 13,
   "id": "3449fefb",
   "metadata": {},
   "outputs": [
    {
     "data": {
      "text/html": [
       "<div>\n",
       "<style scoped>\n",
       "    .dataframe tbody tr th:only-of-type {\n",
       "        vertical-align: middle;\n",
       "    }\n",
       "\n",
       "    .dataframe tbody tr th {\n",
       "        vertical-align: top;\n",
       "    }\n",
       "\n",
       "    .dataframe thead th {\n",
       "        text-align: right;\n",
       "    }\n",
       "</style>\n",
       "<table border=\"1\" class=\"dataframe\">\n",
       "  <thead>\n",
       "    <tr style=\"text-align: right;\">\n",
       "      <th></th>\n",
       "      <th>Country</th>\n",
       "      <th>Course</th>\n",
       "    </tr>\n",
       "  </thead>\n",
       "  <tbody>\n",
       "    <tr>\n",
       "      <th>0</th>\n",
       "      <td>UK</td>\n",
       "      <td>Python</td>\n",
       "    </tr>\n",
       "    <tr>\n",
       "      <th>1</th>\n",
       "      <td>Canada</td>\n",
       "      <td>Data Structures</td>\n",
       "    </tr>\n",
       "    <tr>\n",
       "      <th>2</th>\n",
       "      <td>China</td>\n",
       "      <td>Machine Learning</td>\n",
       "    </tr>\n",
       "    <tr>\n",
       "      <th>3</th>\n",
       "      <td>USA</td>\n",
       "      <td>Web Development</td>\n",
       "    </tr>\n",
       "  </tbody>\n",
       "</table>\n",
       "</div>"
      ],
      "text/plain": [
       "  Country            Course\n",
       "0      UK            Python\n",
       "1  Canada   Data Structures\n",
       "2   China  Machine Learning\n",
       "3     USA   Web Development"
      ]
     },
     "execution_count": 13,
     "metadata": {},
     "output_type": "execute_result"
    }
   ],
   "source": [
    "#Retrieving 2 columns:\n",
    "b = df[['Country','Course']]\n",
    "b"
   ]
  },
  {
   "cell_type": "markdown",
   "id": "d16e6995",
   "metadata": {},
   "source": [
    "##### Series:<br>\n",
    "--> Use 1 bracket == Get column as 'Series': "
   ]
  },
  {
   "cell_type": "code",
   "execution_count": null,
   "id": "661cea9e",
   "metadata": {},
   "outputs": [
    {
     "data": {
      "text/plain": [
       "0        UK\n",
       "1    Canada\n",
       "2     China\n",
       "3       USA\n",
       "Name: Country, dtype: object"
      ]
     },
     "execution_count": 15,
     "metadata": {},
     "output_type": "execute_result"
    }
   ],
   "source": [
    "b = df['Country']   #return *Series*= 1-D Dataframe> 2 cols won't work\n",
    "b"
   ]
  },
  {
   "cell_type": "code",
   "execution_count": 16,
   "id": "121170dd",
   "metadata": {},
   "outputs": [
    {
     "data": {
      "text/plain": [
       "pandas.core.series.Series"
      ]
     },
     "execution_count": 16,
     "metadata": {},
     "output_type": "execute_result"
    }
   ],
   "source": [
    "type(b)"
   ]
  },
  {
   "cell_type": "markdown",
   "id": "1f252a4e",
   "metadata": {},
   "source": [
    "**Series vs DataFrame:**\n",
    "Series, being a one-dimensional data structure, offers benefits over a DataFrame in specific scenarios.<br>\n",
    "- When working with a single column of data, a Series provides simplicity and efficiency. \n",
    "- Operations on a Series are generally faster due to the reduced overhead compared to a DataFrame, which manages multiple columns and their associated metadata. \n",
    "- The homogeneous data type within a Series allows for optimized storage and computation.<br>\n",
    "\n",
    "This makes Series <u>suitable for tasks like time series analysis</u>, where data is often sequential and single-column based, or when performing calculations on individual columns extracted from a DataFrame.<br> \n",
    "i.e. *Series* excels when the focus is on analyzing/manipulating a 'single set of data points', while a *DataFrame* is more appropriate for handling complex, 'multi-column datasets'."
   ]
  },
  {
   "cell_type": "markdown",
   "id": "c142ff09",
   "metadata": {},
   "source": [
    "#### Lab 2: loc() and iloc() functions<br>\n",
    "`loc()` - uses Labels as args<br>\n",
    "`iloc()` - uses Index as args"
   ]
  },
  {
   "cell_type": "code",
   "execution_count": 17,
   "id": "f0e64ec1",
   "metadata": {},
   "outputs": [
    {
     "data": {
      "text/html": [
       "<div>\n",
       "<style scoped>\n",
       "    .dataframe tbody tr th:only-of-type {\n",
       "        vertical-align: middle;\n",
       "    }\n",
       "\n",
       "    .dataframe tbody tr th {\n",
       "        vertical-align: top;\n",
       "    }\n",
       "\n",
       "    .dataframe thead th {\n",
       "        text-align: right;\n",
       "    }\n",
       "</style>\n",
       "<table border=\"1\" class=\"dataframe\">\n",
       "  <thead>\n",
       "    <tr style=\"text-align: right;\">\n",
       "      <th></th>\n",
       "      <th>Name</th>\n",
       "      <th>ID</th>\n",
       "      <th>Department</th>\n",
       "      <th>Salary</th>\n",
       "    </tr>\n",
       "  </thead>\n",
       "  <tbody>\n",
       "    <tr>\n",
       "      <th>0</th>\n",
       "      <td>Rose</td>\n",
       "      <td>1</td>\n",
       "      <td>Architect Group</td>\n",
       "      <td>100000</td>\n",
       "    </tr>\n",
       "    <tr>\n",
       "      <th>1</th>\n",
       "      <td>John</td>\n",
       "      <td>2</td>\n",
       "      <td>Software Group</td>\n",
       "      <td>80000</td>\n",
       "    </tr>\n",
       "    <tr>\n",
       "      <th>2</th>\n",
       "      <td>Jane</td>\n",
       "      <td>3</td>\n",
       "      <td>Design Team</td>\n",
       "      <td>50000</td>\n",
       "    </tr>\n",
       "    <tr>\n",
       "      <th>3</th>\n",
       "      <td>Mary</td>\n",
       "      <td>4</td>\n",
       "      <td>Infrastructure</td>\n",
       "      <td>60000</td>\n",
       "    </tr>\n",
       "  </tbody>\n",
       "</table>\n",
       "</div>"
      ],
      "text/plain": [
       "   Name  ID       Department  Salary\n",
       "0  Rose   1  Architect Group  100000\n",
       "1  John   2   Software Group   80000\n",
       "2  Jane   3      Design Team   50000\n",
       "3  Mary   4   Infrastructure   60000"
      ]
     },
     "execution_count": 17,
     "metadata": {},
     "output_type": "execute_result"
    }
   ],
   "source": [
    "# Create a df for exercise:\n",
    "y = {\n",
    "    'Name': ['Rose','John', 'Jane', 'Mary'],\n",
    "    'ID': [1, 2, 3, 4],\n",
    "    'Department': ['Architect Group', 'Software Group', 'Design Team', 'Infrastructure'],\n",
    "    'Salary': [100000, 80000, 50000, 60000]\n",
    "}\n",
    "\n",
    "df2 = pd.DataFrame(y)\n",
    "df2"
   ]
  },
  {
   "cell_type": "code",
   "execution_count": 22,
   "id": "fdb7b0a7",
   "metadata": {},
   "outputs": [
    {
     "data": {
      "text/plain": [
       "'Architect Group'"
      ]
     },
     "execution_count": 22,
     "metadata": {},
     "output_type": "execute_result"
    }
   ],
   "source": [
    "#first row and the third column\n",
    "df2.iloc[0,2]"
   ]
  },
  {
   "cell_type": "code",
   "execution_count": 23,
   "id": "bd34a6c6",
   "metadata": {},
   "outputs": [
    {
     "data": {
      "text/plain": [
       "'Architect Group'"
      ]
     },
     "execution_count": 23,
     "metadata": {},
     "output_type": "execute_result"
    }
   ],
   "source": [
    "#first row and the third column -Using Name:\n",
    "df2.loc[0,'Department']"
   ]
  },
  {
   "cell_type": "markdown",
   "id": "fe2b90d1",
   "metadata": {},
   "source": [
    "#### `head()` Function:<br>\n",
    "`dataframe.head()` -used to display the _first n rows_ of a DataFrame. <u>Useful for quickly inspecting the Data</u> and verifying if it has been loaded correctly. <br>\n",
    "- By default, it shows the first 5 rows, but you can specify a different number of rows as an argument. \n",
    "- If n > number of rows in the DataFrame, it will return all rows. \n",
    "- For -ve n, it returns all rows except the last abs(n) rows (truncates below rows too)"
   ]
  },
  {
   "cell_type": "code",
   "execution_count": 24,
   "id": "e124dfb0",
   "metadata": {},
   "outputs": [
    {
     "data": {
      "text/html": [
       "<div>\n",
       "<style scoped>\n",
       "    .dataframe tbody tr th:only-of-type {\n",
       "        vertical-align: middle;\n",
       "    }\n",
       "\n",
       "    .dataframe tbody tr th {\n",
       "        vertical-align: top;\n",
       "    }\n",
       "\n",
       "    .dataframe thead th {\n",
       "        text-align: right;\n",
       "    }\n",
       "</style>\n",
       "<table border=\"1\" class=\"dataframe\">\n",
       "  <thead>\n",
       "    <tr style=\"text-align: right;\">\n",
       "      <th></th>\n",
       "      <th>Name</th>\n",
       "      <th>ID</th>\n",
       "      <th>Department</th>\n",
       "      <th>Salary</th>\n",
       "    </tr>\n",
       "  </thead>\n",
       "  <tbody>\n",
       "    <tr>\n",
       "      <th>0</th>\n",
       "      <td>Rose</td>\n",
       "      <td>1</td>\n",
       "      <td>Architect Group</td>\n",
       "      <td>100000</td>\n",
       "    </tr>\n",
       "    <tr>\n",
       "      <th>1</th>\n",
       "      <td>John</td>\n",
       "      <td>2</td>\n",
       "      <td>Software Group</td>\n",
       "      <td>80000</td>\n",
       "    </tr>\n",
       "    <tr>\n",
       "      <th>2</th>\n",
       "      <td>Jane</td>\n",
       "      <td>3</td>\n",
       "      <td>Design Team</td>\n",
       "      <td>50000</td>\n",
       "    </tr>\n",
       "    <tr>\n",
       "      <th>3</th>\n",
       "      <td>Mary</td>\n",
       "      <td>4</td>\n",
       "      <td>Infrastructure</td>\n",
       "      <td>60000</td>\n",
       "    </tr>\n",
       "  </tbody>\n",
       "</table>\n",
       "</div>"
      ],
      "text/plain": [
       "   Name  ID       Department  Salary\n",
       "0  Rose   1  Architect Group  100000\n",
       "1  John   2   Software Group   80000\n",
       "2  Jane   3      Design Team   50000\n",
       "3  Mary   4   Infrastructure   60000"
      ]
     },
     "execution_count": 24,
     "metadata": {},
     "output_type": "execute_result"
    }
   ],
   "source": [
    "df2.head()"
   ]
  },
  {
   "cell_type": "code",
   "execution_count": 25,
   "id": "cab93455",
   "metadata": {},
   "outputs": [
    {
     "data": {
      "text/html": [
       "<div>\n",
       "<style scoped>\n",
       "    .dataframe tbody tr th:only-of-type {\n",
       "        vertical-align: middle;\n",
       "    }\n",
       "\n",
       "    .dataframe tbody tr th {\n",
       "        vertical-align: top;\n",
       "    }\n",
       "\n",
       "    .dataframe thead th {\n",
       "        text-align: right;\n",
       "    }\n",
       "</style>\n",
       "<table border=\"1\" class=\"dataframe\">\n",
       "  <thead>\n",
       "    <tr style=\"text-align: right;\">\n",
       "      <th></th>\n",
       "      <th>Name</th>\n",
       "      <th>ID</th>\n",
       "      <th>Department</th>\n",
       "      <th>Salary</th>\n",
       "    </tr>\n",
       "  </thead>\n",
       "  <tbody>\n",
       "    <tr>\n",
       "      <th>0</th>\n",
       "      <td>Rose</td>\n",
       "      <td>1</td>\n",
       "      <td>Architect Group</td>\n",
       "      <td>100000</td>\n",
       "    </tr>\n",
       "    <tr>\n",
       "      <th>1</th>\n",
       "      <td>John</td>\n",
       "      <td>2</td>\n",
       "      <td>Software Group</td>\n",
       "      <td>80000</td>\n",
       "    </tr>\n",
       "    <tr>\n",
       "      <th>2</th>\n",
       "      <td>Jane</td>\n",
       "      <td>3</td>\n",
       "      <td>Design Team</td>\n",
       "      <td>50000</td>\n",
       "    </tr>\n",
       "  </tbody>\n",
       "</table>\n",
       "</div>"
      ],
      "text/plain": [
       "   Name  ID       Department  Salary\n",
       "0  Rose   1  Architect Group  100000\n",
       "1  John   2   Software Group   80000\n",
       "2  Jane   3      Design Team   50000"
      ]
     },
     "execution_count": 25,
     "metadata": {},
     "output_type": "execute_result"
    }
   ],
   "source": [
    "df2.head(3)"
   ]
  },
  {
   "cell_type": "code",
   "execution_count": 27,
   "id": "3b4dc7aa",
   "metadata": {},
   "outputs": [
    {
     "data": {
      "text/html": [
       "<div>\n",
       "<style scoped>\n",
       "    .dataframe tbody tr th:only-of-type {\n",
       "        vertical-align: middle;\n",
       "    }\n",
       "\n",
       "    .dataframe tbody tr th {\n",
       "        vertical-align: top;\n",
       "    }\n",
       "\n",
       "    .dataframe thead th {\n",
       "        text-align: right;\n",
       "    }\n",
       "</style>\n",
       "<table border=\"1\" class=\"dataframe\">\n",
       "  <thead>\n",
       "    <tr style=\"text-align: right;\">\n",
       "      <th></th>\n",
       "      <th>Name</th>\n",
       "      <th>ID</th>\n",
       "      <th>Department</th>\n",
       "      <th>Salary</th>\n",
       "    </tr>\n",
       "  </thead>\n",
       "  <tbody>\n",
       "    <tr>\n",
       "      <th>0</th>\n",
       "      <td>Rose</td>\n",
       "      <td>1</td>\n",
       "      <td>Architect Group</td>\n",
       "      <td>100000</td>\n",
       "    </tr>\n",
       "    <tr>\n",
       "      <th>1</th>\n",
       "      <td>John</td>\n",
       "      <td>2</td>\n",
       "      <td>Software Group</td>\n",
       "      <td>80000</td>\n",
       "    </tr>\n",
       "    <tr>\n",
       "      <th>2</th>\n",
       "      <td>Jane</td>\n",
       "      <td>3</td>\n",
       "      <td>Design Team</td>\n",
       "      <td>50000</td>\n",
       "    </tr>\n",
       "    <tr>\n",
       "      <th>3</th>\n",
       "      <td>Mary</td>\n",
       "      <td>4</td>\n",
       "      <td>Infrastructure</td>\n",
       "      <td>60000</td>\n",
       "    </tr>\n",
       "  </tbody>\n",
       "</table>\n",
       "</div>"
      ],
      "text/plain": [
       "   Name  ID       Department  Salary\n",
       "0  Rose   1  Architect Group  100000\n",
       "1  John   2   Software Group   80000\n",
       "2  Jane   3      Design Team   50000\n",
       "3  Mary   4   Infrastructure   60000"
      ]
     },
     "execution_count": 27,
     "metadata": {},
     "output_type": "execute_result"
    }
   ],
   "source": [
    "df2.head()"
   ]
  },
  {
   "cell_type": "code",
   "execution_count": 28,
   "id": "62b94dde",
   "metadata": {},
   "outputs": [
    {
     "data": {
      "text/html": [
       "<div>\n",
       "<style scoped>\n",
       "    .dataframe tbody tr th:only-of-type {\n",
       "        vertical-align: middle;\n",
       "    }\n",
       "\n",
       "    .dataframe tbody tr th {\n",
       "        vertical-align: top;\n",
       "    }\n",
       "\n",
       "    .dataframe thead th {\n",
       "        text-align: right;\n",
       "    }\n",
       "</style>\n",
       "<table border=\"1\" class=\"dataframe\">\n",
       "  <thead>\n",
       "    <tr style=\"text-align: right;\">\n",
       "      <th></th>\n",
       "      <th>Name</th>\n",
       "      <th>ID</th>\n",
       "      <th>Department</th>\n",
       "      <th>Salary</th>\n",
       "    </tr>\n",
       "  </thead>\n",
       "  <tbody>\n",
       "    <tr>\n",
       "      <th>0</th>\n",
       "      <td>Rose</td>\n",
       "      <td>1</td>\n",
       "      <td>Architect Group</td>\n",
       "      <td>100000</td>\n",
       "    </tr>\n",
       "    <tr>\n",
       "      <th>1</th>\n",
       "      <td>John</td>\n",
       "      <td>2</td>\n",
       "      <td>Software Group</td>\n",
       "      <td>80000</td>\n",
       "    </tr>\n",
       "  </tbody>\n",
       "</table>\n",
       "</div>"
      ],
      "text/plain": [
       "   Name  ID       Department  Salary\n",
       "0  Rose   1  Architect Group  100000\n",
       "1  John   2   Software Group   80000"
      ]
     },
     "execution_count": 28,
     "metadata": {},
     "output_type": "execute_result"
    }
   ],
   "source": [
    "df2.head(-2)"
   ]
  },
  {
   "cell_type": "markdown",
   "id": "e2bb99e9",
   "metadata": {},
   "source": [
    "Setting an Index column:"
   ]
  },
  {
   "cell_type": "code",
   "execution_count": 31,
   "id": "1ec62e19",
   "metadata": {},
   "outputs": [
    {
     "data": {
      "text/html": [
       "<div>\n",
       "<style scoped>\n",
       "    .dataframe tbody tr th:only-of-type {\n",
       "        vertical-align: middle;\n",
       "    }\n",
       "\n",
       "    .dataframe tbody tr th {\n",
       "        vertical-align: top;\n",
       "    }\n",
       "\n",
       "    .dataframe thead th {\n",
       "        text-align: right;\n",
       "    }\n",
       "</style>\n",
       "<table border=\"1\" class=\"dataframe\">\n",
       "  <thead>\n",
       "    <tr style=\"text-align: right;\">\n",
       "      <th></th>\n",
       "      <th>ID</th>\n",
       "      <th>Department</th>\n",
       "      <th>Salary</th>\n",
       "    </tr>\n",
       "    <tr>\n",
       "      <th>Name</th>\n",
       "      <th></th>\n",
       "      <th></th>\n",
       "      <th></th>\n",
       "    </tr>\n",
       "  </thead>\n",
       "  <tbody>\n",
       "    <tr>\n",
       "      <th>Rose</th>\n",
       "      <td>1</td>\n",
       "      <td>Architect Group</td>\n",
       "      <td>100000</td>\n",
       "    </tr>\n",
       "    <tr>\n",
       "      <th>John</th>\n",
       "      <td>2</td>\n",
       "      <td>Software Group</td>\n",
       "      <td>80000</td>\n",
       "    </tr>\n",
       "    <tr>\n",
       "      <th>Jane</th>\n",
       "      <td>3</td>\n",
       "      <td>Design Team</td>\n",
       "      <td>50000</td>\n",
       "    </tr>\n",
       "    <tr>\n",
       "      <th>Mary</th>\n",
       "      <td>4</td>\n",
       "      <td>Infrastructure</td>\n",
       "      <td>60000</td>\n",
       "    </tr>\n",
       "  </tbody>\n",
       "</table>\n",
       "</div>"
      ],
      "text/plain": [
       "      ID       Department  Salary\n",
       "Name                             \n",
       "Rose   1  Architect Group  100000\n",
       "John   2   Software Group   80000\n",
       "Jane   3      Design Team   50000\n",
       "Mary   4   Infrastructure   60000"
      ]
     },
     "execution_count": 31,
     "metadata": {},
     "output_type": "execute_result"
    }
   ],
   "source": [
    "#set Name as index col:\n",
    "df2 = df2.set_index(\"Name\")   #returns a DataFrame!\n",
    "df2"
   ]
  },
  {
   "cell_type": "code",
   "execution_count": 32,
   "id": "2a4fbb9b",
   "metadata": {},
   "outputs": [
    {
     "data": {
      "text/plain": [
       "'Software Group'"
      ]
     },
     "execution_count": 32,
     "metadata": {},
     "output_type": "execute_result"
    }
   ],
   "source": [
    "#get John's Dept:\n",
    "df2.loc['John','Department']"
   ]
  },
  {
   "cell_type": "code",
   "execution_count": null,
   "id": "99dbf45a",
   "metadata": {},
   "outputs": [
    {
     "data": {
      "text/plain": [
       "np.int64(50000)"
      ]
     },
     "execution_count": 33,
     "metadata": {},
     "output_type": "execute_result"
    }
   ],
   "source": [
    "#get salary of Mary:\n",
    "df2.iloc[2,2]   #IMP:both indices(row & col) start from '0'"
   ]
  },
  {
   "cell_type": "markdown",
   "id": "c7a4339a",
   "metadata": {},
   "source": [
    "#### Slicing:<br>\n",
    "_Syntax:_  `data[start:stop]`\n",
    "-> start stop can be represented using:\n",
    "- range of Indexes (Basic slicing)\n",
    "- specific rows&cols (Label-based slicing), or..\n",
    "- specifying range of rows, & range of cols using indexes (Index-based slicing)."
   ]
  },
  {
   "cell_type": "code",
   "execution_count": 35,
   "id": "7f527b96",
   "metadata": {},
   "outputs": [
    {
     "data": {
      "text/html": [
       "<div>\n",
       "<style scoped>\n",
       "    .dataframe tbody tr th:only-of-type {\n",
       "        vertical-align: middle;\n",
       "    }\n",
       "\n",
       "    .dataframe tbody tr th {\n",
       "        vertical-align: top;\n",
       "    }\n",
       "\n",
       "    .dataframe thead th {\n",
       "        text-align: right;\n",
       "    }\n",
       "</style>\n",
       "<table border=\"1\" class=\"dataframe\">\n",
       "  <thead>\n",
       "    <tr style=\"text-align: right;\">\n",
       "      <th></th>\n",
       "      <th>col1</th>\n",
       "      <th>col2</th>\n",
       "      <th>col3</th>\n",
       "    </tr>\n",
       "  </thead>\n",
       "  <tbody>\n",
       "    <tr>\n",
       "      <th>0</th>\n",
       "      <td>1</td>\n",
       "      <td>A</td>\n",
       "      <td>True</td>\n",
       "    </tr>\n",
       "    <tr>\n",
       "      <th>1</th>\n",
       "      <td>2</td>\n",
       "      <td>B</td>\n",
       "      <td>False</td>\n",
       "    </tr>\n",
       "    <tr>\n",
       "      <th>2</th>\n",
       "      <td>3</td>\n",
       "      <td>C</td>\n",
       "      <td>True</td>\n",
       "    </tr>\n",
       "    <tr>\n",
       "      <th>3</th>\n",
       "      <td>4</td>\n",
       "      <td>D</td>\n",
       "      <td>False</td>\n",
       "    </tr>\n",
       "    <tr>\n",
       "      <th>4</th>\n",
       "      <td>5</td>\n",
       "      <td>E</td>\n",
       "      <td>True</td>\n",
       "    </tr>\n",
       "  </tbody>\n",
       "</table>\n",
       "</div>"
      ],
      "text/plain": [
       "   col1 col2   col3\n",
       "0     1    A   True\n",
       "1     2    B  False\n",
       "2     3    C   True\n",
       "3     4    D  False\n",
       "4     5    E   True"
      ]
     },
     "execution_count": 35,
     "metadata": {},
     "output_type": "execute_result"
    }
   ],
   "source": [
    "#import pandas as pd\n",
    "# Create a sample DataFrame\n",
    "data = {'col1': [1, 2, 3, 4, 5],\n",
    "        'col2': ['A', 'B', 'C', 'D', 'E'],\n",
    "        'col3': [True, False, True, False, True]}\n",
    "df = pd.DataFrame(data)\n",
    "df"
   ]
  },
  {
   "cell_type": "code",
   "execution_count": null,
   "id": "a115be14",
   "metadata": {},
   "outputs": [
    {
     "data": {
      "text/html": [
       "<div>\n",
       "<style scoped>\n",
       "    .dataframe tbody tr th:only-of-type {\n",
       "        vertical-align: middle;\n",
       "    }\n",
       "\n",
       "    .dataframe tbody tr th {\n",
       "        vertical-align: top;\n",
       "    }\n",
       "\n",
       "    .dataframe thead th {\n",
       "        text-align: right;\n",
       "    }\n",
       "</style>\n",
       "<table border=\"1\" class=\"dataframe\">\n",
       "  <thead>\n",
       "    <tr style=\"text-align: right;\">\n",
       "      <th></th>\n",
       "      <th>col1</th>\n",
       "      <th>col2</th>\n",
       "      <th>col3</th>\n",
       "    </tr>\n",
       "  </thead>\n",
       "  <tbody>\n",
       "    <tr>\n",
       "      <th>1</th>\n",
       "      <td>2</td>\n",
       "      <td>B</td>\n",
       "      <td>False</td>\n",
       "    </tr>\n",
       "    <tr>\n",
       "      <th>2</th>\n",
       "      <td>3</td>\n",
       "      <td>C</td>\n",
       "      <td>True</td>\n",
       "    </tr>\n",
       "  </tbody>\n",
       "</table>\n",
       "</div>"
      ],
      "text/plain": [
       "   col1 col2   col3\n",
       "1     2    B  False\n",
       "2     3    C   True"
      ]
     },
     "execution_count": 36,
     "metadata": {},
     "output_type": "execute_result"
    }
   ],
   "source": [
    "#1. Basic slicing: select rows from index 1 to 3 (exclusive)\n",
    "df[1:3]    #<<note that 2nd index is not-included in the map."
   ]
  },
  {
   "cell_type": "code",
   "execution_count": null,
   "id": "d9580f97",
   "metadata": {},
   "outputs": [
    {
     "data": {
      "text/html": [
       "<div>\n",
       "<style scoped>\n",
       "    .dataframe tbody tr th:only-of-type {\n",
       "        vertical-align: middle;\n",
       "    }\n",
       "\n",
       "    .dataframe tbody tr th {\n",
       "        vertical-align: top;\n",
       "    }\n",
       "\n",
       "    .dataframe thead th {\n",
       "        text-align: right;\n",
       "    }\n",
       "</style>\n",
       "<table border=\"1\" class=\"dataframe\">\n",
       "  <thead>\n",
       "    <tr style=\"text-align: right;\">\n",
       "      <th></th>\n",
       "      <th>col1</th>\n",
       "      <th>col3</th>\n",
       "    </tr>\n",
       "  </thead>\n",
       "  <tbody>\n",
       "    <tr>\n",
       "      <th>1</th>\n",
       "      <td>2</td>\n",
       "      <td>False</td>\n",
       "    </tr>\n",
       "    <tr>\n",
       "      <th>3</th>\n",
       "      <td>4</td>\n",
       "      <td>False</td>\n",
       "    </tr>\n",
       "  </tbody>\n",
       "</table>\n",
       "</div>"
      ],
      "text/plain": [
       "   col1   col3\n",
       "1     2  False\n",
       "3     4  False"
      ]
     },
     "execution_count": 37,
     "metadata": {},
     "output_type": "execute_result"
    }
   ],
   "source": [
    "#2. Label-based slicing: here we are *selecting* rows&cols: Rows with index 1 and 3, and columns 'col1' and 'col3'\n",
    "df.loc[[1, 3], ['col1', 'col3']]    #<<specific rows&cols named (eg. r3 is not included)"
   ]
  },
  {
   "cell_type": "code",
   "execution_count": null,
   "id": "44d9af50",
   "metadata": {},
   "outputs": [
    {
     "name": "stdout",
     "output_type": "stream",
     "text": [
      "   col1 col2   col3\n",
      "0     1    A   True\n",
      "1     2    B  False\n",
      "2     3    C   True\n",
      "3     4    D  False\n",
      "4     5    E   True \n",
      "\n"
     ]
    },
    {
     "data": {
      "text/html": [
       "<div>\n",
       "<style scoped>\n",
       "    .dataframe tbody tr th:only-of-type {\n",
       "        vertical-align: middle;\n",
       "    }\n",
       "\n",
       "    .dataframe tbody tr th {\n",
       "        vertical-align: top;\n",
       "    }\n",
       "\n",
       "    .dataframe thead th {\n",
       "        text-align: right;\n",
       "    }\n",
       "</style>\n",
       "<table border=\"1\" class=\"dataframe\">\n",
       "  <thead>\n",
       "    <tr style=\"text-align: right;\">\n",
       "      <th></th>\n",
       "      <th>col1</th>\n",
       "      <th>col2</th>\n",
       "    </tr>\n",
       "  </thead>\n",
       "  <tbody>\n",
       "    <tr>\n",
       "      <th>0</th>\n",
       "      <td>1</td>\n",
       "      <td>A</td>\n",
       "    </tr>\n",
       "    <tr>\n",
       "      <th>1</th>\n",
       "      <td>2</td>\n",
       "      <td>B</td>\n",
       "    </tr>\n",
       "  </tbody>\n",
       "</table>\n",
       "</div>"
      ],
      "text/plain": [
       "   col1 col2\n",
       "0     1    A\n",
       "1     2    B"
      ]
     },
     "execution_count": 47,
     "metadata": {},
     "output_type": "execute_result"
    }
   ],
   "source": [
    "#3. Integer-based slicing: select rows from index 0 to 2(exclusive) and columns from index 0 to 2(exclusive)\n",
    "print(df, \"\\n\")\n",
    "df.iloc[0:2, 0:2]"
   ]
  },
  {
   "cell_type": "code",
   "execution_count": null,
   "id": "7fae0811",
   "metadata": {},
   "outputs": [
    {
     "name": "stdout",
     "output_type": "stream",
     "text": [
      "   col1 col2   col3\n",
      "0     1    A   True\n",
      "1     2    B  False\n",
      "2     3    C   True\n",
      "3     4    D  False\n",
      "4     5    E   True \n",
      "\n",
      "   col1 col2   col3\n",
      "1     2    B  False\n",
      "2     3    C   True\n"
     ]
    },
    {
     "data": {
      "text/html": [
       "<div>\n",
       "<style scoped>\n",
       "    .dataframe tbody tr th:only-of-type {\n",
       "        vertical-align: middle;\n",
       "    }\n",
       "\n",
       "    .dataframe tbody tr th {\n",
       "        vertical-align: top;\n",
       "    }\n",
       "\n",
       "    .dataframe thead th {\n",
       "        text-align: right;\n",
       "    }\n",
       "</style>\n",
       "<table border=\"1\" class=\"dataframe\">\n",
       "  <thead>\n",
       "    <tr style=\"text-align: right;\">\n",
       "      <th></th>\n",
       "      <th>col1</th>\n",
       "      <th>col2</th>\n",
       "      <th>col3</th>\n",
       "    </tr>\n",
       "  </thead>\n",
       "  <tbody>\n",
       "    <tr>\n",
       "      <th>1</th>\n",
       "      <td>2</td>\n",
       "      <td>B</td>\n",
       "      <td>False</td>\n",
       "    </tr>\n",
       "    <tr>\n",
       "      <th>2</th>\n",
       "      <td>3</td>\n",
       "      <td>C</td>\n",
       "      <td>True</td>\n",
       "    </tr>\n",
       "  </tbody>\n",
       "</table>\n",
       "</div>"
      ],
      "text/plain": [
       "   col1 col2   col3\n",
       "1     2    B  False\n",
       "2     3    C   True"
      ]
     },
     "execution_count": 50,
     "metadata": {},
     "output_type": "execute_result"
    }
   ],
   "source": [
    "print(df, \"\\n\")\n",
    "print(df[1:3])  #<Index-based slicing\n",
    "#Doing the same using <Integer-based slicing>\n",
    "df.iloc[1:3, 0:3]   #Select: Rows r1-3exclusive, Cols c0:3exclusive"
   ]
  },
  {
   "cell_type": "code",
   "execution_count": null,
   "id": "6f5688dd",
   "metadata": {},
   "outputs": [
    {
     "data": {
      "text/html": [
       "<div>\n",
       "<style scoped>\n",
       "    .dataframe tbody tr th:only-of-type {\n",
       "        vertical-align: middle;\n",
       "    }\n",
       "\n",
       "    .dataframe tbody tr th {\n",
       "        vertical-align: top;\n",
       "    }\n",
       "\n",
       "    .dataframe thead th {\n",
       "        text-align: right;\n",
       "    }\n",
       "</style>\n",
       "<table border=\"1\" class=\"dataframe\">\n",
       "  <thead>\n",
       "    <tr style=\"text-align: right;\">\n",
       "      <th></th>\n",
       "      <th>col1</th>\n",
       "      <th>col2</th>\n",
       "      <th>col3</th>\n",
       "    </tr>\n",
       "  </thead>\n",
       "  <tbody>\n",
       "    <tr>\n",
       "      <th>1</th>\n",
       "      <td>2</td>\n",
       "      <td>B</td>\n",
       "      <td>False</td>\n",
       "    </tr>\n",
       "    <tr>\n",
       "      <th>2</th>\n",
       "      <td>3</td>\n",
       "      <td>C</td>\n",
       "      <td>True</td>\n",
       "    </tr>\n",
       "  </tbody>\n",
       "</table>\n",
       "</div>"
      ],
      "text/plain": [
       "   col1 col2   col3\n",
       "1     2    B  False\n",
       "2     3    C   True"
      ]
     },
     "execution_count": 54,
     "metadata": {},
     "output_type": "execute_result"
    }
   ],
   "source": [
    "#You can do the same using loc() also --using labels\n",
    "df.loc[1:2,'col1':'col3']  #all ranges are Inclusive when using Labels"
   ]
  },
  {
   "cell_type": "markdown",
   "id": "223b38e3",
   "metadata": {},
   "source": [
    "\n",
    "Slicing can also be combined with boolean indexing to filter data based on conditions."
   ]
  },
  {
   "cell_type": "code",
   "execution_count": 55,
   "id": "3b336444",
   "metadata": {},
   "outputs": [
    {
     "data": {
      "text/html": [
       "<div>\n",
       "<style scoped>\n",
       "    .dataframe tbody tr th:only-of-type {\n",
       "        vertical-align: middle;\n",
       "    }\n",
       "\n",
       "    .dataframe tbody tr th {\n",
       "        vertical-align: top;\n",
       "    }\n",
       "\n",
       "    .dataframe thead th {\n",
       "        text-align: right;\n",
       "    }\n",
       "</style>\n",
       "<table border=\"1\" class=\"dataframe\">\n",
       "  <thead>\n",
       "    <tr style=\"text-align: right;\">\n",
       "      <th></th>\n",
       "      <th>col1</th>\n",
       "      <th>col2</th>\n",
       "      <th>col3</th>\n",
       "    </tr>\n",
       "  </thead>\n",
       "  <tbody>\n",
       "    <tr>\n",
       "      <th>2</th>\n",
       "      <td>3</td>\n",
       "      <td>C</td>\n",
       "      <td>True</td>\n",
       "    </tr>\n",
       "    <tr>\n",
       "      <th>4</th>\n",
       "      <td>5</td>\n",
       "      <td>E</td>\n",
       "      <td>True</td>\n",
       "    </tr>\n",
       "  </tbody>\n",
       "</table>\n",
       "</div>"
      ],
      "text/plain": [
       "   col1 col2  col3\n",
       "2     3    C  True\n",
       "4     5    E  True"
      ]
     },
     "execution_count": 55,
     "metadata": {},
     "output_type": "execute_result"
    }
   ],
   "source": [
    "# Select rows where 'col1' is greater than 2 and 'col2' is 'C'\n",
    "df[(df['col1'] > 2) & (df['col3'] == True)]"
   ]
  },
  {
   "cell_type": "markdown",
   "id": "d4ad71ad",
   "metadata": {},
   "source": [
    "## HOL: Loading data with Pandas<br>\n",
    "- Loading data from a csv file\n",
    "- Loading data from an excel file"
   ]
  },
  {
   "cell_type": "markdown",
   "id": "ff44b816",
   "metadata": {},
   "source": [
    "##### Loading data from CSV"
   ]
  },
  {
   "cell_type": "code",
   "execution_count": 58,
   "id": "8516e134",
   "metadata": {},
   "outputs": [
    {
     "data": {
      "text/html": [
       "<div>\n",
       "<style scoped>\n",
       "    .dataframe tbody tr th:only-of-type {\n",
       "        vertical-align: middle;\n",
       "    }\n",
       "\n",
       "    .dataframe tbody tr th {\n",
       "        vertical-align: top;\n",
       "    }\n",
       "\n",
       "    .dataframe thead th {\n",
       "        text-align: right;\n",
       "    }\n",
       "</style>\n",
       "<table border=\"1\" class=\"dataframe\">\n",
       "  <thead>\n",
       "    <tr style=\"text-align: right;\">\n",
       "      <th></th>\n",
       "      <th>OrderID</th>\n",
       "      <th>Product</th>\n",
       "      <th>Category</th>\n",
       "      <th>Quantity</th>\n",
       "      <th>Price</th>\n",
       "      <th>Total</th>\n",
       "      <th>OrderDate</th>\n",
       "      <th>CustomerCity</th>\n",
       "    </tr>\n",
       "  </thead>\n",
       "  <tbody>\n",
       "    <tr>\n",
       "      <th>0</th>\n",
       "      <td>1</td>\n",
       "      <td>Laptop</td>\n",
       "      <td>Electronics</td>\n",
       "      <td>2</td>\n",
       "      <td>800</td>\n",
       "      <td>1600</td>\n",
       "      <td>10-01-2022</td>\n",
       "      <td>New York</td>\n",
       "    </tr>\n",
       "    <tr>\n",
       "      <th>1</th>\n",
       "      <td>2</td>\n",
       "      <td>Smartphone</td>\n",
       "      <td>Electronics</td>\n",
       "      <td>3</td>\n",
       "      <td>600</td>\n",
       "      <td>1800</td>\n",
       "      <td>15-02-2022</td>\n",
       "      <td>Los Angeles</td>\n",
       "    </tr>\n",
       "    <tr>\n",
       "      <th>2</th>\n",
       "      <td>3</td>\n",
       "      <td>Desk Chair</td>\n",
       "      <td>Furniture</td>\n",
       "      <td>5</td>\n",
       "      <td>150</td>\n",
       "      <td>750</td>\n",
       "      <td>12-03-2022</td>\n",
       "      <td>Chicago</td>\n",
       "    </tr>\n",
       "    <tr>\n",
       "      <th>3</th>\n",
       "      <td>4</td>\n",
       "      <td>Notebook</td>\n",
       "      <td>Stationery</td>\n",
       "      <td>10</td>\n",
       "      <td>2</td>\n",
       "      <td>20</td>\n",
       "      <td>05-04-2022</td>\n",
       "      <td>Houston</td>\n",
       "    </tr>\n",
       "    <tr>\n",
       "      <th>4</th>\n",
       "      <td>5</td>\n",
       "      <td>Monitor</td>\n",
       "      <td>Electronics</td>\n",
       "      <td>1</td>\n",
       "      <td>300</td>\n",
       "      <td>300</td>\n",
       "      <td>21-05-2022</td>\n",
       "      <td>Miami</td>\n",
       "    </tr>\n",
       "  </tbody>\n",
       "</table>\n",
       "</div>"
      ],
      "text/plain": [
       "   OrderID     Product     Category  Quantity  Price  Total   OrderDate  \\\n",
       "0        1      Laptop  Electronics         2    800   1600  10-01-2022   \n",
       "1        2  Smartphone  Electronics         3    600   1800  15-02-2022   \n",
       "2        3  Desk Chair    Furniture         5    150    750  12-03-2022   \n",
       "3        4    Notebook   Stationery        10      2     20  05-04-2022   \n",
       "4        5     Monitor  Electronics         1    300    300  21-05-2022   \n",
       "\n",
       "  CustomerCity  \n",
       "0     New York  \n",
       "1  Los Angeles  \n",
       "2      Chicago  \n",
       "3      Houston  \n",
       "4        Miami  "
      ]
     },
     "execution_count": 58,
     "metadata": {},
     "output_type": "execute_result"
    }
   ],
   "source": [
    "#load data from CSV using `pd.read_csv()`\n",
    "import pandas as pd\n",
    "\n",
    "filepath = \"Products_csv.csv\"\n",
    "df = pd.read_csv(filepath)  #returns Dataframe\n",
    "df"
   ]
  },
  {
   "cell_type": "code",
   "execution_count": 59,
   "id": "1cad2d7c",
   "metadata": {},
   "outputs": [
    {
     "data": {
      "text/html": [
       "<div>\n",
       "<style scoped>\n",
       "    .dataframe tbody tr th:only-of-type {\n",
       "        vertical-align: middle;\n",
       "    }\n",
       "\n",
       "    .dataframe tbody tr th {\n",
       "        vertical-align: top;\n",
       "    }\n",
       "\n",
       "    .dataframe thead th {\n",
       "        text-align: right;\n",
       "    }\n",
       "</style>\n",
       "<table border=\"1\" class=\"dataframe\">\n",
       "  <thead>\n",
       "    <tr style=\"text-align: right;\">\n",
       "      <th></th>\n",
       "      <th>OrderID</th>\n",
       "      <th>Product</th>\n",
       "      <th>Category</th>\n",
       "      <th>Quantity</th>\n",
       "      <th>Price</th>\n",
       "      <th>Total</th>\n",
       "      <th>OrderDate</th>\n",
       "      <th>CustomerCity</th>\n",
       "    </tr>\n",
       "  </thead>\n",
       "  <tbody>\n",
       "    <tr>\n",
       "      <th>0</th>\n",
       "      <td>1</td>\n",
       "      <td>Laptop</td>\n",
       "      <td>Electronics</td>\n",
       "      <td>2</td>\n",
       "      <td>800</td>\n",
       "      <td>1600</td>\n",
       "      <td>10-01-2022</td>\n",
       "      <td>New York</td>\n",
       "    </tr>\n",
       "    <tr>\n",
       "      <th>1</th>\n",
       "      <td>2</td>\n",
       "      <td>Smartphone</td>\n",
       "      <td>Electronics</td>\n",
       "      <td>3</td>\n",
       "      <td>600</td>\n",
       "      <td>1800</td>\n",
       "      <td>15-02-2022</td>\n",
       "      <td>Los Angeles</td>\n",
       "    </tr>\n",
       "    <tr>\n",
       "      <th>2</th>\n",
       "      <td>3</td>\n",
       "      <td>Desk Chair</td>\n",
       "      <td>Furniture</td>\n",
       "      <td>5</td>\n",
       "      <td>150</td>\n",
       "      <td>750</td>\n",
       "      <td>12-03-2022</td>\n",
       "      <td>Chicago</td>\n",
       "    </tr>\n",
       "    <tr>\n",
       "      <th>3</th>\n",
       "      <td>4</td>\n",
       "      <td>Notebook</td>\n",
       "      <td>Stationery</td>\n",
       "      <td>10</td>\n",
       "      <td>2</td>\n",
       "      <td>20</td>\n",
       "      <td>05-04-2022</td>\n",
       "      <td>Houston</td>\n",
       "    </tr>\n",
       "    <tr>\n",
       "      <th>4</th>\n",
       "      <td>5</td>\n",
       "      <td>Monitor</td>\n",
       "      <td>Electronics</td>\n",
       "      <td>1</td>\n",
       "      <td>300</td>\n",
       "      <td>300</td>\n",
       "      <td>21-05-2022</td>\n",
       "      <td>Miami</td>\n",
       "    </tr>\n",
       "  </tbody>\n",
       "</table>\n",
       "</div>"
      ],
      "text/plain": [
       "   OrderID     Product     Category  Quantity  Price  Total   OrderDate  \\\n",
       "0        1      Laptop  Electronics         2    800   1600  10-01-2022   \n",
       "1        2  Smartphone  Electronics         3    600   1800  15-02-2022   \n",
       "2        3  Desk Chair    Furniture         5    150    750  12-03-2022   \n",
       "3        4    Notebook   Stationery        10      2     20  05-04-2022   \n",
       "4        5     Monitor  Electronics         1    300    300  21-05-2022   \n",
       "\n",
       "  CustomerCity  \n",
       "0     New York  \n",
       "1  Los Angeles  \n",
       "2      Chicago  \n",
       "3      Houston  \n",
       "4        Miami  "
      ]
     },
     "execution_count": 59,
     "metadata": {},
     "output_type": "execute_result"
    }
   ],
   "source": [
    "df.head()  #examine loaded file using head() fn ->ret first 5 rows."
   ]
  },
  {
   "cell_type": "markdown",
   "id": "c64debe1",
   "metadata": {},
   "source": [
    "##### Loading data from Excel"
   ]
  },
  {
   "cell_type": "markdown",
   "id": "48635cea",
   "metadata": {},
   "source": [
    "_pip install_ `openpyxl` ->Its a Python library used for working with Excel files(.xlsx)"
   ]
  },
  {
   "cell_type": "code",
   "execution_count": null,
   "id": "63487737",
   "metadata": {},
   "outputs": [
    {
     "name": "stdout",
     "output_type": "stream",
     "text": [
      "Collecting openpyxl\n",
      "  Downloading openpyxl-3.1.5-py2.py3-none-any.whl.metadata (2.5 kB)\n",
      "Collecting et-xmlfile (from openpyxl)\n",
      "  Downloading et_xmlfile-2.0.0-py3-none-any.whl.metadata (2.7 kB)\n",
      "Downloading openpyxl-3.1.5-py2.py3-none-any.whl (250 kB)\n",
      "Downloading et_xmlfile-2.0.0-py3-none-any.whl (18 kB)\n",
      "Installing collected packages: et-xmlfile, openpyxl\n",
      "\n",
      "   -------------------- ------------------- 1/2 [openpyxl]\n",
      "   -------------------- ------------------- 1/2 [openpyxl]\n",
      "   -------------------- ------------------- 1/2 [openpyxl]\n",
      "   -------------------- ------------------- 1/2 [openpyxl]\n",
      "   -------------------- ------------------- 1/2 [openpyxl]\n",
      "   ---------------------------------------- 2/2 [openpyxl]\n",
      "\n",
      "Successfully installed et-xmlfile-2.0.0 openpyxl-3.1.5\n",
      "Note: you may need to restart the kernel to use updated packages.\n"
     ]
    }
   ],
   "source": [
    "%pip install openpyxl   #<Python library used for working with Excel files (.xlsx)"
   ]
  },
  {
   "cell_type": "code",
   "execution_count": 67,
   "id": "4f68b495",
   "metadata": {},
   "outputs": [
    {
     "data": {
      "text/html": [
       "<div>\n",
       "<style scoped>\n",
       "    .dataframe tbody tr th:only-of-type {\n",
       "        vertical-align: middle;\n",
       "    }\n",
       "\n",
       "    .dataframe tbody tr th {\n",
       "        vertical-align: top;\n",
       "    }\n",
       "\n",
       "    .dataframe thead th {\n",
       "        text-align: right;\n",
       "    }\n",
       "</style>\n",
       "<table border=\"1\" class=\"dataframe\">\n",
       "  <thead>\n",
       "    <tr style=\"text-align: right;\">\n",
       "      <th></th>\n",
       "      <th>OrderID</th>\n",
       "      <th>Product</th>\n",
       "      <th>Category</th>\n",
       "      <th>Quantity</th>\n",
       "      <th>Price</th>\n",
       "      <th>Total</th>\n",
       "      <th>OrderDate</th>\n",
       "      <th>CustomerCity</th>\n",
       "    </tr>\n",
       "  </thead>\n",
       "  <tbody>\n",
       "    <tr>\n",
       "      <th>0</th>\n",
       "      <td>1</td>\n",
       "      <td>Laptop</td>\n",
       "      <td>Electronics</td>\n",
       "      <td>2</td>\n",
       "      <td>800</td>\n",
       "      <td>1600</td>\n",
       "      <td>2022-01-10</td>\n",
       "      <td>New York</td>\n",
       "    </tr>\n",
       "    <tr>\n",
       "      <th>1</th>\n",
       "      <td>2</td>\n",
       "      <td>Smartphone</td>\n",
       "      <td>Electronics</td>\n",
       "      <td>3</td>\n",
       "      <td>600</td>\n",
       "      <td>1800</td>\n",
       "      <td>2022-02-15</td>\n",
       "      <td>Los Angeles</td>\n",
       "    </tr>\n",
       "    <tr>\n",
       "      <th>2</th>\n",
       "      <td>3</td>\n",
       "      <td>Desk Chair</td>\n",
       "      <td>Furniture</td>\n",
       "      <td>5</td>\n",
       "      <td>150</td>\n",
       "      <td>750</td>\n",
       "      <td>2022-03-12</td>\n",
       "      <td>Chicago</td>\n",
       "    </tr>\n",
       "    <tr>\n",
       "      <th>3</th>\n",
       "      <td>4</td>\n",
       "      <td>Notebook</td>\n",
       "      <td>Stationery</td>\n",
       "      <td>10</td>\n",
       "      <td>2</td>\n",
       "      <td>20</td>\n",
       "      <td>2022-04-05</td>\n",
       "      <td>Houston</td>\n",
       "    </tr>\n",
       "    <tr>\n",
       "      <th>4</th>\n",
       "      <td>5</td>\n",
       "      <td>Monitor</td>\n",
       "      <td>Electronics</td>\n",
       "      <td>1</td>\n",
       "      <td>300</td>\n",
       "      <td>300</td>\n",
       "      <td>2022-05-21</td>\n",
       "      <td>Miami</td>\n",
       "    </tr>\n",
       "  </tbody>\n",
       "</table>\n",
       "</div>"
      ],
      "text/plain": [
       "   OrderID     Product     Category  Quantity  Price  Total  OrderDate  \\\n",
       "0        1      Laptop  Electronics         2    800   1600 2022-01-10   \n",
       "1        2  Smartphone  Electronics         3    600   1800 2022-02-15   \n",
       "2        3  Desk Chair    Furniture         5    150    750 2022-03-12   \n",
       "3        4    Notebook   Stationery        10      2     20 2022-04-05   \n",
       "4        5     Monitor  Electronics         1    300    300 2022-05-21   \n",
       "\n",
       "  CustomerCity  \n",
       "0     New York  \n",
       "1  Los Angeles  \n",
       "2      Chicago  \n",
       "3      Houston  \n",
       "4        Miami  "
      ]
     },
     "execution_count": 67,
     "metadata": {},
     "output_type": "execute_result"
    }
   ],
   "source": [
    "#import pandas as pd\n",
    "\n",
    "filepath_excel = \"Products_excel.xlsx\"\n",
    "df2 = pd.read_excel(filepath_excel)\n",
    "df2.head()"
   ]
  },
  {
   "cell_type": "markdown",
   "id": "57b367c1",
   "metadata": {},
   "source": [
    "##### Viewing and Accessing data:"
   ]
  },
  {
   "cell_type": "code",
   "execution_count": 71,
   "id": "a2190585",
   "metadata": {},
   "outputs": [
    {
     "data": {
      "text/plain": [
       "0        Laptop\n",
       "1    Smartphone\n",
       "2    Desk Chair\n",
       "3      Notebook\n",
       "4       Monitor\n",
       "Name: Product, dtype: object"
      ]
     },
     "execution_count": 71,
     "metadata": {},
     "output_type": "execute_result"
    }
   ],
   "source": [
    "#get col 'Product' as a series\n",
    "product = df['Product']\n",
    "product"
   ]
  },
  {
   "cell_type": "code",
   "execution_count": 72,
   "id": "3563b1af",
   "metadata": {},
   "outputs": [
    {
     "data": {
      "text/plain": [
       "pandas.core.series.Series"
      ]
     },
     "execution_count": 72,
     "metadata": {},
     "output_type": "execute_result"
    }
   ],
   "source": [
    "type(product)"
   ]
  },
  {
   "cell_type": "code",
   "execution_count": 73,
   "id": "35e0c561",
   "metadata": {},
   "outputs": [
    {
     "data": {
      "text/html": [
       "<div>\n",
       "<style scoped>\n",
       "    .dataframe tbody tr th:only-of-type {\n",
       "        vertical-align: middle;\n",
       "    }\n",
       "\n",
       "    .dataframe tbody tr th {\n",
       "        vertical-align: top;\n",
       "    }\n",
       "\n",
       "    .dataframe thead th {\n",
       "        text-align: right;\n",
       "    }\n",
       "</style>\n",
       "<table border=\"1\" class=\"dataframe\">\n",
       "  <thead>\n",
       "    <tr style=\"text-align: right;\">\n",
       "      <th></th>\n",
       "      <th>Quantity</th>\n",
       "    </tr>\n",
       "  </thead>\n",
       "  <tbody>\n",
       "    <tr>\n",
       "      <th>0</th>\n",
       "      <td>2</td>\n",
       "    </tr>\n",
       "    <tr>\n",
       "      <th>1</th>\n",
       "      <td>3</td>\n",
       "    </tr>\n",
       "    <tr>\n",
       "      <th>2</th>\n",
       "      <td>5</td>\n",
       "    </tr>\n",
       "    <tr>\n",
       "      <th>3</th>\n",
       "      <td>10</td>\n",
       "    </tr>\n",
       "    <tr>\n",
       "      <th>4</th>\n",
       "      <td>1</td>\n",
       "    </tr>\n",
       "  </tbody>\n",
       "</table>\n",
       "</div>"
      ],
      "text/plain": [
       "   Quantity\n",
       "0         2\n",
       "1         3\n",
       "2         5\n",
       "3        10\n",
       "4         1"
      ]
     },
     "execution_count": 73,
     "metadata": {},
     "output_type": "execute_result"
    }
   ],
   "source": [
    "#Get the column 'Quantity' as a dataframe\n",
    "qty = df[['Quantity']]\n",
    "qty"
   ]
  },
  {
   "cell_type": "code",
   "execution_count": 74,
   "id": "4919bc12",
   "metadata": {},
   "outputs": [
    {
     "data": {
      "text/plain": [
       "pandas.core.frame.DataFrame"
      ]
     },
     "execution_count": 74,
     "metadata": {},
     "output_type": "execute_result"
    }
   ],
   "source": [
    "type(qty)"
   ]
  },
  {
   "cell_type": "code",
   "execution_count": 75,
   "id": "ed5a05a3",
   "metadata": {},
   "outputs": [
    {
     "data": {
      "text/html": [
       "<div>\n",
       "<style scoped>\n",
       "    .dataframe tbody tr th:only-of-type {\n",
       "        vertical-align: middle;\n",
       "    }\n",
       "\n",
       "    .dataframe tbody tr th {\n",
       "        vertical-align: top;\n",
       "    }\n",
       "\n",
       "    .dataframe thead th {\n",
       "        text-align: right;\n",
       "    }\n",
       "</style>\n",
       "<table border=\"1\" class=\"dataframe\">\n",
       "  <thead>\n",
       "    <tr style=\"text-align: right;\">\n",
       "      <th></th>\n",
       "      <th>Product</th>\n",
       "      <th>Category</th>\n",
       "      <th>Quantity</th>\n",
       "    </tr>\n",
       "  </thead>\n",
       "  <tbody>\n",
       "    <tr>\n",
       "      <th>0</th>\n",
       "      <td>Laptop</td>\n",
       "      <td>Electronics</td>\n",
       "      <td>2</td>\n",
       "    </tr>\n",
       "    <tr>\n",
       "      <th>1</th>\n",
       "      <td>Smartphone</td>\n",
       "      <td>Electronics</td>\n",
       "      <td>3</td>\n",
       "    </tr>\n",
       "    <tr>\n",
       "      <th>2</th>\n",
       "      <td>Desk Chair</td>\n",
       "      <td>Furniture</td>\n",
       "      <td>5</td>\n",
       "    </tr>\n",
       "    <tr>\n",
       "      <th>3</th>\n",
       "      <td>Notebook</td>\n",
       "      <td>Stationery</td>\n",
       "      <td>10</td>\n",
       "    </tr>\n",
       "    <tr>\n",
       "      <th>4</th>\n",
       "      <td>Monitor</td>\n",
       "      <td>Electronics</td>\n",
       "      <td>1</td>\n",
       "    </tr>\n",
       "  </tbody>\n",
       "</table>\n",
       "</div>"
      ],
      "text/plain": [
       "      Product     Category  Quantity\n",
       "0      Laptop  Electronics         2\n",
       "1  Smartphone  Electronics         3\n",
       "2  Desk Chair    Furniture         5\n",
       "3    Notebook   Stationery        10\n",
       "4     Monitor  Electronics         1"
      ]
     },
     "execution_count": 75,
     "metadata": {},
     "output_type": "execute_result"
    }
   ],
   "source": [
    "multicol = df[['Product', 'Category', 'Quantity']]\n",
    "multicol"
   ]
  },
  {
   "cell_type": "code",
   "execution_count": null,
   "id": "ce83f536",
   "metadata": {},
   "outputs": [
    {
     "data": {
      "text/html": [
       "<div>\n",
       "<style scoped>\n",
       "    .dataframe tbody tr th:only-of-type {\n",
       "        vertical-align: middle;\n",
       "    }\n",
       "\n",
       "    .dataframe tbody tr th {\n",
       "        vertical-align: top;\n",
       "    }\n",
       "\n",
       "    .dataframe thead th {\n",
       "        text-align: right;\n",
       "    }\n",
       "</style>\n",
       "<table border=\"1\" class=\"dataframe\">\n",
       "  <thead>\n",
       "    <tr style=\"text-align: right;\">\n",
       "      <th></th>\n",
       "      <th>OrderID</th>\n",
       "      <th>Product</th>\n",
       "      <th>Category</th>\n",
       "      <th>Quantity</th>\n",
       "      <th>Price</th>\n",
       "      <th>Total</th>\n",
       "      <th>OrderDate</th>\n",
       "      <th>CustomerCity</th>\n",
       "    </tr>\n",
       "  </thead>\n",
       "  <tbody>\n",
       "    <tr>\n",
       "      <th>0</th>\n",
       "      <td>1</td>\n",
       "      <td>Laptop</td>\n",
       "      <td>Electronics</td>\n",
       "      <td>2</td>\n",
       "      <td>800</td>\n",
       "      <td>1600</td>\n",
       "      <td>10-01-2022</td>\n",
       "      <td>New York</td>\n",
       "    </tr>\n",
       "    <tr>\n",
       "      <th>1</th>\n",
       "      <td>2</td>\n",
       "      <td>Smartphone</td>\n",
       "      <td>Electronics</td>\n",
       "      <td>3</td>\n",
       "      <td>600</td>\n",
       "      <td>1800</td>\n",
       "      <td>15-02-2022</td>\n",
       "      <td>Los Angeles</td>\n",
       "    </tr>\n",
       "    <tr>\n",
       "      <th>2</th>\n",
       "      <td>3</td>\n",
       "      <td>Desk Chair</td>\n",
       "      <td>Furniture</td>\n",
       "      <td>5</td>\n",
       "      <td>150</td>\n",
       "      <td>750</td>\n",
       "      <td>12-03-2022</td>\n",
       "      <td>Chicago</td>\n",
       "    </tr>\n",
       "    <tr>\n",
       "      <th>3</th>\n",
       "      <td>4</td>\n",
       "      <td>Notebook</td>\n",
       "      <td>Stationery</td>\n",
       "      <td>10</td>\n",
       "      <td>2</td>\n",
       "      <td>20</td>\n",
       "      <td>05-04-2022</td>\n",
       "      <td>Houston</td>\n",
       "    </tr>\n",
       "    <tr>\n",
       "      <th>4</th>\n",
       "      <td>5</td>\n",
       "      <td>Monitor</td>\n",
       "      <td>Electronics</td>\n",
       "      <td>1</td>\n",
       "      <td>300</td>\n",
       "      <td>300</td>\n",
       "      <td>21-05-2022</td>\n",
       "      <td>Miami</td>\n",
       "    </tr>\n",
       "  </tbody>\n",
       "</table>\n",
       "</div>"
      ],
      "text/plain": [
       "   OrderID     Product     Category  Quantity  Price  Total   OrderDate  \\\n",
       "0        1      Laptop  Electronics         2    800   1600  10-01-2022   \n",
       "1        2  Smartphone  Electronics         3    600   1800  15-02-2022   \n",
       "2        3  Desk Chair    Furniture         5    150    750  12-03-2022   \n",
       "3        4    Notebook   Stationery        10      2     20  05-04-2022   \n",
       "4        5     Monitor  Electronics         1    300    300  21-05-2022   \n",
       "\n",
       "  CustomerCity  \n",
       "0     New York  \n",
       "1  Los Angeles  \n",
       "2      Chicago  \n",
       "3      Houston  \n",
       "4        Miami  "
      ]
     },
     "execution_count": 76,
     "metadata": {},
     "output_type": "execute_result"
    }
   ],
   "source": [
    "df   #see original dataframe below"
   ]
  },
  {
   "cell_type": "code",
   "execution_count": 81,
   "id": "fbf27042",
   "metadata": {},
   "outputs": [
    {
     "name": "stdout",
     "output_type": "stream",
     "text": [
      "1\n"
     ]
    }
   ],
   "source": [
    "#Accessing unique elements - iloc()  --fetch val of 1st row, 1st col\n",
    "y = df.iloc[0,0]\n",
    "print(y)"
   ]
  },
  {
   "cell_type": "code",
   "execution_count": 82,
   "id": "8f3ff167",
   "metadata": {},
   "outputs": [
    {
     "name": "stdout",
     "output_type": "stream",
     "text": [
      "Electronics\n"
     ]
    }
   ],
   "source": [
    "#Access the value on the first row and the third column\n",
    "z = df.iloc[0,2]\n",
    "print(z)"
   ]
  },
  {
   "cell_type": "code",
   "execution_count": 83,
   "id": "d7e28035",
   "metadata": {},
   "outputs": [
    {
     "name": "stdout",
     "output_type": "stream",
     "text": [
      "Laptop\n"
     ]
    }
   ],
   "source": [
    "#Accessing using labels loc() --fetch the val 'Laptop'\n",
    "a = df.loc[0,'Product']\n",
    "print(a)"
   ]
  },
  {
   "cell_type": "code",
   "execution_count": 84,
   "id": "b332425d",
   "metadata": {},
   "outputs": [
    {
     "name": "stdout",
     "output_type": "stream",
     "text": [
      "Furniture\n"
     ]
    }
   ],
   "source": [
    "#Accessing using labels --fetch the value 'Furniture'\n",
    "b = df.loc[2,'Category']\n",
    "print(b)"
   ]
  },
  {
   "cell_type": "markdown",
   "id": "3ee4c843",
   "metadata": {},
   "source": [
    "Practice Slicing:"
   ]
  },
  {
   "cell_type": "code",
   "execution_count": null,
   "id": "88eaf28f",
   "metadata": {},
   "outputs": [
    {
     "data": {
      "text/html": [
       "<div>\n",
       "<style scoped>\n",
       "    .dataframe tbody tr th:only-of-type {\n",
       "        vertical-align: middle;\n",
       "    }\n",
       "\n",
       "    .dataframe tbody tr th {\n",
       "        vertical-align: top;\n",
       "    }\n",
       "\n",
       "    .dataframe thead th {\n",
       "        text-align: right;\n",
       "    }\n",
       "</style>\n",
       "<table border=\"1\" class=\"dataframe\">\n",
       "  <thead>\n",
       "    <tr style=\"text-align: right;\">\n",
       "      <th></th>\n",
       "      <th>OrderID</th>\n",
       "      <th>Product</th>\n",
       "      <th>Category</th>\n",
       "      <th>Quantity</th>\n",
       "      <th>Price</th>\n",
       "      <th>Total</th>\n",
       "      <th>OrderDate</th>\n",
       "      <th>CustomerCity</th>\n",
       "    </tr>\n",
       "  </thead>\n",
       "  <tbody>\n",
       "    <tr>\n",
       "      <th>0</th>\n",
       "      <td>1</td>\n",
       "      <td>Laptop</td>\n",
       "      <td>Electronics</td>\n",
       "      <td>2</td>\n",
       "      <td>800</td>\n",
       "      <td>1600</td>\n",
       "      <td>10-01-2022</td>\n",
       "      <td>New York</td>\n",
       "    </tr>\n",
       "    <tr>\n",
       "      <th>1</th>\n",
       "      <td>2</td>\n",
       "      <td>Smartphone</td>\n",
       "      <td>Electronics</td>\n",
       "      <td>3</td>\n",
       "      <td>600</td>\n",
       "      <td>1800</td>\n",
       "      <td>15-02-2022</td>\n",
       "      <td>Los Angeles</td>\n",
       "    </tr>\n",
       "    <tr>\n",
       "      <th>2</th>\n",
       "      <td>3</td>\n",
       "      <td>Desk Chair</td>\n",
       "      <td>Furniture</td>\n",
       "      <td>5</td>\n",
       "      <td>150</td>\n",
       "      <td>750</td>\n",
       "      <td>12-03-2022</td>\n",
       "      <td>Chicago</td>\n",
       "    </tr>\n",
       "    <tr>\n",
       "      <th>3</th>\n",
       "      <td>4</td>\n",
       "      <td>Notebook</td>\n",
       "      <td>Stationery</td>\n",
       "      <td>10</td>\n",
       "      <td>2</td>\n",
       "      <td>20</td>\n",
       "      <td>05-04-2022</td>\n",
       "      <td>Houston</td>\n",
       "    </tr>\n",
       "    <tr>\n",
       "      <th>4</th>\n",
       "      <td>5</td>\n",
       "      <td>Monitor</td>\n",
       "      <td>Electronics</td>\n",
       "      <td>1</td>\n",
       "      <td>300</td>\n",
       "      <td>300</td>\n",
       "      <td>21-05-2022</td>\n",
       "      <td>Miami</td>\n",
       "    </tr>\n",
       "  </tbody>\n",
       "</table>\n",
       "</div>"
      ],
      "text/plain": [
       "   OrderID     Product     Category  Quantity  Price  Total   OrderDate  \\\n",
       "0        1      Laptop  Electronics         2    800   1600  10-01-2022   \n",
       "1        2  Smartphone  Electronics         3    600   1800  15-02-2022   \n",
       "2        3  Desk Chair    Furniture         5    150    750  12-03-2022   \n",
       "3        4    Notebook   Stationery        10      2     20  05-04-2022   \n",
       "4        5     Monitor  Electronics         1    300    300  21-05-2022   \n",
       "\n",
       "  CustomerCity  \n",
       "0     New York  \n",
       "1  Los Angeles  \n",
       "2      Chicago  \n",
       "3      Houston  \n",
       "4        Miami  "
      ]
     },
     "execution_count": 85,
     "metadata": {},
     "output_type": "execute_result"
    }
   ],
   "source": [
    "df  #ref: dataframe"
   ]
  },
  {
   "cell_type": "code",
   "execution_count": null,
   "id": "1f8adfe0",
   "metadata": {},
   "outputs": [
    {
     "data": {
      "text/html": [
       "<div>\n",
       "<style scoped>\n",
       "    .dataframe tbody tr th:only-of-type {\n",
       "        vertical-align: middle;\n",
       "    }\n",
       "\n",
       "    .dataframe tbody tr th {\n",
       "        vertical-align: top;\n",
       "    }\n",
       "\n",
       "    .dataframe thead th {\n",
       "        text-align: right;\n",
       "    }\n",
       "</style>\n",
       "<table border=\"1\" class=\"dataframe\">\n",
       "  <thead>\n",
       "    <tr style=\"text-align: right;\">\n",
       "      <th></th>\n",
       "      <th>OrderID</th>\n",
       "      <th>Product</th>\n",
       "      <th>Category</th>\n",
       "    </tr>\n",
       "  </thead>\n",
       "  <tbody>\n",
       "    <tr>\n",
       "      <th>0</th>\n",
       "      <td>1</td>\n",
       "      <td>Laptop</td>\n",
       "      <td>Electronics</td>\n",
       "    </tr>\n",
       "    <tr>\n",
       "      <th>1</th>\n",
       "      <td>2</td>\n",
       "      <td>Smartphone</td>\n",
       "      <td>Electronics</td>\n",
       "    </tr>\n",
       "  </tbody>\n",
       "</table>\n",
       "</div>"
      ],
      "text/plain": [
       "   OrderID     Product     Category\n",
       "0        1      Laptop  Electronics\n",
       "1        2  Smartphone  Electronics"
      ]
     },
     "execution_count": 86,
     "metadata": {},
     "output_type": "execute_result"
    }
   ],
   "source": [
    "#slice using iloc()\n",
    "sl = df.iloc[0:2,0:3] #2excluded\n",
    "sl"
   ]
  },
  {
   "cell_type": "code",
   "execution_count": null,
   "id": "f32ca12c",
   "metadata": {},
   "outputs": [
    {
     "data": {
      "text/html": [
       "<div>\n",
       "<style scoped>\n",
       "    .dataframe tbody tr th:only-of-type {\n",
       "        vertical-align: middle;\n",
       "    }\n",
       "\n",
       "    .dataframe tbody tr th {\n",
       "        vertical-align: top;\n",
       "    }\n",
       "\n",
       "    .dataframe thead th {\n",
       "        text-align: right;\n",
       "    }\n",
       "</style>\n",
       "<table border=\"1\" class=\"dataframe\">\n",
       "  <thead>\n",
       "    <tr style=\"text-align: right;\">\n",
       "      <th></th>\n",
       "      <th>OrderID</th>\n",
       "      <th>Product</th>\n",
       "      <th>Category</th>\n",
       "    </tr>\n",
       "  </thead>\n",
       "  <tbody>\n",
       "    <tr>\n",
       "      <th>0</th>\n",
       "      <td>1</td>\n",
       "      <td>Laptop</td>\n",
       "      <td>Electronics</td>\n",
       "    </tr>\n",
       "    <tr>\n",
       "      <th>1</th>\n",
       "      <td>2</td>\n",
       "      <td>Smartphone</td>\n",
       "      <td>Electronics</td>\n",
       "    </tr>\n",
       "  </tbody>\n",
       "</table>\n",
       "</div>"
      ],
      "text/plain": [
       "   OrderID     Product     Category\n",
       "0        1      Laptop  Electronics\n",
       "1        2  Smartphone  Electronics"
      ]
     },
     "execution_count": 87,
     "metadata": {},
     "output_type": "execute_result"
    }
   ],
   "source": [
    "#slice using loc()\n",
    "sl = df.loc[0:1,'OrderID':'Category']  #!excluded\n",
    "sl"
   ]
  },
  {
   "cell_type": "markdown",
   "id": "29bb9bca",
   "metadata": {},
   "source": [
    "##### Quiz:"
   ]
  },
  {
   "cell_type": "code",
   "execution_count": 88,
   "id": "5ad5a5fc",
   "metadata": {},
   "outputs": [
    {
     "data": {
      "text/html": [
       "<div>\n",
       "<style scoped>\n",
       "    .dataframe tbody tr th:only-of-type {\n",
       "        vertical-align: middle;\n",
       "    }\n",
       "\n",
       "    .dataframe tbody tr th {\n",
       "        vertical-align: top;\n",
       "    }\n",
       "\n",
       "    .dataframe thead th {\n",
       "        text-align: right;\n",
       "    }\n",
       "</style>\n",
       "<table border=\"1\" class=\"dataframe\">\n",
       "  <thead>\n",
       "    <tr style=\"text-align: right;\">\n",
       "      <th></th>\n",
       "      <th>OrderID</th>\n",
       "      <th>Product</th>\n",
       "      <th>Category</th>\n",
       "      <th>Quantity</th>\n",
       "      <th>Price</th>\n",
       "      <th>Total</th>\n",
       "      <th>OrderDate</th>\n",
       "      <th>CustomerCity</th>\n",
       "    </tr>\n",
       "  </thead>\n",
       "  <tbody>\n",
       "    <tr>\n",
       "      <th>0</th>\n",
       "      <td>1</td>\n",
       "      <td>Laptop</td>\n",
       "      <td>Electronics</td>\n",
       "      <td>2</td>\n",
       "      <td>800</td>\n",
       "      <td>1600</td>\n",
       "      <td>10-01-2022</td>\n",
       "      <td>New York</td>\n",
       "    </tr>\n",
       "    <tr>\n",
       "      <th>1</th>\n",
       "      <td>2</td>\n",
       "      <td>Smartphone</td>\n",
       "      <td>Electronics</td>\n",
       "      <td>3</td>\n",
       "      <td>600</td>\n",
       "      <td>1800</td>\n",
       "      <td>15-02-2022</td>\n",
       "      <td>Los Angeles</td>\n",
       "    </tr>\n",
       "    <tr>\n",
       "      <th>2</th>\n",
       "      <td>3</td>\n",
       "      <td>Desk Chair</td>\n",
       "      <td>Furniture</td>\n",
       "      <td>5</td>\n",
       "      <td>150</td>\n",
       "      <td>750</td>\n",
       "      <td>12-03-2022</td>\n",
       "      <td>Chicago</td>\n",
       "    </tr>\n",
       "    <tr>\n",
       "      <th>3</th>\n",
       "      <td>4</td>\n",
       "      <td>Notebook</td>\n",
       "      <td>Stationery</td>\n",
       "      <td>10</td>\n",
       "      <td>2</td>\n",
       "      <td>20</td>\n",
       "      <td>05-04-2022</td>\n",
       "      <td>Houston</td>\n",
       "    </tr>\n",
       "    <tr>\n",
       "      <th>4</th>\n",
       "      <td>5</td>\n",
       "      <td>Monitor</td>\n",
       "      <td>Electronics</td>\n",
       "      <td>1</td>\n",
       "      <td>300</td>\n",
       "      <td>300</td>\n",
       "      <td>21-05-2022</td>\n",
       "      <td>Miami</td>\n",
       "    </tr>\n",
       "  </tbody>\n",
       "</table>\n",
       "</div>"
      ],
      "text/plain": [
       "   OrderID     Product     Category  Quantity  Price  Total   OrderDate  \\\n",
       "0        1      Laptop  Electronics         2    800   1600  10-01-2022   \n",
       "1        2  Smartphone  Electronics         3    600   1800  15-02-2022   \n",
       "2        3  Desk Chair    Furniture         5    150    750  12-03-2022   \n",
       "3        4    Notebook   Stationery        10      2     20  05-04-2022   \n",
       "4        5     Monitor  Electronics         1    300    300  21-05-2022   \n",
       "\n",
       "  CustomerCity  \n",
       "0     New York  \n",
       "1  Los Angeles  \n",
       "2      Chicago  \n",
       "3      Houston  \n",
       "4        Miami  "
      ]
     },
     "execution_count": 88,
     "metadata": {},
     "output_type": "execute_result"
    }
   ],
   "source": [
    "df #ref df"
   ]
  },
  {
   "cell_type": "code",
   "execution_count": 91,
   "id": "1fe20682",
   "metadata": {},
   "outputs": [
    {
     "data": {
      "text/plain": [
       "'Electronics'"
      ]
     },
     "execution_count": 91,
     "metadata": {},
     "output_type": "execute_result"
    }
   ],
   "source": [
    "#Access the 2nd row and the 3rd column of df:\n",
    "q = df.iloc[1,2]\n",
    "q"
   ]
  },
  {
   "cell_type": "markdown",
   "id": "d669d84c",
   "metadata": {},
   "source": [
    "**Exercise:**  (//this is interesting)<br>\n",
    "->See the given *list*. Replace the index of `df` with this `new_index`. Create a `new_df` for this purpose:\n",
    "Finally: Select the rows a through d for the column 'CustomerCity'"
   ]
  },
  {
   "cell_type": "code",
   "execution_count": null,
   "id": "593c5ea0",
   "metadata": {},
   "outputs": [
    {
     "name": "stdout",
     "output_type": "stream",
     "text": [
      "a       New York\n",
      "b    Los Angeles\n",
      "c        Chicago\n",
      "d        Houston\n",
      "Name: CustomerCity, dtype: object\n"
     ]
    },
    {
     "data": {
      "text/plain": [
       "pandas.core.series.Series"
      ]
     },
     "execution_count": 102,
     "metadata": {},
     "output_type": "execute_result"
    }
   ],
   "source": [
    "#Given List\n",
    "new_index=['a','b','c','d','e']\n",
    "\n",
    "df_new = df\n",
    "df_new.index = new_index  #accessing '.index' property of DF!\n",
    "\n",
    "#select the rows a through d for the column 'CustomerCity'\n",
    "y = df_new.loc['a':'d','CustomerCity']\n",
    "print(y)\n",
    "type(y)   #y is a Series"
   ]
  },
  {
   "cell_type": "markdown",
   "id": "c3dd6d76",
   "metadata": {},
   "source": [
    "--end--"
   ]
  }
 ],
 "metadata": {
  "kernelspec": {
   "display_name": ".venv",
   "language": "python",
   "name": "python3"
  },
  "language_info": {
   "codemirror_mode": {
    "name": "ipython",
    "version": 3
   },
   "file_extension": ".py",
   "mimetype": "text/x-python",
   "name": "python",
   "nbconvert_exporter": "python",
   "pygments_lexer": "ipython3",
   "version": "3.12.3"
  }
 },
 "nbformat": 4,
 "nbformat_minor": 5
}
