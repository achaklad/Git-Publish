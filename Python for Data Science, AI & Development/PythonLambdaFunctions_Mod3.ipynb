{
 "cells": [
  {
   "cell_type": "markdown",
   "id": "97563978",
   "metadata": {},
   "source": [
    "## Lambda functions<br>\n",
    "Also known as *Anonymous functions*.<br>\n",
    "Syntax:\n",
    "`lambda parameters:expression`"
   ]
  },
  {
   "cell_type": "code",
   "execution_count": 1,
   "id": "ed67af3b",
   "metadata": {},
   "outputs": [
    {
     "data": {
      "text/plain": [
       "6"
      ]
     },
     "execution_count": 1,
     "metadata": {},
     "output_type": "execute_result"
    }
   ],
   "source": [
    "var = lambda x,y: x*y  #lambda params:expression\n",
    "var(2,3)"
   ]
  },
  {
   "cell_type": "markdown",
   "id": "d8469a0b",
   "metadata": {},
   "source": [
    "<u>Use case</u>: When passing a Fn to another fn"
   ]
  },
  {
   "cell_type": "code",
   "execution_count": 2,
   "id": "89a569cb",
   "metadata": {},
   "outputs": [
    {
     "name": "stdout",
     "output_type": "stream",
     "text": [
      "[1, 4, 9, 16, 25]\n"
     ]
    }
   ],
   "source": [
    "#passing fn to another fn:\n",
    "list_of_num = [1,2,3,4,5]   #iterable\n",
    "func_sqr = lambda x: x*x\n",
    "\n",
    "result = map(func_sqr, list_of_num)\n",
    "type(result)  #returns type 'map'\n",
    "print(list(result))  #typecasting to a List"
   ]
  },
  {
   "cell_type": "code",
   "execution_count": 7,
   "id": "6557738f",
   "metadata": {},
   "outputs": [
    {
     "name": "stdout",
     "output_type": "stream",
     "text": [
      "<class 'map'>\n",
      "[1, 4, 9, 16, 25]\n"
     ]
    }
   ],
   "source": [
    "#using the same lambdafn directly\n",
    "list_of_num = [1,2,3,4,5]   #iterable\n",
    "\n",
    "result = map(lambda x: x*x, list_of_num)    #map(fn, iterable)\n",
    "print(type(result))  #returns type 'map'\n",
    "print(list(result))  #typecasting map->List for printing"
   ]
  },
  {
   "cell_type": "markdown",
   "id": "791c74cc",
   "metadata": {},
   "source": [
    "### Python: Higher order functions"
   ]
  },
  {
   "cell_type": "markdown",
   "id": "e3e8e018",
   "metadata": {},
   "source": [
    "#### Map() :\n",
    "> Applies given function to each item of an iterable\n",
    "\n",
    "**String manipulation**: Using `map` fn to convert to lowercase without a loop "
   ]
  },
  {
   "cell_type": "code",
   "execution_count": 18,
   "id": "c74c59cb",
   "metadata": {},
   "outputs": [
    {
     "name": "stdout",
     "output_type": "stream",
     "text": [
      "Input: MARY had A little Lamb\n",
      "Converting to lowercase..\n",
      "['mary', 'had', 'a', 'little', 'lamb']\n"
     ]
    }
   ],
   "source": [
    "text = \"MARY had A little Lamb\"\n",
    "list_strings = text.split()\n",
    "\n",
    "lowercase_strings_map = map(lambda word : word.lower(), list_strings)\n",
    "print(f\"Input: {text}\")\n",
    "print(\"Converting to lowercase..\")\n",
    "print(list(lowercase_strings_map))"
   ]
  },
  {
   "cell_type": "markdown",
   "id": "5b0f1b25",
   "metadata": {},
   "source": [
    "#### Reduce() :\n",
    "> Applies a function cumulatively to the items of an iterable"
   ]
  },
  {
   "cell_type": "code",
   "execution_count": 23,
   "id": "90761c22",
   "metadata": {},
   "outputs": [
    {
     "name": "stdout",
     "output_type": "stream",
     "text": [
      "Sum of numbers: 10\n",
      "Largest number: 4\n"
     ]
    }
   ],
   "source": [
    "#first Import the 'reduce' function from the 'functools' module in Python\n",
    "from functools import reduce\n",
    "\n",
    "list_of_num = [1,2,3,4]\n",
    "\n",
    "#sum of all numbers\n",
    "sum_of_numbers = reduce(lambda x,y : x+y, list_of_num)\n",
    "print(f\"Sum of numbers: {sum_of_numbers}\")\n",
    "\n",
    "#find largest number\n",
    "largest_number = reduce(lambda x,y: x if x>y else y ,list_of_num)\n",
    "print(f\"Largest number: {largest_number}\")"
   ]
  },
  {
   "cell_type": "markdown",
   "id": "6591d65a",
   "metadata": {},
   "source": [
    "#### Filter() :\n",
    "> Returns items from the iterable, for which the Function returns True."
   ]
  },
  {
   "cell_type": "code",
   "execution_count": null,
   "id": "b49759e0",
   "metadata": {},
   "outputs": [
    {
     "name": "stdout",
     "output_type": "stream",
     "text": [
      "[2, 4, 6, 8, 10]\n"
     ]
    }
   ],
   "source": [
    "list_of_num = [1,2,3,4,5,6,7,8,9,10]\n",
    "\n",
    "#find even number\n",
    "even_numbers = filter(lambda x : x%2==0, list_of_num)  #mod=%\n",
    "print(list(even_numbers))"
   ]
  },
  {
   "cell_type": "markdown",
   "id": "32af83c3",
   "metadata": {},
   "source": [
    "--end--"
   ]
  }
 ],
 "metadata": {
  "kernelspec": {
   "display_name": ".venv",
   "language": "python",
   "name": "python3"
  },
  "language_info": {
   "codemirror_mode": {
    "name": "ipython",
    "version": 3
   },
   "file_extension": ".py",
   "mimetype": "text/x-python",
   "name": "python",
   "nbconvert_exporter": "python",
   "pygments_lexer": "ipython3",
   "version": "3.12.3"
  }
 },
 "nbformat": 4,
 "nbformat_minor": 5
}
