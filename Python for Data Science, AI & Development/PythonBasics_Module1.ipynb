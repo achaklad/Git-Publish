{
 "cells": [
  {
   "cell_type": "markdown",
   "id": "536e5328",
   "metadata": {},
   "source": [
    "## Java to Python:\n",
    "\n",
    "##### Getting Started with Jupyter on VSCode:\n",
    "See here: https://code.visualstudio.com/docs/datascience/jupyter-notebooks"
   ]
  },
  {
   "cell_type": "code",
   "execution_count": null,
   "id": "00bf95a5",
   "metadata": {},
   "outputs": [
    {
     "name": "stdout",
     "output_type": "stream",
     "text": [
      "Hello World\n",
      "5 6\n"
     ]
    },
    {
     "data": {
      "text/plain": [
       "(5, 6)"
      ]
     },
     "execution_count": 2,
     "metadata": {},
     "output_type": "execute_result"
    }
   ],
   "source": [
    "print(\"Hello World\")\n",
    "\n",
    "print(5,6)\n",
    "5,6"
   ]
  },
  {
   "cell_type": "markdown",
   "id": "571b5025",
   "metadata": {},
   "source": [
    "👆THIS is **Implicit Printing** in Python: \n",
    "- Implicit printing in Python refers to the automatic display of a variable's value in the <u>interactive interpreter</u> (REPL) without explicitly using the print() function. This behavior is specific to the REPL environment and does not occur when running Python scripts."
   ]
  },
  {
   "cell_type": "code",
   "execution_count": 2,
   "id": "37818b86",
   "metadata": {},
   "outputs": [
    {
     "name": "stdout",
     "output_type": "stream",
     "text": [
      "1\n"
     ]
    }
   ],
   "source": [
    "#Typecasting float to int\n",
    "z = int(1.1)\n",
    "print(z)"
   ]
  },
  {
   "cell_type": "code",
   "execution_count": 3,
   "id": "cfab3ffb",
   "metadata": {},
   "outputs": [
    {
     "name": "stdout",
     "output_type": "stream",
     "text": [
      "3.12.3 (tags/v3.12.3:f6650f9, Apr  9 2024, 14:05:25) [MSC v.1938 64 bit (AMD64)]\n"
     ]
    }
   ],
   "source": [
    "#Importing a library (example)\n",
    "import sys\n",
    "print(sys.version)"
   ]
  },
  {
   "cell_type": "markdown",
   "id": "a33b5121",
   "metadata": {},
   "source": [
    "### Note:\n",
    "* Python is an interpreted language, so execution STOPS at the line in which Error occurs.\n",
    "* Python is Case sensitive."
   ]
  },
  {
   "cell_type": "code",
   "execution_count": 8,
   "id": "840408ab",
   "metadata": {},
   "outputs": [
    {
     "name": "stdout",
     "output_type": "stream",
     "text": [
      "1.This will be printed\n",
      "2.This will ALSO be printed\n"
     ]
    },
    {
     "ename": "NameError",
     "evalue": "name 'frint' is not defined",
     "output_type": "error",
     "traceback": [
      "\u001b[31m---------------------------------------------------------------------------\u001b[39m",
      "\u001b[31mNameError\u001b[39m                                 Traceback (most recent call last)",
      "\u001b[36mCell\u001b[39m\u001b[36m \u001b[39m\u001b[32mIn[8]\u001b[39m\u001b[32m, line 6\u001b[39m\n\u001b[32m      4\u001b[39m \u001b[38;5;28mprint\u001b[39m(\u001b[33m\"\u001b[39m\u001b[33m1.This will be printed\u001b[39m\u001b[33m\"\u001b[39m)\n\u001b[32m      5\u001b[39m \u001b[38;5;28mprint\u001b[39m(\u001b[33m\"\u001b[39m\u001b[33m2.This will ALSO be printed\u001b[39m\u001b[33m\"\u001b[39m)\n\u001b[32m----> \u001b[39m\u001b[32m6\u001b[39m \u001b[43mfrint\u001b[49m(\u001b[33m\"\u001b[39m\u001b[33m3.This will cause an error\u001b[39m\u001b[33m\"\u001b[39m)\n\u001b[32m      7\u001b[39m \u001b[38;5;28mprint\u001b[39m(\u001b[33m\"\u001b[39m\u001b[33m4.This will NOT be printed\u001b[39m\u001b[33m\"\u001b[39m)\n",
      "\u001b[31mNameError\u001b[39m: name 'frint' is not defined"
     ]
    }
   ],
   "source": [
    "#Python is an 'Interpreted Language' >> Stops executing when it encounters an error. \n",
    "#Eg. won't execute last line after error\n",
    "\n",
    "print(\"1.This will be printed\")\n",
    "print(\"2.This will ALSO be printed\")\n",
    "frint(\"3.This will cause an error\")\n",
    "print(\"4.This will NOT be printed\")"
   ]
  },
  {
   "cell_type": "markdown",
   "id": "fda20658",
   "metadata": {},
   "source": [
    "### Typecasting:"
   ]
  },
  {
   "cell_type": "code",
   "execution_count": 1,
   "id": "bd40e36b",
   "metadata": {},
   "outputs": [
    {
     "name": "stdout",
     "output_type": "stream",
     "text": [
      "1\n",
      "StringValue = 23\n"
     ]
    }
   ],
   "source": [
    "x = int(\"1\")\n",
    "print(x)   #this is OK\n",
    "\n",
    "y = str(23)   # .toString()\n",
    "print(\"StringValue = \" + y)   #concatenating Strings"
   ]
  },
  {
   "cell_type": "code",
   "execution_count": null,
   "id": "bbdce6d8",
   "metadata": {},
   "outputs": [
    {
     "data": {
      "text/plain": [
       "float"
      ]
     },
     "execution_count": 200,
     "metadata": {},
     "output_type": "execute_result"
    }
   ],
   "source": [
    "#Checking the type:\n",
    "type(12.0)"
   ]
  },
  {
   "cell_type": "code",
   "execution_count": null,
   "id": "67c57de8",
   "metadata": {},
   "outputs": [
    {
     "data": {
      "text/plain": [
       "sys.float_info(max=1.7976931348623157e+308, max_exp=1024, max_10_exp=308, min=2.2250738585072014e-308, min_exp=-1021, min_10_exp=-307, dig=15, mant_dig=53, epsilon=2.220446049250313e-16, radix=2, rounds=1)"
      ]
     },
     "execution_count": 201,
     "metadata": {},
     "output_type": "execute_result"
    }
   ],
   "source": [
    "import sys\n",
    "sys.float_info"
   ]
  },
  {
   "cell_type": "markdown",
   "id": "27ab2941",
   "metadata": {},
   "source": [
    "#### Data Types\n",
    "Boolean = bool |\n",
    "String = str |\n",
    "Integer = int |\n",
    "float | \n",
    "//There is no decimal it seems"
   ]
  },
  {
   "cell_type": "markdown",
   "id": "01c79318",
   "metadata": {},
   "source": [
    "## Expressions and Variables"
   ]
  },
  {
   "cell_type": "code",
   "execution_count": 2,
   "id": "579c6f9a",
   "metadata": {},
   "outputs": [
    {
     "name": "stdout",
     "output_type": "stream",
     "text": [
      "1\n"
     ]
    }
   ],
   "source": [
    "my_variable = 1\n",
    "print(my_variable)"
   ]
  },
  {
   "cell_type": "code",
   "execution_count": null,
   "id": "c653e410",
   "metadata": {},
   "outputs": [
    {
     "name": "stdout",
     "output_type": "stream",
     "text": [
      "25.666666666666668\n",
      "25\n",
      "None\n"
     ]
    }
   ],
   "source": [
    "print(77/3)\n",
    "print(print(77//3))  #NOTE:Integer division works differently"
   ]
  },
  {
   "cell_type": "markdown",
   "id": "65796118",
   "metadata": {},
   "source": [
    "## Strings"
   ]
  },
  {
   "cell_type": "code",
   "execution_count": 3,
   "id": "3d340e88",
   "metadata": {},
   "outputs": [
    {
     "name": "stdout",
     "output_type": "stream",
     "text": [
      "Michael Jackson\n",
      "Janet Jackson\n"
     ]
    }
   ],
   "source": [
    "Name1 = \"Michael Jackson\"\n",
    "Name2 = 'Janet Jackson'   #Can also use single quotes in Python\n",
    "\n",
    "print(Name1)\n",
    "print(Name2)"
   ]
  },
  {
   "cell_type": "code",
   "execution_count": null,
   "id": "7e1fe8d5",
   "metadata": {},
   "outputs": [
    {
     "name": "stdout",
     "output_type": "stream",
     "text": [
      "Michael Jackson\n"
     ]
    }
   ],
   "source": [
    "print(Name1)   #Jupyter RETAINS prev. code-cell variable! (only within the current Jupyter session, x on restart)"
   ]
  },
  {
   "cell_type": "code",
   "execution_count": 13,
   "id": "b25440e7",
   "metadata": {},
   "outputs": [
    {
     "name": "stdout",
     "output_type": "stream",
     "text": [
      "s\n"
     ]
    }
   ],
   "source": [
    "TestOutput = Name1[-3]\n",
    "print(TestOutput)"
   ]
  },
  {
   "cell_type": "markdown",
   "id": "bd2c679d",
   "metadata": {},
   "source": [
    "##### Slicing strings:"
   ]
  },
  {
   "cell_type": "code",
   "execution_count": 23,
   "id": "b91a7fc5",
   "metadata": {},
   "outputs": [
    {
     "name": "stdout",
     "output_type": "stream",
     "text": [
      "Name1= Michael Jackson\n",
      "Output1= Mich\n",
      "Output2= Jack\n"
     ]
    }
   ],
   "source": [
    "#print(\"Name1 = \" + Name1)\n",
    "#print(f\"Name1 = {Name1}\")  #Using f-string\n",
    "print(\"Name1= {}\".format(Name1))  #Using String.format(args)\n",
    "\n",
    "#1-Slicing from Index0 to Index3 (less than 4)\n",
    "TestOutput = Name1[0:4]\n",
    "    #Note - index starts from '0'\n",
    "print(\"Output1= \" + TestOutput)\n",
    "\n",
    "#2-Slicing from Index8 to Index11 (less than 12)\n",
    "TestOutput = Name1[8:12]\n",
    "print(\"Output2= \" + TestOutput)"
   ]
  },
  {
   "cell_type": "markdown",
   "id": "2c018464",
   "metadata": {},
   "source": [
    "##### String.find()"
   ]
  },
  {
   "cell_type": "code",
   "execution_count": 34,
   "id": "637b44ab",
   "metadata": {},
   "outputs": [
    {
     "name": "stdout",
     "output_type": "stream",
     "text": [
      "result1= 4\n",
      "result2= -1\n"
     ]
    },
    {
     "ename": "TypeError",
     "evalue": "can only concatenate str (not \"int\") to str",
     "output_type": "error",
     "traceback": [
      "\u001b[31m---------------------------------------------------------------------------\u001b[39m",
      "\u001b[31mTypeError\u001b[39m                                 Traceback (most recent call last)",
      "\u001b[36mCell\u001b[39m\u001b[36m \u001b[39m\u001b[32mIn[34]\u001b[39m\u001b[32m, line 7\u001b[39m\n\u001b[32m      5\u001b[39m \u001b[38;5;28mprint\u001b[39m(\u001b[33mf\u001b[39m\u001b[33m\"\u001b[39m\u001b[33mresult1= \u001b[39m\u001b[38;5;132;01m{\u001b[39;00mresult1\u001b[38;5;132;01m}\u001b[39;00m\u001b[33m\"\u001b[39m)\n\u001b[32m      6\u001b[39m \u001b[38;5;28mprint\u001b[39m(\u001b[33mf\u001b[39m\u001b[33m\"\u001b[39m\u001b[33mresult2= \u001b[39m\u001b[38;5;132;01m{\u001b[39;00mresult2\u001b[38;5;132;01m}\u001b[39;00m\u001b[33m\"\u001b[39m)\n\u001b[32m----> \u001b[39m\u001b[32m7\u001b[39m \u001b[38;5;28mprint\u001b[39m(\u001b[33;43m\"\u001b[39;49m\u001b[33;43mresult2=\u001b[39;49m\u001b[33;43m\"\u001b[39;49m\u001b[43m \u001b[49m\u001b[43m+\u001b[49m\u001b[43m \u001b[49m\u001b[43mresult2\u001b[49m)  \u001b[38;5;66;03m#interesting >This results in a typecasting error.\u001b[39;00m\n",
      "\u001b[31mTypeError\u001b[39m: can only concatenate str (not \"int\") to str"
     ]
    }
   ],
   "source": [
    "testString = \"The Bodyguard\"\n",
    "result1 = testString.find(\"Body\")   #string.find > Returns index\n",
    "result2 = testString.find(\"body\")   #not found = -1 (index)\n",
    "\n",
    "print(f\"result1= {result1}\")\n",
    "print(f\"result2= {result2}\")\n",
    "print(\"result2=\" + result2)  #interesting >This results in a typecasting error."
   ]
  },
  {
   "cell_type": "markdown",
   "id": "84ef9d38",
   "metadata": {},
   "source": [
    "#### Length of String (finally)"
   ]
  },
  {
   "cell_type": "code",
   "execution_count": null,
   "id": "9180f70f",
   "metadata": {},
   "outputs": [
    {
     "data": {
      "text/plain": [
       "15"
      ]
     },
     "execution_count": 65,
     "metadata": {},
     "output_type": "execute_result"
    }
   ],
   "source": [
    "len(Name1)\n",
    "#Interesting -> you do not need to assign it to a Var and PRINT output."
   ]
  },
  {
   "cell_type": "code",
   "execution_count": null,
   "id": "5bc25b9a",
   "metadata": {},
   "outputs": [
    {
     "data": {
      "text/plain": [
       "'Concatenation of strings: Michael Jackson & Janet Jackson'"
      ]
     },
     "execution_count": 73,
     "metadata": {},
     "output_type": "execute_result"
    }
   ],
   "source": [
    "\"Concatenation of strings: \" + Name1 + \" & \" + Name2"
   ]
  },
  {
   "cell_type": "code",
   "execution_count": null,
   "id": "b048a52c",
   "metadata": {},
   "outputs": [
    {
     "data": {
      "text/plain": [
       "'Michael JacksonMichael JacksonMichael Jackson'"
      ]
     },
     "execution_count": 74,
     "metadata": {},
     "output_type": "execute_result"
    }
   ],
   "source": [
    "3 * Name1   #You can also 'replicate' Strings"
   ]
  },
  {
   "cell_type": "code",
   "execution_count": null,
   "id": "67b70ebf",
   "metadata": {},
   "outputs": [
    {
     "name": "stdout",
     "output_type": "stream",
     "text": [
      "This is line1 \n",
      " This is line2\n",
      "Michael Jackson \\ is Great\n",
      "Michael Jackson \\ is Great\n"
     ]
    }
   ],
   "source": [
    "#Escape characters\n",
    "print(\"This is line1 \\n This is line2\")\n",
    "\n",
    "# \\t = TAB\n",
    "# actually INSERTING a backslash using a double \\\\ OR using an 'r' prefix\n",
    "print('Michael Jackson \\\\ is Great')\n",
    "print(r'Michael Jackson \\ is Great')"
   ]
  },
  {
   "cell_type": "markdown",
   "id": "dd49bf2a",
   "metadata": {},
   "source": [
    "#### For inserting arguments:"
   ]
  },
  {
   "cell_type": "markdown",
   "id": "fb36f270",
   "metadata": {},
   "source": [
    "##### String.format()"
   ]
  },
  {
   "cell_type": "code",
   "execution_count": null,
   "id": "e18a8932",
   "metadata": {},
   "outputs": [
    {
     "name": "stdout",
     "output_type": "stream",
     "text": [
      "My name is John and I am 50 years old.\n"
     ]
    }
   ],
   "source": [
    "# String.format()\n",
    "name = \"John\"\n",
    "age = 50\n",
    "print(\"My name is {} and I am {} years old.\".format(name,age))"
   ]
  },
  {
   "cell_type": "markdown",
   "id": "dee3cac3",
   "metadata": {},
   "source": [
    "##### f-strings\n",
    "\n",
    "Introduced in Python 3.6, f-strings are a new way to format strings in Python. They are prefixed with 'f' and use curly braces {} to enclose the variables that will be formatted. For example:"
   ]
  },
  {
   "cell_type": "code",
   "execution_count": null,
   "id": "b6f7a17a",
   "metadata": {},
   "outputs": [
    {
     "name": "stdout",
     "output_type": "stream",
     "text": [
      "My name is John and I am 30 years old.\n"
     ]
    }
   ],
   "source": [
    "#f-strings\n",
    "name = \"John\"\n",
    "age = 30\n",
    "print(f\"My name is {name} and I am {age} years old.\")"
   ]
  },
  {
   "cell_type": "code",
   "execution_count": null,
   "id": "49e4b4e9",
   "metadata": {},
   "outputs": [
    {
     "name": "stdout",
     "output_type": "stream",
     "text": [
      "The sum of x and y is 30.\n"
     ]
    }
   ],
   "source": [
    "#f-strings can also evaluate expressions inside the curly braces\n",
    "x = 10\n",
    "y = 20\n",
    "print(f\"The sum of x and y is {x+y}.\")"
   ]
  },
  {
   "cell_type": "markdown",
   "id": "50bcf13e",
   "metadata": {},
   "source": [
    "##### Raw strings\n",
    "Raw strings are a powerful tool for handling textual data, especially when dealing with *escape characters*. \n",
    "By prefixing a string literal with the letter ‘r’, Python treats the string as **raw**, meaning it interprets backslashes as literal characters rather than escape sequences."
   ]
  },
  {
   "cell_type": "code",
   "execution_count": null,
   "id": "b47a6690",
   "metadata": {},
   "outputs": [
    {
     "name": "stdout",
     "output_type": "stream",
     "text": [
      "Regular String: C:\n",
      "ew_folder\file.txt\n"
     ]
    }
   ],
   "source": [
    "#without Raw string\n",
    "regular_string = \"C:\\new_folder\\file.txt\"\n",
    "print(\"Regular String:\", regular_string)"
   ]
  },
  {
   "cell_type": "code",
   "execution_count": null,
   "id": "93129d10",
   "metadata": {},
   "outputs": [
    {
     "name": "stdout",
     "output_type": "stream",
     "text": [
      "Regular String: C:\\new_folder\\file.txt\n"
     ]
    }
   ],
   "source": [
    "#with Raw string in Line1\n",
    "regular_string = r\"C:\\new_folder\\file.txt\"\n",
    "print(\"Regular String:\", regular_string)"
   ]
  },
  {
   "cell_type": "markdown",
   "id": "89304679",
   "metadata": {},
   "source": [
    "##### Split fn"
   ]
  },
  {
   "cell_type": "code",
   "execution_count": null,
   "id": "21dcab76",
   "metadata": {},
   "outputs": [
    {
     "data": {
      "text/plain": [
       "['The', 'BodyGuard']"
      ]
     },
     "execution_count": 138,
     "metadata": {},
     "output_type": "execute_result"
    }
   ],
   "source": [
    "#Split function\n",
    "name = \"The BodyGuard\"\n",
    "split_string = (name.split())  #if no spearator is specified, it treats whitespace as separator\n",
    "split_string"
   ]
  },
  {
   "cell_type": "code",
   "execution_count": null,
   "id": "88dab5a6",
   "metadata": {},
   "outputs": [
    {
     "data": {
      "text/plain": [
       "['123', 'abc,567,xyz']"
      ]
     },
     "execution_count": 146,
     "metadata": {},
     "output_type": "execute_result"
    }
   ],
   "source": [
    "name = \"123,abc,567,xyz\"\n",
    "split_string = (name.split(',',1))  #1st parameter=separator; 2nd parameter=max_split\n",
    "split_string"
   ]
  },
  {
   "cell_type": "markdown",
   "id": "9a9b1fe2",
   "metadata": {},
   "source": [
    "##### RegEx\n",
    "Tool for matching and handling strings. Can be used within: `search, split, findall, sub` functions of `re`\n",
    "\n",
    "Python provides a built-in module called `re`, which allows you to work with regular expressions. \n",
    "First, import the `re` module"
   ]
  },
  {
   "cell_type": "code",
   "execution_count": 12,
   "id": "530f858c",
   "metadata": {},
   "outputs": [
    {
     "name": "stdout",
     "output_type": "stream",
     "text": [
      " resultA = <re.Match object; span=(4, 8), match='Body'> \n",
      " resultB = None\n"
     ]
    }
   ],
   "source": [
    "import re\n",
    "\n",
    "Text1 = \"The BodyGuard is the best album\"\n",
    "\n",
    "#define the pattern to search\n",
    "pattern_A = \"Body\"\n",
    "pattern_B = \"Body1\"\n",
    "\n",
    "#SEARCH pattern\n",
    "resultA = re.search(pattern_A, Text1)\n",
    "#print(\"resultA= \", resultA)\n",
    "resultB = re.search(pattern_B, Text1)\n",
    "#print(\"resultB= \", resultB)    #Note: SHIFT+ENTER to Run\n",
    "\n",
    "print(f\" resultA = {resultA} \\n resultB = {resultB}\")   #\\n for line feed"
   ]
  },
  {
   "cell_type": "markdown",
   "id": "43211e6e",
   "metadata": {},
   "source": [
    "Regular expressions (RegEx) are patterns used to match and manipulate strings of text. There are several special sequences in RegEx that can be used to match specific characters or patterns.\n",
    "\n",
    "| Special Sequence | Meaning                 | \tExample             |\n",
    "| -----------  | ----------------------- | ----------------------|\n",
    "| \\d|Matches any digit character (0-9)|\"123\" matches \"\\d\\d\\d\"|\n",
    "|\\D|Matches any non-digit character|\"hello\" matches \"\\D\\D\\D\\D\\D\"|\n",
    "|\\w|Matches any word character (a-z, A-Z, 0-9, and _)|\"hello_world\" matches \"\\w\\w\\w\\w\\w\\w\\w\\w\\w\\w\\w\"|\n",
    "|\\W|Matches any non-word character|\t\"@#$%\" matches \"\\W\\W\\W\\W\"|\n",
    "|\\s|Matches any whitespace character (space, tab, newline, etc.)|\"hello world\" matches \"\\w\\w\\w\\w\\w\\s\\w\\w\\w\\w\\w\"|\n",
    "|\\S|Matches any non-whitespace character|\"hello_world\" matches \"\\S\\S\\S\\S\\S\\S\\S\\S\\S\\S\\S\"|\n",
    "|\\b|Matches the boundary between a word character and a non-word character|\"cat\" matches \"\\bcat\\b\" in \"The cat sat on the mat\"|\n",
    "|\\B|Matches any position that is not a word boundary|\"cat\" matches \"\\Bcat\\B\" in \"category\" but not in \"The cat sat on the mat\"|"
   ]
  },
  {
   "cell_type": "code",
   "execution_count": 49,
   "id": "7e131e65",
   "metadata": {},
   "outputs": [
    {
     "name": "stdout",
     "output_type": "stream",
     "text": [
      "<re.Match object; span=(19, 29), match='1234567890'>\n",
      "Phone number found: 1234567890\n"
     ]
    }
   ],
   "source": [
    "text = \"My Phone number is 1234567890\"\n",
    "#find any phone numbers\n",
    "pattern = r\"\\d\\d\\d\\d\\d\\d\\d\\d\\d\\d\"  # Matches any ten consecutive digits\n",
    "\n",
    "match = re.search(pattern, text)\n",
    "\n",
    "if match:\n",
    "    print(match)   #this returns a match object if a pattern IS FOUND.\n",
    "    print(\"Phone number found:\", match.group())  #IMP- match.group() helps return the matched text\n",
    "else:\n",
    "    print(\"No match\")"
   ]
  },
  {
   "cell_type": "markdown",
   "id": "31d81b12",
   "metadata": {},
   "source": [
    "Note: See more examples in Module 1 \"Regex\" section, and the QUIZ section.\n",
    "\n",
    "--end--"
   ]
  }
 ],
 "metadata": {
  "kernelspec": {
   "display_name": ".venv",
   "language": "python",
   "name": "python3"
  },
  "language_info": {
   "codemirror_mode": {
    "name": "ipython",
    "version": 3
   },
   "file_extension": ".py",
   "mimetype": "text/x-python",
   "name": "python",
   "nbconvert_exporter": "python",
   "pygments_lexer": "ipython3",
   "version": "3.12.3"
  }
 },
 "nbformat": 4,
 "nbformat_minor": 5
}
