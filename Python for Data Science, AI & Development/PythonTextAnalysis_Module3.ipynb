{
 "cells": [
  {
   "cell_type": "markdown",
   "id": "87d981aa",
   "metadata": {},
   "source": [
    "## Text Analysis in Python:\n",
    "\n",
    "Final Lab exercise of Module3:\"Programming fundamentals\"> {Functions, Objects, Classes, Conditional & Logical operators, Loops, Exception Handling etc.}"
   ]
  },
  {
   "cell_type": "markdown",
   "id": "e113cf94",
   "metadata": {},
   "source": [
    "**Exercise:**<br>\n",
    "Real-life scenario: Analyzing customer-feedback for a Product. You have a large data set of customer reviews in the form of strings, and you want to extract useful information from them using the three identified tasks:\n",
    "1. *Pre-process* the customer feedback by converting all the text to lowercase.\n",
    "2. *Determine Frequency of Words* -for identifying key aspects/topics customers are mentioning in their Reviews.\n",
    "3. *Identify Frequency of a particular word* -e.g. how often the word \"reliable\" appears in customer reviews to gauge customer sentiment about the product's reliability."
   ]
  },
  {
   "cell_type": "code",
   "execution_count": 2,
   "id": "48035451",
   "metadata": {},
   "outputs": [],
   "source": [
    "#Given String for this exercise:\n",
    "\n",
    "givenstring=\"Lorem ipsum dolor! diam amet, consetetur Lorem magna. sed diam nonumy eirmod tempor. diam et labore? et diam magna. et diam amet.\""
   ]
  },
  {
   "cell_type": "code",
   "execution_count": 3,
   "id": "a6893ca6",
   "metadata": {},
   "outputs": [
    {
     "name": "stdout",
     "output_type": "stream",
     "text": [
      "lorem ipsum dolor diam amet consetetur lorem magna sed diam nonumy eirmod tempor diam et labore et diam magna et diam amet\n",
      "\n",
      "Frequency of all the words:\n",
      "{'nonumy': 1, 'et': 3, 'labore': 1, 'lorem': 2, 'eirmod': 1, 'amet': 2, 'diam': 5, 'consetetur': 1, 'tempor': 1, 'magna': 2, 'ipsum': 1, 'sed': 1, 'dolor': 1}\n",
      "\n",
      "Frequency of the words 'lorem':\n",
      "2\n",
      "\n",
      "--Lab Complete--\n"
     ]
    }
   ],
   "source": [
    "# Creating a class called TextAnalyzer to analyze text.\n",
    "class TextAnalyzer(object):\n",
    "    \n",
    "    # The __init__ method initializes the class with a 'text' parameter.\n",
    "    # You will store the provided 'text' as an instance variable.\n",
    "    def __init__(self, text):\n",
    "\n",
    "        # remove punctuation\n",
    "        formatted_text = text.replace('!','').replace('?','').replace(',','').replace('.','')\n",
    "\n",
    "        # make text lowercase\n",
    "        formatted_text = formatted_text.lower()\n",
    "        self.fmtText = formatted_text\n",
    "\n",
    "    def freqAll(self):    \n",
    "        #List for storing all indiv. words        \n",
    "        all_Words_list = self.fmtText.split()  #returns as a List\n",
    "        all_Words_set= set(all_Words_list)  #converting to set to remove duplicate words\n",
    "\n",
    "        #create Dictionary for storing word counts\n",
    "        frequencyMap_dict={}\n",
    "        for word in all_Words_set:\n",
    "            frequencyMap_dict[word] = all_Words_list.count(word)\n",
    "\n",
    "        return frequencyMap_dict\n",
    "    \n",
    "    def freqOf(self, findText):\n",
    "        \n",
    "        freqDict = self.freqAll()\n",
    "\n",
    "        targetWordFrequency_count = freqDict[findText]\n",
    "        return targetWordFrequency_count\n",
    "\n",
    "\n",
    "#TEST CODE for invoking function:\n",
    "objTextAnalyser = TextAnalyzer(givenstring)  #instantiate object, constructor formats the givenString\n",
    "\n",
    "#printing formatted text created by the constructor\n",
    "print(objTextAnalyser.fmtText)\n",
    "\n",
    "#get frequency of all the words\n",
    "print(\"\\nFrequency of all the words:\")\n",
    "print(objTextAnalyser.freqAll())\n",
    "\n",
    "#get frequency of word \"lorem\"\n",
    "print(\"\\nFrequency of the words 'lorem':\")\n",
    "print(objTextAnalyser.freqOf(\"lorem\"))\n",
    "\n",
    "print(\"\\n--Lab Complete--\")"
   ]
  },
  {
   "cell_type": "markdown",
   "id": "906045b7",
   "metadata": {},
   "source": [
    "--end--"
   ]
  }
 ],
 "metadata": {
  "kernelspec": {
   "display_name": ".venv",
   "language": "python",
   "name": "python3"
  },
  "language_info": {
   "codemirror_mode": {
    "name": "ipython",
    "version": 3
   },
   "file_extension": ".py",
   "mimetype": "text/x-python",
   "name": "python",
   "nbconvert_exporter": "python",
   "pygments_lexer": "ipython3",
   "version": "3.12.3"
  }
 },
 "nbformat": 4,
 "nbformat_minor": 5
}
