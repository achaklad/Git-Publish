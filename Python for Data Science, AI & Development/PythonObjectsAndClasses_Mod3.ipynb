{
 "cells": [
  {
   "cell_type": "markdown",
   "id": "5a5776d9",
   "metadata": {},
   "source": [
    "## Objects and Classes (Python)"
   ]
  },
  {
   "cell_type": "markdown",
   "id": "ff0939dc",
   "metadata": {},
   "source": [
    "Finding differences with JAVA/C#, \n",
    "and practicing some coding in Python language."
   ]
  },
  {
   "cell_type": "markdown",
   "id": "09b4161f",
   "metadata": {},
   "source": [
    "> 💡See Onenote for notes: Key differences with JAVA"
   ]
  },
  {
   "cell_type": "markdown",
   "id": "5178d694",
   "metadata": {},
   "source": [
    "#### Hands on Labs\n",
    "\n",
    "Scenario: Car dealership's inventory management system\n",
    "- Writing a Python program to simulate a car dealership's inventory management system. \n",
    "- The system aims to model cars and their attributes accurately."
   ]
  },
  {
   "cell_type": "code",
   "execution_count": 1,
   "id": "576a97dd",
   "metadata": {},
   "outputs": [
    {
     "name": "stdout",
     "output_type": "stream",
     "text": [
      "Car Properties:\n",
      " Make of Car: NissanGTR\n",
      " Maximum Speed: 200kmph\n",
      " Mileage: 20km\n",
      " Color: Yellow\n",
      " Seating capacity: 5\n",
      "\n",
      "Car Properties:\n",
      " Make of Car: Toyota\n",
      " Maximum Speed: 180kmph\n",
      " Mileage: 25km\n",
      " Color: white\n",
      " Seating capacity: 4\n",
      "\n"
     ]
    }
   ],
   "source": [
    "#Defining a Class for Car\n",
    "\n",
    "class Car(object):\n",
    "\n",
    "    #constructor\n",
    "    def __init__(self,car_make, maximum_speed, mileage, color=\"white\", seating_capacity=0):\n",
    "        self.car_make = car_make\n",
    "        self.maximum_speed = maximum_speed \n",
    "        self.mileage = mileage\n",
    "        self.color = color\n",
    "        self.seating_capacity = seating_capacity\n",
    "        pass\n",
    "\n",
    "    #method\n",
    "    def assign_seating_capacity(self, seating_capacity):\n",
    "        self.seating_capacity = seating_capacity\n",
    "\n",
    "    #method\n",
    "    def display_car_properties(self):\n",
    "        print(\"Car Properties:\")\n",
    "        print(f\" Make of Car: {self.car_make}\\n Maximum Speed: {self.maximum_speed}kmph\\n Mileage: {self.mileage}km\\n Color: {self.color}\\n Seating capacity: {self.seating_capacity}\\n\")\n",
    "    \n",
    "    #end of class\n",
    "\n",
    "\n",
    "'''\n",
    "Task-5. Create two objects of the Vehicle class object that \n",
    "Car1: should have a max speed of 200kmph and mileage of 20kmpl with five seating capacities, \n",
    "Car2: should have a max speed of 180kmph and mileage of 25kmpl with four seating capacities.\n",
    "'''\n",
    "\n",
    "#Test code for calling the function \n",
    "car1 = Car(\"NissanGTR\", 200, 20, \"Yellow\", 5)\n",
    "car2 = Car(\"Toyota\",180,25,\"Orange\")  #WORKS: skipping the last Default parameter 'seating_capacity'.\n",
    "#car2 = Car(\"Toyota\",180,25,,5)       #CANNOT DO THIS: \"Invalid syntax\" if you skip a param in the middle (strange)!!\n",
    "\n",
    "#Skipping a parameter in the middle #4parameter-> Using \"named parameters\":\n",
    "car2 = Car(car_make=\"Toyota\",maximum_speed=180,mileage=25,seating_capacity=8)  \n",
    "\n",
    "'''\n",
    "EXPLANATION: Python expects the constructor arguments to be provided on Order, skipping one in the middle\n",
    "without using *named parameters* in the fnCall would require a mechanism to determine \n",
    "which remaining arguments correspond to which parameters.\n",
    "'''\n",
    "\n",
    "car1.seating_capacity = 5;\n",
    "car2.assign_seating_capacity(4)  #assign correct seating capacity=4\n",
    "\n",
    "car1.display_car_properties()\n",
    "car2.display_car_properties()\n"
   ]
  },
  {
   "cell_type": "markdown",
   "id": "f6a510bd",
   "metadata": {},
   "source": [
    "⇛ Alternate implementation with some Learnings (see comments)<br>\n",
    "&nbsp; [AC] -This is like going back to VB6 🤦‍♂️<br>"
   ]
  },
  {
   "cell_type": "code",
   "execution_count": null,
   "id": "0167e385",
   "metadata": {},
   "outputs": [
    {
     "name": "stdout",
     "output_type": "stream",
     "text": [
      "\n",
      "Properties of the Vehicle:\n",
      "Color: white\n",
      "Maximum Speed: 200\n",
      "Mileage: 20\n",
      "Seating Capacity: 5\n",
      "\n",
      "Properties of the Vehicle:\n",
      "Color: white\n",
      "Maximum Speed: 180\n",
      "Mileage: 25\n",
      "Seating Capacity: 4\n"
     ]
    }
   ],
   "source": [
    "class Vehicle:\n",
    "    color = \"white\"   #assigning a default color for all vehicles.\n",
    "\n",
    "    def __init__(self, max_speed, mileage):   #not all parameters need to be initialized in the Constructor*\n",
    "        self.max_speed = max_speed\n",
    "        self.mileage = mileage\n",
    "        self.seating_capacity = None\n",
    "\n",
    "    def assign_seating_capacity(self, seating_capacity):  #*can be assigned later: e.g. seating_capacity\n",
    "        self.seating_capacity = seating_capacity\n",
    "\n",
    "    def display_properties(self):\n",
    "        print(\"\\nProperties of the Vehicle:\")\n",
    "        print(\"Color:\", self.color)      #class attributes can be accessed using \"self.\"\n",
    "        print(\"Maximum Speed:\", self.max_speed)\n",
    "        print(\"Mileage:\", self.mileage)\n",
    "        print(\"Seating Capacity:\", self.seating_capacity)\n",
    "\n",
    "# Creating objects of the Vehicle class\n",
    "vehicle1 = Vehicle(200, 20)\n",
    "vehicle1.assign_seating_capacity(5)\n",
    "vehicle1.display_properties()\n",
    "\n",
    "vehicle2 = Vehicle(180, 25)\n",
    "vehicle2.assign_seating_capacity(4)\n",
    "vehicle2.display_properties()"
   ]
  },
  {
   "cell_type": "markdown",
   "id": "0acd9ccf",
   "metadata": {},
   "source": [
    "--end--"
   ]
  }
 ],
 "metadata": {
  "kernelspec": {
   "display_name": ".venv",
   "language": "python",
   "name": "python3"
  },
  "language_info": {
   "codemirror_mode": {
    "name": "ipython",
    "version": 3
   },
   "file_extension": ".py",
   "mimetype": "text/x-python",
   "name": "python",
   "nbconvert_exporter": "python",
   "pygments_lexer": "ipython3",
   "version": "3.12.3"
  }
 },
 "nbformat": 4,
 "nbformat_minor": 5
}
