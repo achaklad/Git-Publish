{
 "cells": [
  {
   "cell_type": "markdown",
   "id": "a0535a6c",
   "metadata": {},
   "source": [
    "## List & Tuples -\n",
    "--> \"Compound data types\" in Python"
   ]
  },
  {
   "cell_type": "code",
   "execution_count": 4,
   "id": "f50a129d",
   "metadata": {},
   "outputs": [
    {
     "name": "stdout",
     "output_type": "stream",
     "text": [
      "('disco', 10, 1.2, 'hard rock', 10)\n"
     ]
    },
    {
     "data": {
      "text/plain": [
       "3"
      ]
     },
     "execution_count": 4,
     "metadata": {},
     "output_type": "execute_result"
    }
   ],
   "source": [
    "tuple1 = (\"disco\", 10, 1.2)\n",
    "tuple2 = tuple1 + ('hard rock',10)\n",
    "\n",
    "print(tuple2)\n",
    "len(tuple1)   #see: without print"
   ]
  },
  {
   "cell_type": "markdown",
   "id": "bde951e6",
   "metadata": {},
   "source": [
    "##### Lists: Cloning"
   ]
  },
  {
   "cell_type": "code",
   "execution_count": null,
   "id": "c0316efa",
   "metadata": {},
   "outputs": [
    {
     "name": "stdout",
     "output_type": "stream",
     "text": [
      "ListB = ['human', 'being']\n",
      "ListA = ['human', 'robot']\n",
      "ListB = ['human', 'being']\n"
     ]
    }
   ],
   "source": [
    "ListA = ['human', 'being']\n",
    "ListB = ListA[:]  #Cloning list A\n",
    "print(f\"ListB = {ListB}\")\n",
    "\n",
    "ListA[1]=\"robot\";\n",
    "print(f\"ListA = {ListA}\")\n",
    "print(f\"ListB = {ListB}\")\n",
    "#See that B is a new list, impervious to changes to A"
   ]
  },
  {
   "cell_type": "code",
   "execution_count": 7,
   "id": "97a269bd",
   "metadata": {},
   "outputs": [
    {
     "name": "stdout",
     "output_type": "stream",
     "text": [
      "Help on list object:\n",
      "\n",
      "class list(object)\n",
      " |  list(iterable=(), /)\n",
      " |\n",
      " |  Built-in mutable sequence.\n",
      " |\n",
      " |  If no argument is given, the constructor creates a new empty list.\n",
      " |  The argument must be an iterable if specified.\n",
      " |\n",
      " |  Methods defined here:\n",
      " |\n",
      " |  __add__(self, value, /)\n",
      " |      Return self+value.\n",
      " |\n",
      " |  __contains__(self, key, /)\n",
      " |      Return bool(key in self).\n",
      " |\n",
      " |  __delitem__(self, key, /)\n",
      " |      Delete self[key].\n",
      " |\n",
      " |  __eq__(self, value, /)\n",
      " |      Return self==value.\n",
      " |\n",
      " |  __ge__(self, value, /)\n",
      " |      Return self>=value.\n",
      " |\n",
      " |  __getattribute__(self, name, /)\n",
      " |      Return getattr(self, name).\n",
      " |\n",
      " |  __getitem__(self, index, /)\n",
      " |      Return self[index].\n",
      " |\n",
      " |  __gt__(self, value, /)\n",
      " |      Return self>value.\n",
      " |\n",
      " |  __iadd__(self, value, /)\n",
      " |      Implement self+=value.\n",
      " |\n",
      " |  __imul__(self, value, /)\n",
      " |      Implement self*=value.\n",
      " |\n",
      " |  __init__(self, /, *args, **kwargs)\n",
      " |      Initialize self.  See help(type(self)) for accurate signature.\n",
      " |\n",
      " |  __iter__(self, /)\n",
      " |      Implement iter(self).\n",
      " |\n",
      " |  __le__(self, value, /)\n",
      " |      Return self<=value.\n",
      " |\n",
      " |  __len__(self, /)\n",
      " |      Return len(self).\n",
      " |\n",
      " |  __lt__(self, value, /)\n",
      " |      Return self<value.\n",
      " |\n",
      " |  __mul__(self, value, /)\n",
      " |      Return self*value.\n",
      " |\n",
      " |  __ne__(self, value, /)\n",
      " |      Return self!=value.\n",
      " |\n",
      " |  __repr__(self, /)\n",
      " |      Return repr(self).\n",
      " |\n",
      " |  __reversed__(self, /)\n",
      " |      Return a reverse iterator over the list.\n",
      " |\n",
      " |  __rmul__(self, value, /)\n",
      " |      Return value*self.\n",
      " |\n",
      " |  __setitem__(self, key, value, /)\n",
      " |      Set self[key] to value.\n",
      " |\n",
      " |  __sizeof__(self, /)\n",
      " |      Return the size of the list in memory, in bytes.\n",
      " |\n",
      " |  append(self, object, /)\n",
      " |      Append object to the end of the list.\n",
      " |\n",
      " |  clear(self, /)\n",
      " |      Remove all items from list.\n",
      " |\n",
      " |  copy(self, /)\n",
      " |      Return a shallow copy of the list.\n",
      " |\n",
      " |  count(self, value, /)\n",
      " |      Return number of occurrences of value.\n",
      " |\n",
      " |  extend(self, iterable, /)\n",
      " |      Extend list by appending elements from the iterable.\n",
      " |\n",
      " |  index(self, value, start=0, stop=9223372036854775807, /)\n",
      " |      Return first index of value.\n",
      " |\n",
      " |      Raises ValueError if the value is not present.\n",
      " |\n",
      " |  insert(self, index, object, /)\n",
      " |      Insert object before index.\n",
      " |\n",
      " |  pop(self, index=-1, /)\n",
      " |      Remove and return item at index (default last).\n",
      " |\n",
      " |      Raises IndexError if list is empty or index is out of range.\n",
      " |\n",
      " |  remove(self, value, /)\n",
      " |      Remove first occurrence of value.\n",
      " |\n",
      " |      Raises ValueError if the value is not present.\n",
      " |\n",
      " |  reverse(self, /)\n",
      " |      Reverse *IN PLACE*.\n",
      " |\n",
      " |  sort(self, /, *, key=None, reverse=False)\n",
      " |      Sort the list in ascending order and return None.\n",
      " |\n",
      " |      The sort is in-place (i.e. the list itself is modified) and stable (i.e. the\n",
      " |      order of two equal elements is maintained).\n",
      " |\n",
      " |      If a key function is given, apply it once to each list item and sort them,\n",
      " |      ascending or descending, according to their function values.\n",
      " |\n",
      " |      The reverse flag can be set to sort in descending order.\n",
      " |\n",
      " |  ----------------------------------------------------------------------\n",
      " |  Class methods defined here:\n",
      " |\n",
      " |  __class_getitem__(...)\n",
      " |      See PEP 585\n",
      " |\n",
      " |  ----------------------------------------------------------------------\n",
      " |  Static methods defined here:\n",
      " |\n",
      " |  __new__(*args, **kwargs)\n",
      " |      Create and return a new object.  See help(type) for accurate signature.\n",
      " |\n",
      " |  ----------------------------------------------------------------------\n",
      " |  Data and other attributes defined here:\n",
      " |\n",
      " |  __hash__ = None\n",
      "\n"
     ]
    }
   ],
   "source": [
    "help(ListA)"
   ]
  },
  {
   "cell_type": "code",
   "execution_count": null,
   "id": "e5529397",
   "metadata": {},
   "outputs": [
    {
     "name": "stdout",
     "output_type": "stream",
     "text": [
      "This is Line 1 output.\n",
      "This is Line 2 output.\n"
     ]
    }
   ],
   "source": [
    "## New line feed in print() = \\n\n",
    "\n",
    "print('This is Line 1 output.\\n' + 'This is Line 2 output.')"
   ]
  },
  {
   "cell_type": "markdown",
   "id": "9201f8b2",
   "metadata": {},
   "source": [
    "##### List: pop()\n",
    "\n",
    "- `pop()` method is another way to <u>remove</u> an element from a list in Python. It \"removes and returns\" the element at the specified index. \\n \n",
    "- If you don't provide an index to the `pop()` method, it will 'remove and return' the last element of the list by default"
   ]
  },
  {
   "cell_type": "code",
   "execution_count": 11,
   "id": "cfe90e57",
   "metadata": {},
   "outputs": [
    {
     "name": "stdout",
     "output_type": "stream",
     "text": [
      "40\n",
      "Modified my_list = [10, 20, 30, 50]\n"
     ]
    }
   ],
   "source": [
    "my_list = [10, 20, 30, 40, 50] \n",
    "removedElement = my_list.pop(3) \n",
    "print(removedElement) \n",
    "print(f\"Modified my_list = {my_list}\")"
   ]
  },
  {
   "cell_type": "markdown",
   "id": "b2d2eae4",
   "metadata": {},
   "source": [
    "##### Tuple: Sorting"
   ]
  },
  {
   "cell_type": "code",
   "execution_count": null,
   "id": "bcf89ee5",
   "metadata": {},
   "outputs": [
    {
     "name": "stdout",
     "output_type": "stream",
     "text": [
      "(0, 9, 6, 5, 10, 8, 9, 6, 2)\n"
     ]
    },
    {
     "data": {
      "text/plain": [
       "[0, 2, 5, 6, 6, 8, 9, 9, 10]"
      ]
     },
     "execution_count": 2,
     "metadata": {},
     "output_type": "execute_result"
    }
   ],
   "source": [
    "Ratings = (0, 9, 6, 5, 10, 8, 9, 6, 2)\n",
    "print(Ratings)\n",
    "#using `sorted` function in Python\n",
    "sorted(Ratings)"
   ]
  },
  {
   "cell_type": "markdown",
   "id": "716443cf",
   "metadata": {},
   "source": [
    "##### Tuple.count()\n",
    "- Used to count how many times a 'specified element' <u>Appears</u> in the tuple"
   ]
  },
  {
   "cell_type": "code",
   "execution_count": null,
   "id": "0e6f5550",
   "metadata": {},
   "outputs": [
    {
     "name": "stdout",
     "output_type": "stream",
     "text": [
      "count = 2\n"
     ]
    }
   ],
   "source": [
    "fruits = (\"apple\", \"banana\", \"apple\", \"orange\")\n",
    "count = fruits.count(\"apple\")\n",
    "print(f\"count = {count}\")"
   ]
  },
  {
   "cell_type": "markdown",
   "id": "4f7c8a67",
   "metadata": {},
   "source": [
    "##### Tuple.index()\n",
    "- used to find the first occurrence of a specified value and returns its position (index). If the value is not found, it raises a ValueError."
   ]
  },
  {
   "cell_type": "code",
   "execution_count": null,
   "id": "b3f20523",
   "metadata": {},
   "outputs": [
    {
     "name": "stdout",
     "output_type": "stream",
     "text": [
      "('apple', 'banana', 'apple', 'orange')\n"
     ]
    },
    {
     "data": {
      "text/plain": [
       "0"
      ]
     },
     "execution_count": 20,
     "metadata": {},
     "output_type": "execute_result"
    }
   ],
   "source": [
    "print(fruits)\n",
    "fruits.index(\"apple\")  #returns the index of the first occurance of 'apple'"
   ]
  },
  {
   "cell_type": "markdown",
   "id": "7f67ee51",
   "metadata": {},
   "source": [
    "##### Tuple.sum()\n",
    "- used to calculate the sum of all elements in a tuple, provided that the elements are numeric (integers or floats)."
   ]
  },
  {
   "cell_type": "code",
   "execution_count": 22,
   "id": "d0364966",
   "metadata": {},
   "outputs": [
    {
     "name": "stdout",
     "output_type": "stream",
     "text": [
      "40\n"
     ]
    }
   ],
   "source": [
    "numbers = (10, 20, 10)\n",
    "print(sum(numbers))"
   ]
  },
  {
   "cell_type": "markdown",
   "id": "9b224bc3",
   "metadata": {},
   "source": [
    "##### Tuple.min() and max()\n",
    "- Find the smallest (min()) or largest (max()) element in a tuple."
   ]
  },
  {
   "cell_type": "code",
   "execution_count": null,
   "id": "730f4a5b",
   "metadata": {},
   "outputs": [
    {
     "name": "stdout",
     "output_type": "stream",
     "text": [
      "5\n",
      "30\n"
     ]
    }
   ],
   "source": [
    "numbers = (10, 20, 5, 30)\n",
    "print(min(numbers))  \n",
    "print(max(numbers))"
   ]
  },
  {
   "cell_type": "markdown",
   "id": "3431e29e",
   "metadata": {},
   "source": [
    "## Dictionaries\n",
    "\n",
    "Remember:\n",
    "- ( ), [ ], { } \n",
    "- tuple, list, dict"
   ]
  },
  {
   "cell_type": "code",
   "execution_count": 39,
   "id": "952a94d0",
   "metadata": {},
   "outputs": [],
   "source": [
    "#Create a DICT\n",
    "release_year_dict = {\"Thriller\": \"1982\", \"Back in Black\": \"1980\", \\\n",
    "                    \"The Dark Side of the Moon\": \"1973\", \"The Bodyguard\": \"1992\", \\\n",
    "                    \"Bat Out of Hell\": \"1977\", \"Their Greatest Hits (1971-1975)\": \"1976\", \\\n",
    "                    \"Saturday Night Fever\": \"1977\", \"Rumours\": \"1977\"}\n",
    "release_year_dict\n",
    "\n",
    "#Example 2:\n",
    "album_sales_dict = {}   #If you need to declare a new DICT\n",
    "album_sales_dict = {\"Back in Black\":50, 'The Bodyguard':50, 'Thriller':65}\n",
    "\n",
    "#REMEMBER => {} curly-brackets for DICT, not [] like LISTS;"
   ]
  },
  {
   "cell_type": "code",
   "execution_count": 25,
   "id": "9687b5f8",
   "metadata": {},
   "outputs": [
    {
     "data": {
      "text/plain": [
       "'1982'"
      ]
     },
     "execution_count": 25,
     "metadata": {},
     "output_type": "execute_result"
    }
   ],
   "source": [
    "release_year_dict['Thriller']"
   ]
  },
  {
   "cell_type": "code",
   "execution_count": null,
   "id": "7b0a5790",
   "metadata": {},
   "outputs": [
    {
     "data": {
      "text/plain": [
       "'1977'"
      ]
     },
     "execution_count": 29,
     "metadata": {},
     "output_type": "execute_result"
    }
   ],
   "source": [
    "release_year_dict['Rumours']    #remember the keys are case sensitive"
   ]
  },
  {
   "cell_type": "code",
   "execution_count": 31,
   "id": "f886caa1",
   "metadata": {},
   "outputs": [
    {
     "data": {
      "text/plain": [
       "{'Thriller': '1982',\n",
       " 'Back in Black': '1980',\n",
       " 'The Dark Side of the Moon': '1973',\n",
       " 'The Bodyguard': '1992',\n",
       " 'Bat Out of Hell': '1977',\n",
       " 'Their Greatest Hits (1971-1975)': '1976',\n",
       " 'Saturday Night Fever': '1977',\n",
       " 'Rumours': '1977'}"
      ]
     },
     "execution_count": 31,
     "metadata": {},
     "output_type": "execute_result"
    }
   ],
   "source": [
    "release_year_dict    #this is the dictionary"
   ]
  },
  {
   "cell_type": "code",
   "execution_count": 32,
   "id": "783c3909",
   "metadata": {},
   "outputs": [
    {
     "data": {
      "text/plain": [
       "dict_keys(['Thriller', 'Back in Black', 'The Dark Side of the Moon', 'The Bodyguard', 'Bat Out of Hell', 'Their Greatest Hits (1971-1975)', 'Saturday Night Fever', 'Rumours'])"
      ]
     },
     "execution_count": 32,
     "metadata": {},
     "output_type": "execute_result"
    }
   ],
   "source": [
    "#get all keys\n",
    "release_year_dict.keys()"
   ]
  },
  {
   "cell_type": "code",
   "execution_count": 33,
   "id": "30e6af24",
   "metadata": {},
   "outputs": [
    {
     "data": {
      "text/plain": [
       "dict_values(['1982', '1980', '1973', '1992', '1977', '1976', '1977', '1977'])"
      ]
     },
     "execution_count": 33,
     "metadata": {},
     "output_type": "execute_result"
    }
   ],
   "source": [
    "#get all values\n",
    "release_year_dict.values()"
   ]
  },
  {
   "cell_type": "code",
   "execution_count": 34,
   "id": "47fafad6",
   "metadata": {},
   "outputs": [],
   "source": [
    "#Deleting an entry of the Dictionary\n",
    "del(release_year_dict['Thriller'])"
   ]
  },
  {
   "cell_type": "code",
   "execution_count": null,
   "id": "384b5989",
   "metadata": {},
   "outputs": [
    {
     "name": "stdout",
     "output_type": "stream",
     "text": [
      "False\n"
     ]
    },
    {
     "data": {
      "text/plain": [
       "True"
      ]
     },
     "execution_count": 37,
     "metadata": {},
     "output_type": "execute_result"
    }
   ],
   "source": [
    "#check if element is IN Dict\n",
    "print('Thriller' in release_year_dict)\n",
    "'Bat Out of Hell' in release_year_dict   #again remember case-sensitive"
   ]
  },
  {
   "cell_type": "markdown",
   "id": "8db58d24",
   "metadata": {},
   "source": [
    "## Sets"
   ]
  },
  {
   "cell_type": "markdown",
   "id": "f4e5b222",
   "metadata": {},
   "source": [
    "Create an empty set:"
   ]
  },
  {
   "cell_type": "code",
   "execution_count": 49,
   "id": "e0c42fb4",
   "metadata": {},
   "outputs": [
    {
     "data": {
      "text/plain": [
       "set()"
      ]
     },
     "execution_count": 49,
     "metadata": {},
     "output_type": "execute_result"
    }
   ],
   "source": [
    "set_name = set()\n",
    "set_name"
   ]
  },
  {
   "cell_type": "markdown",
   "id": "9c4edd61",
   "metadata": {},
   "source": [
    "##### Some interesting methods:\n",
    "`set.update()` - The `update()` method adds elements from another iterable into the set. It maintains the uniqueness of elements."
   ]
  },
  {
   "cell_type": "code",
   "execution_count": null,
   "id": "5f72197a",
   "metadata": {},
   "outputs": [
    {
     "data": {
      "text/plain": [
       "{'Alice', 'Harry', 'Jason', 'Tom'}"
      ]
     },
     "execution_count": 46,
     "metadata": {},
     "output_type": "execute_result"
    }
   ],
   "source": [
    "# update() fn:\n",
    "set_name = {\"Tom\", \"Harry\"}\n",
    "set_name.update([\"Alice\",\"Jason\", \"Tom\"])\n",
    "set_name   #Tom is deduped"
   ]
  },
  {
   "cell_type": "markdown",
   "id": "3156ba75",
   "metadata": {},
   "source": [
    "`discard()` function - removes a specific element from the set. Ignores if the element is not found."
   ]
  },
  {
   "cell_type": "code",
   "execution_count": 47,
   "id": "47f7386c",
   "metadata": {},
   "outputs": [
    {
     "data": {
      "text/plain": [
       "{'Alice', 'Harry', 'Jason'}"
      ]
     },
     "execution_count": 47,
     "metadata": {},
     "output_type": "execute_result"
    }
   ],
   "source": [
    "set_name.discard('Tom')\n",
    "set_name"
   ]
  },
  {
   "cell_type": "markdown",
   "id": "c648eb9b",
   "metadata": {},
   "source": [
    "--end--"
   ]
  }
 ],
 "metadata": {
  "kernelspec": {
   "display_name": "Python 3",
   "language": "python",
   "name": "python3"
  },
  "language_info": {
   "codemirror_mode": {
    "name": "ipython",
    "version": 3
   },
   "file_extension": ".py",
   "mimetype": "text/x-python",
   "name": "python",
   "nbconvert_exporter": "python",
   "pygments_lexer": "ipython3",
   "version": "3.12.3"
  }
 },
 "nbformat": 4,
 "nbformat_minor": 5
}
