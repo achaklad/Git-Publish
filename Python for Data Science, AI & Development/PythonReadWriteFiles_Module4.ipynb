{
 "cells": [
  {
   "cell_type": "markdown",
   "id": "bf3a58b2",
   "metadata": {},
   "source": [
    "## Reading & Writing files"
   ]
  },
  {
   "cell_type": "markdown",
   "id": "d70b2d23",
   "metadata": {},
   "source": [
    "### Reading files"
   ]
  },
  {
   "cell_type": "code",
   "execution_count": 1,
   "id": "3237a34c",
   "metadata": {},
   "outputs": [
    {
     "name": "stderr",
     "output_type": "stream",
     "text": [
      "'wget' is not recognized as an internal or external command,\n",
      "operable program or batch file.\n"
     ]
    }
   ],
   "source": [
    "# Uncomment these if working locally, else let the following code cell run.\n",
    "\n",
    "import urllib.request\n",
    "url = 'https://cf-courses-data.s3.us.cloud-object-storage.appdomain.cloud/IBMDeveloperSkillsNetwork-PY0101EN-SkillsNetwork/labs/Module%204/data/example1.txt'\n",
    "filename = 'Example1.txt'\n",
    "urllib.request.urlretrieve(url, filename)\n",
    "\n",
    "# Download Example file\n",
    "!wget Example1.txt https://cf-courses-data.s3.us.cloud-object-storage.appdomain.cloud/IBMDeveloperSkillsNetwork-PY0101EN-SkillsNetwork/labs/Module%204/data/example1.txt"
   ]
  },
  {
   "cell_type": "code",
   "execution_count": 3,
   "id": "288ef51c",
   "metadata": {},
   "outputs": [
    {
     "name": "stdout",
     "output_type": "stream",
     "text": [
      ".name = Example1.txt\n",
      ".mode = r\n"
     ]
    }
   ],
   "source": [
    "file1 = open(\"Example1.txt\",\"r\")\n",
    "print(f\".name = {file1.name}\")\n",
    "print(f\".mode = {file1.mode}\")"
   ]
  },
  {
   "cell_type": "code",
   "execution_count": null,
   "id": "1e8db1f8",
   "metadata": {},
   "outputs": [
    {
     "data": {
      "text/plain": [
       "'This is line 1 \\nThis is line 2\\nThis is line 3'"
      ]
     },
     "execution_count": 4,
     "metadata": {},
     "output_type": "execute_result"
    }
   ],
   "source": [
    "# Read the file\n",
    "fileContent = file1.read()\n",
    "fileContent   #when you print this, newlines will take effect"
   ]
  },
  {
   "cell_type": "code",
   "execution_count": null,
   "id": "4cd3f637",
   "metadata": {},
   "outputs": [
    {
     "name": "stdout",
     "output_type": "stream",
     "text": [
      "This is line 1 \n",
      "This is line 2\n",
      "This is line 3\n"
     ]
    }
   ],
   "source": [
    "print(fileContent)  # Print the file with '\\n' as a new line"
   ]
  },
  {
   "cell_type": "code",
   "execution_count": 6,
   "id": "6bf45a57",
   "metadata": {},
   "outputs": [
    {
     "data": {
      "text/plain": [
       "str"
      ]
     },
     "execution_count": 6,
     "metadata": {},
     "output_type": "execute_result"
    }
   ],
   "source": [
    "type(fileContent)"
   ]
  },
  {
   "cell_type": "code",
   "execution_count": 8,
   "id": "60040622",
   "metadata": {},
   "outputs": [],
   "source": [
    "# Close file after finish\n",
    "file1.close()"
   ]
  },
  {
   "cell_type": "markdown",
   "id": "1ae8f07c",
   "metadata": {},
   "source": [
    "### Better Way to Open a File> the `with open` statements\n",
    "Using the `with open` statement combination is better> it *automatically closes* the file even if the code encounters an exception. The code will run everything in the indent block then close the file object."
   ]
  },
  {
   "cell_type": "code",
   "execution_count": 31,
   "id": "ed23677a",
   "metadata": {},
   "outputs": [
    {
     "name": "stdout",
     "output_type": "stream",
     "text": [
      "This is line 1 \n",
      "This is line 2\n",
      "This is line 3\n"
     ]
    }
   ],
   "source": [
    "with open(\"example1.txt\",\"r\") as fileObj:\n",
    "    fContent = fileObj.read()\n",
    "    print(fContent)\n",
    "    #fileobj is automatically-closed at the end of this block."
   ]
  },
  {
   "cell_type": "code",
   "execution_count": 32,
   "id": "8698e914",
   "metadata": {},
   "outputs": [
    {
     "data": {
      "text/plain": [
       "True"
      ]
     },
     "execution_count": 32,
     "metadata": {},
     "output_type": "execute_result"
    }
   ],
   "source": [
    "# Verify if the file is closed\n",
    "fileObj.closed"
   ]
  },
  {
   "cell_type": "markdown",
   "id": "3db41211",
   "metadata": {},
   "source": [
    "> You can still read the file content from the local/global 'string object' that stored the file-content."
   ]
  },
  {
   "cell_type": "code",
   "execution_count": 33,
   "id": "9fa37b71",
   "metadata": {},
   "outputs": [
    {
     "name": "stdout",
     "output_type": "stream",
     "text": [
      "This is line 1 \n",
      "This is line 2\n",
      "This is line 3\n"
     ]
    },
    {
     "data": {
      "text/plain": [
       "str"
      ]
     },
     "execution_count": 33,
     "metadata": {},
     "output_type": "execute_result"
    }
   ],
   "source": [
    "#print the file content read\n",
    "print(fContent)\n",
    "type(fContent)"
   ]
  },
  {
   "cell_type": "code",
   "execution_count": 34,
   "id": "1c867747",
   "metadata": {},
   "outputs": [
    {
     "name": "stdout",
     "output_type": "stream",
     "text": [
      "This\n"
     ]
    }
   ],
   "source": [
    "# Read first four characters\n",
    "\n",
    "with open(\"example1.txt\",\"r\") as file1:\n",
    "    fileContent = file1.readline(4)\n",
    "    print(fileContent)"
   ]
  },
  {
   "cell_type": "code",
   "execution_count": 35,
   "id": "ce4e637e",
   "metadata": {},
   "outputs": [
    {
     "name": "stdout",
     "output_type": "stream",
     "text": [
      "This\n",
      " is \n",
      "line 1 \n",
      "\n",
      "This is line 2\n"
     ]
    }
   ],
   "source": [
    "# Read certain amount of characters\n",
    "\n",
    "with open(\"example1.txt\", \"r\") as file1:\n",
    "    print(file1.read(4))\n",
    "    print(file1.read(4))\n",
    "    print(file1.read(7))\n",
    "    print(file1.read(15))"
   ]
  },
  {
   "cell_type": "code",
   "execution_count": 36,
   "id": "13f64d3f",
   "metadata": {},
   "outputs": [
    {
     "name": "stdout",
     "output_type": "stream",
     "text": [
      "This is line 1 \n",
      "\n",
      "This is line 2\n",
      "\n",
      "True\n"
     ]
    },
    {
     "data": {
      "text/plain": [
       "_io.TextIOWrapper"
      ]
     },
     "execution_count": 36,
     "metadata": {},
     "output_type": "execute_result"
    }
   ],
   "source": [
    "# Read one line at a time\n",
    "\n",
    "with open(\"Example1.txt\",\"r\") as file1:\n",
    "    print(file1.readline())  #read 1st line\n",
    "    print(file1.readline())  #read 2nd line\n",
    "\n",
    "print(file1.closed)  #check status\n",
    "type(file1)  #_io.TextIOWrapper"
   ]
  },
  {
   "cell_type": "markdown",
   "id": "0198a2c2",
   "metadata": {},
   "source": [
    "> Important:  Iterating through lines using `for line in fileName`"
   ]
  },
  {
   "cell_type": "code",
   "execution_count": 37,
   "id": "aede0dd5",
   "metadata": {},
   "outputs": [
    {
     "name": "stdout",
     "output_type": "stream",
     "text": [
      "Iteration 1: This is line 1 \n",
      "\n",
      "Iteration 2: This is line 2\n",
      "\n",
      "Iteration 3: This is line 3\n"
     ]
    }
   ],
   "source": [
    "# Iterate through the lines\n",
    "\n",
    "with open(\"Example1.txt\",\"r\") as file1:\n",
    "    i=0\n",
    "    for line in file1:    #line = string\n",
    "        i+=1  #i++ isn't available in Python\n",
    "        print(f\"Iteration {i}: {line}\")"
   ]
  },
  {
   "cell_type": "code",
   "execution_count": 38,
   "id": "e5fc678f",
   "metadata": {},
   "outputs": [
    {
     "name": "stdout",
     "output_type": "stream",
     "text": [
      "['This is line 1 \\n', 'This is line 2\\n', 'This is line 3']\n"
     ]
    }
   ],
   "source": [
    "with open(\"Example1.txt\",\"r\") as file1:\n",
    "    FileasList = file1.readlines()\n",
    "    print(FileasList)"
   ]
  },
  {
   "cell_type": "markdown",
   "id": "e54877d3",
   "metadata": {},
   "source": [
    "### Writing to Files"
   ]
  },
  {
   "cell_type": "markdown",
   "id": "5d49b58a",
   "metadata": {},
   "source": [
    "##### Write function:"
   ]
  },
  {
   "cell_type": "code",
   "execution_count": 155,
   "id": "56e461f1",
   "metadata": {},
   "outputs": [],
   "source": [
    "#write file\n",
    "with open(\"Example2.txt\",\"w\") as writeFile:\n",
    "    writeFile.write(\"This is Line A\")"
   ]
  },
  {
   "cell_type": "code",
   "execution_count": 156,
   "id": "4f5612ff",
   "metadata": {},
   "outputs": [
    {
     "name": "stdout",
     "output_type": "stream",
     "text": [
      "['This is Line A']\n"
     ]
    }
   ],
   "source": [
    "#read file\n",
    "with open(\"Example2.txt\",\"r\") as readFile:\n",
    "    print(readFile.readlines())"
   ]
  },
  {
   "cell_type": "code",
   "execution_count": 157,
   "id": "8a1342da",
   "metadata": {},
   "outputs": [],
   "source": [
    "#write multiple lines- multiline1\n",
    "with open(\"Example2.txt\",\"w\") as writeFile:    #Overwrites the file if it already exists\n",
    "    writeFile.write(\"This is Line B\\n\")\n",
    "    writeFile.write(\"This is Line C\")"
   ]
  },
  {
   "cell_type": "code",
   "execution_count": 158,
   "id": "d6d19fff",
   "metadata": {},
   "outputs": [
    {
     "name": "stdout",
     "output_type": "stream",
     "text": [
      "['This is Line B\\n', 'This is Line C']\n"
     ]
    }
   ],
   "source": [
    "#read file\n",
    "with open(\"Example2.txt\",\"r\") as readFile:\n",
    "    print(readFile.readlines())"
   ]
  },
  {
   "cell_type": "code",
   "execution_count": 159,
   "id": "f2e960fb",
   "metadata": {},
   "outputs": [
    {
     "name": "stdout",
     "output_type": "stream",
     "text": [
      "Done\n"
     ]
    }
   ],
   "source": [
    "#writing list of lines to file- multiline2\n",
    "Lines = [\"This is line AA\\n\", \"This is line BB\\n\", \"This is line CC\\n\"]\n",
    "Lines\n",
    "\n",
    "with open(\"Example2.txt\",\"w\") as writeFile:\n",
    "    for line in Lines:\n",
    "        writeFile.write(line)\n",
    "    \n",
    "print(\"Done\")"
   ]
  },
  {
   "cell_type": "code",
   "execution_count": 160,
   "id": "cfda2866",
   "metadata": {},
   "outputs": [
    {
     "name": "stdout",
     "output_type": "stream",
     "text": [
      "---Example2.txt---\n",
      "This is line AA\n",
      "This is line BB\n",
      "This is line CC\n",
      "\n"
     ]
    }
   ],
   "source": [
    "#function to Test-read file\n",
    "def test_readExample2():\n",
    "    with open(\"Example2.txt\",\"r\") as readFile:\n",
    "        fileContent = readFile.read()  #returns List\n",
    "        \n",
    "        if not fileContent:\n",
    "            print(\"No file content.\")\n",
    "        else: \n",
    "            print(\"---Example2.txt---\")\n",
    "            print(fileContent)\n",
    "\n",
    "#end of testFn\n",
    "\n",
    "test_readExample2()"
   ]
  },
  {
   "cell_type": "markdown",
   "id": "2c0d8aec",
   "metadata": {},
   "source": [
    "> 'w' overwrites the file, **Append** using mode 'a':"
   ]
  },
  {
   "cell_type": "code",
   "execution_count": 161,
   "id": "ec74efe9",
   "metadata": {},
   "outputs": [
    {
     "name": "stdout",
     "output_type": "stream",
     "text": [
      "---Example2.txt---\n",
      "This is line AA\n",
      "This is line BB\n",
      "This is line CC\n",
      "This is line M\n",
      "This is line N\n",
      "This is line O\n",
      "\n"
     ]
    }
   ],
   "source": [
    "#append mode\n",
    "appendLines = [\"This is line M\\n\",\"This is line N\\n\",\"This is line O\\n\",]\n",
    "\n",
    "with open(\"Example2.txt\",\"a\") as appendFile:\n",
    "    for line in appendLines:\n",
    "        appendFile.write(line)\n",
    "\n",
    "#testing append file\n",
    "test_readExample2()"
   ]
  },
  {
   "cell_type": "markdown",
   "id": "59687f4b",
   "metadata": {},
   "source": [
    "##### Other File modes:\n",
    "\n",
    "| Mode | Description |\n",
    "| ------- | ---------------------------------- |\n",
    "| 'r+ | Opens file for r/w. Fails if file !exists. Preserves existing content.|\n",
    "| 'w+' | Opens file for r/w. Creates file if !exists. Overwrites file. (truncates)|\n",
    "| 'a+' | Opens file for r/a. Creates file if !exists. Appends to file.|\n",
    "| 'x+' | Opens file for r/w. Raises exception if File Exists.<br>Good for ensuring you're not overwriting an existing file|"
   ]
  },
  {
   "cell_type": "code",
   "execution_count": 162,
   "id": "327b245b",
   "metadata": {},
   "outputs": [
    {
     "name": "stdout",
     "output_type": "stream",
     "text": [
      "---Example2.txt---\n",
      "This is line AA\n",
      "This is line BB\n",
      "This is line CC\n",
      "This is line M\n",
      "This is line N\n",
      "This is line O\n",
      "\n"
     ]
    }
   ],
   "source": [
    "#Example2.txt\n",
    "test_readExample2()"
   ]
  },
  {
   "cell_type": "code",
   "execution_count": 163,
   "id": "ad5a2679",
   "metadata": {},
   "outputs": [
    {
     "name": "stdout",
     "output_type": "stream",
     "text": [
      "---Example2.txt---\n",
      "This is LineA.\n",
      "This is LineB.\n",
      "This is LineC.\n",
      "\n"
     ]
    }
   ],
   "source": [
    "listoflines = [\"This is LineA.\\n\", \"This is LineB.\\n\", \"This is LineC.\\n\"]\n",
    "with open(\"Example2.txt\",\"w+\") as testFile:\n",
    "    testFile.writelines(listoflines)\n",
    "test_readExample2() #w+ overwrites/truncates"
   ]
  },
  {
   "cell_type": "code",
   "execution_count": 164,
   "id": "8e1bdb2a",
   "metadata": {},
   "outputs": [
    {
     "name": "stdout",
     "output_type": "stream",
     "text": [
      "\n"
     ]
    }
   ],
   "source": [
    "with open(\"Example2.txt\",\"a+\") as testFile:\n",
    "    print(testFile.read())\n",
    "#no output as Cursor/pointer is at EOF, for append."
   ]
  },
  {
   "cell_type": "markdown",
   "id": "b8f1c274",
   "metadata": {},
   "source": [
    "> So we see that *position* of the cursor/pointer is imp.<br>\n",
    "`tell()` -gives you the current position<br>\n",
    "`seek()` -helps you move by a specified offset"
   ]
  },
  {
   "cell_type": "markdown",
   "id": "7f116311",
   "metadata": {},
   "source": [
    "##### Tell() function:"
   ]
  },
  {
   "cell_type": "code",
   "execution_count": 165,
   "id": "e0ecc09b",
   "metadata": {},
   "outputs": [
    {
     "name": "stdout",
     "output_type": "stream",
     "text": [
      "0\n",
      "48\n",
      "0\n",
      "No file content.\n"
     ]
    }
   ],
   "source": [
    "with open(\"Example2.txt\",\"r+\") as testFile:\n",
    "    print(testFile.tell())  #current position in Bytes\n",
    "\n",
    "with open(\"Example2.txt\",\"a+\") as testFile:\n",
    "    print(testFile.tell())\n",
    "\n",
    "with open(\"Example2.txt\",\"w+\") as testFile:\n",
    "    print(testFile.tell())  #--> prints '0' since w+ truncates the file.\n",
    "\n",
    "test_readExample2()  #prints nothing> since w+ truncated the file"
   ]
  },
  {
   "cell_type": "code",
   "execution_count": 166,
   "id": "61a03bba",
   "metadata": {},
   "outputs": [],
   "source": [
    "#function to recreate txt file after testing/mods\n",
    "def test_writeExample2():\n",
    "    listoflines = [\"This is LineA.\\n\", \"This is LineB.\\n\", \"This is LineC.\"]\n",
    "    with open(\"Example2.txt\",\"w+\") as testFile:\n",
    "        testFile.writelines(listoflines)\n",
    "    print(\"Recreated file.\")"
   ]
  },
  {
   "cell_type": "code",
   "execution_count": 167,
   "id": "70a93179",
   "metadata": {},
   "outputs": [
    {
     "name": "stdout",
     "output_type": "stream",
     "text": [
      "No file content.\n"
     ]
    }
   ],
   "source": [
    "test_readExample2()"
   ]
  },
  {
   "cell_type": "markdown",
   "id": "262a9659",
   "metadata": {},
   "source": [
    "##### Append mode and Seek():"
   ]
  },
  {
   "cell_type": "code",
   "execution_count": 181,
   "id": "18b282d5",
   "metadata": {},
   "outputs": [
    {
     "name": "stdout",
     "output_type": "stream",
     "text": [
      "Recreated file.\n",
      "---Example2.txt---\n",
      "This is LineA.\n",
      "This is LineB.\n",
      "This is LineC.\n"
     ]
    }
   ],
   "source": [
    "#recreate a Example2.txt\n",
    "test_writeExample2()\n",
    "test_readExample2()"
   ]
  },
  {
   "cell_type": "code",
   "execution_count": 182,
   "id": "0632cead",
   "metadata": {},
   "outputs": [
    {
     "name": "stdout",
     "output_type": "stream",
     "text": [
      "Current Location: 46\n",
      "This is LineA.\n",
      "This is LineB.\n",
      "This is LineC.\n",
      "Post-seek Location: 46\n",
      "\n",
      "---Example2.txt---\n",
      "This is LineA.\n",
      "This is LineB.\n",
      "This is LineC.\n",
      "This is LineE.\n"
     ]
    }
   ],
   "source": [
    "#testing a+ (append+ mode) \n",
    "with open(\"Example2.txt\",\"a+\") as testFile:\n",
    "    print(f\"Current Location: {testFile.tell()}\")  #see: cursor is at EOF\n",
    "    \n",
    "    testFile.seek(0,0)  #move cursor to the beginning> read\n",
    "    print(testFile.read())\n",
    "\n",
    "    print(f\"Post-seek Location: {testFile.tell()}\")  \n",
    "    testFile.write(\"\\nThis is LineE.\")  #APPENDS & moves cursor to the End\n",
    "    print(testFile.read()) #no output, as cursor is at the End\n",
    "\n",
    "test_readExample2()"
   ]
  },
  {
   "cell_type": "code",
   "execution_count": 170,
   "id": "af1655cb",
   "metadata": {},
   "outputs": [
    {
     "name": "stdout",
     "output_type": "stream",
     "text": [
      "Opening Location: 0\n",
      "Current Location: 7\n",
      " LineA.\n",
      "This is LineB.\n",
      "This is LineC.\n",
      "This is LineE.\n",
      "\n",
      "\n",
      "---Example2.txt---\n",
      "THAT IS LineA.\n",
      "This is LineB.\n",
      "This is LineC.\n",
      "This is LineE.\n"
     ]
    }
   ],
   "source": [
    "#testing r+\n",
    "with open(\"Example2.txt\",\"r+\") as testFile:\n",
    "    print(f\"Opening Location: {testFile.tell()}\")\n",
    "    #Note: len(\"THAT IS\")= 7\n",
    "    testFile.write(\"THAT IS\")  #replaces chars from offsets 0-6\n",
    "    print(f\"Current Location: {testFile.tell()}\")\n",
    "    print(testFile.read()) #see: reads from current position\n",
    "\n",
    "print(\"\\n\")\n",
    "test_readExample2()"
   ]
  },
  {
   "cell_type": "code",
   "execution_count": null,
   "id": "de3031af",
   "metadata": {},
   "outputs": [
    {
     "data": {
      "text/plain": [
       "30"
      ]
     },
     "execution_count": 171,
     "metadata": {},
     "output_type": "execute_result"
    }
   ],
   "source": [
    "#test-find length for next step.\n",
    "len(\"THAT IS LineA.\\n This is LineB.\")"
   ]
  },
  {
   "cell_type": "markdown",
   "id": "e291f0fa",
   "metadata": {},
   "source": [
    "##### Seek():\n",
    "- Syntax: `seek(offset, whence)`\n",
    "- offset= The number of bytes to move the file handle.\n",
    "- (optional) whence= Specifies the reference point for the offset. [0,1,2 :: 'start','current position','end']"
   ]
  },
  {
   "cell_type": "code",
   "execution_count": 183,
   "id": "62479d94",
   "metadata": {},
   "outputs": [
    {
     "name": "stdout",
     "output_type": "stream",
     "text": [
      "Opening Location: 0\n",
      "Current Location: 30\n",
      "File truncated from starting position= 30\n"
     ]
    }
   ],
   "source": [
    "#testing file.truncate() - truncates everything from current position.\n",
    "with open(\"Example2.txt\",\"r+\") as testFile:\n",
    "    print(f\"Opening Location: {testFile.tell()}\")\n",
    "    pos = testFile.seek(30,0)  # starting pos, whence_enum\n",
    "    #print(testFile.read())  #Note: read() moves the cursor to the end of the file.\n",
    "\n",
    "    print(f\"Current Location: {testFile.tell()}\")\n",
    "    testFile.truncate()\n",
    "    print(f\"File truncated from starting position= {pos}\")\n"
   ]
  },
  {
   "cell_type": "code",
   "execution_count": 184,
   "id": "0f796524",
   "metadata": {},
   "outputs": [
    {
     "name": "stdout",
     "output_type": "stream",
     "text": [
      "---Example2.txt---\n",
      "This is LineA.\n",
      "This is LineB.\n"
     ]
    }
   ],
   "source": [
    "test_readExample2()"
   ]
  },
  {
   "cell_type": "markdown",
   "id": "78d3ee41",
   "metadata": {},
   "source": [
    "<u>Note</u>: 👆`file.truncate()` - truncates the file content from current position.<br><br>"
   ]
  },
  {
   "cell_type": "markdown",
   "id": "84ae811f",
   "metadata": {},
   "source": [
    "##### Copying Files:\n",
    "Copy file example2.txt to example3.txt"
   ]
  },
  {
   "cell_type": "code",
   "execution_count": null,
   "id": "f62428af",
   "metadata": {},
   "outputs": [
    {
     "name": "stdout",
     "output_type": "stream",
     "text": [
      "47\n",
      "---Example3.txt---\n",
      "This is line 1 \n",
      "This is line 2\n",
      "This is line 3\n"
     ]
    }
   ],
   "source": [
    "with open(\"Example1.txt\", \"r\") as sourceFile:\n",
    "    listoflines = sourceFile.readlines()\n",
    "    with open(\"Example3.txt\",\"w+\") as destFile:  #creates file if !Exists\n",
    "        for line in listoflines:\n",
    "            destFile.write(line)\n",
    "        \n",
    "        print(destFile.tell())  #see: cursor is at EOF, hence read isn't working\n",
    "        destFile.seek(0,0)   #move cursor to start of file for printing. Avoid doing this by using 'r' mode.\n",
    "        print(\"---Example3.txt---\")\n",
    "        print(destFile.read())  #print file\n",
    "#end of code fragment"
   ]
  },
  {
   "cell_type": "markdown",
   "id": "d4c74aa0",
   "metadata": {},
   "source": [
    "### R/w files: Final Exercise"
   ]
  },
  {
   "cell_type": "markdown",
   "id": "cb7886b5",
   "metadata": {},
   "source": [
    "- maintain register of active members in one file\n",
    "- remove inactive members to another file\n"
   ]
  },
  {
   "cell_type": "code",
   "execution_count": null,
   "id": "c18e8805",
   "metadata": {},
   "outputs": [],
   "source": [
    "'''\n",
    "The two arguments for this function are the files:\n",
    "    - currentMem: File containing list of current members\n",
    "    - exMem: File containing list of old members\n",
    "    \n",
    "    This function should remove all rows from currentMem containing 'no' \n",
    "    in the 'Active' column and appends them to exMem.\n",
    "'''\n",
    "\n",
    "def cleanFiles(currentMem, exMem):\n",
    "    listofExMembers = []\n",
    "    listofCurrentMembers = []\n",
    "\n",
    "    with open(currentMem,\"r+\") as currentMembers:\n",
    "        with open(exMem, \"a+\") as exMembers:\n",
    "\n",
    "            #split 'currentMembers' into Active/Inactive members. \n",
    "            listoflines = currentMembers.readlines()  #saving the rest of the lines in a List            \n",
    "            headerLine1 = listoflines.pop(0)  #remove & store the Header for *later* \n",
    "            \n",
    "            #Constructing listofCurrentMem with Header:\n",
    "            #listofCurrentMembers.insert(0,headerLine1)\n",
    "            #Iterate through currentMembers file and create separate lists of Active and innactive members\n",
    "            for line in listoflines:   #Note: line is a string\n",
    "                if line.find(\"no\") > 0:   #Search string for \"no\"\n",
    "                    listofExMembers.append(line)\n",
    "                elif line.find(\"yes\") > 0:\n",
    "                    listofCurrentMembers.append(line)\n",
    "                else:\n",
    "                    pass\n",
    "\n",
    "            '''\n",
    "            #TEST:\n",
    "            #PRINT listofExMembers\n",
    "            print(\"\".join(listofExMembers))\n",
    "            #PRINT listofCurrentMembers\n",
    "            print(\"\".join(listofCurrentMembers))\n",
    "            '''            \n",
    "\n",
    "            #Write the 2 lists to respective files\n",
    "            #exMembers: currentMembers\n",
    "            currentMembers.truncate(0)\n",
    "            currentMembers.write(headerLine1)\n",
    "            currentMembers.writelines(listofCurrentMembers)\n",
    "            exMembers.writelines(listofExMembers)\n",
    "            \n",
    "          \n",
    "        #end of exMem stream\n",
    "    #end of currentMem stream\n",
    "#end of function\n",
    "\n",
    "\n",
    "# The code below is to help you view the files.\n",
    "# Do not modify this code for this exercise.\n",
    "memReg = '/members.txt'\n",
    "exReg = '/inactive.txt'\n",
    "cleanFiles(memReg,exReg)\n",
    "\n",
    "\n",
    "headers = \"== Membership No  Date Joined  Active == \\n\"\n",
    "with open(memReg,'r') as readFile:    \n",
    "    print(\"Active Members: \\n\\n\")\n",
    "    print(readFile.read())\n",
    "    \n",
    "with open(exReg,'r') as readFile2:\n",
    "    print(\"Inactive Members: \\n\\n\")\n",
    "    print(readFile2.read())"
   ]
  },
  {
   "cell_type": "markdown",
   "id": "da26bf25",
   "metadata": {},
   "source": [
    "**Note**: string.find() is case sensitive by Default 👇"
   ]
  },
  {
   "cell_type": "code",
   "execution_count": null,
   "id": "249ed92f",
   "metadata": {},
   "outputs": [
    {
     "data": {
      "text/plain": [
       "11"
      ]
     },
     "execution_count": 188,
     "metadata": {},
     "output_type": "execute_result"
    }
   ],
   "source": [
    "#string.find() is case sensitive by Default\n",
    "text = \"Membership No  Date Joined  Active\"\n",
    "result = text.find(\"No\")\n",
    "result"
   ]
  },
  {
   "cell_type": "markdown",
   "id": "b112a56d",
   "metadata": {},
   "source": [
    "--end--"
   ]
  }
 ],
 "metadata": {
  "kernelspec": {
   "display_name": "Python 3",
   "language": "python",
   "name": "python3"
  },
  "language_info": {
   "codemirror_mode": {
    "name": "ipython",
    "version": 3
   },
   "file_extension": ".py",
   "mimetype": "text/x-python",
   "name": "python",
   "nbconvert_exporter": "python",
   "pygments_lexer": "ipython3",
   "version": "3.12.3"
  }
 },
 "nbformat": 4,
 "nbformat_minor": 5
}
