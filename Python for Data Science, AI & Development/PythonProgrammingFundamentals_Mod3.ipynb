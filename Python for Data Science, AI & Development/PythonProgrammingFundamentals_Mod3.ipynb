{
 "cells": [
  {
   "cell_type": "markdown",
   "id": "4b463f2b",
   "metadata": {},
   "source": [
    "## Conditional Operators\n",
    "\n",
    "Comparing with JAVA & C#, checking for differences if any.."
   ]
  },
  {
   "cell_type": "code",
   "execution_count": 1,
   "id": "b043c0da",
   "metadata": {},
   "outputs": [
    {
     "name": "stdout",
     "output_type": "stream",
     "text": [
      "True\n",
      "False\n"
     ]
    }
   ],
   "source": [
    "#Equality Test using '=='\n",
    "print(5==5)\n",
    "print(\"Adam\"==\"Adame\")"
   ]
  },
  {
   "cell_type": "code",
   "execution_count": null,
   "id": "b33f28ea",
   "metadata": {},
   "outputs": [
    {
     "name": "stdout",
     "output_type": "stream",
     "text": [
      "True\n"
     ]
    }
   ],
   "source": [
    "#Inequality test:\n",
    "print(\"Adam\"!=\"Adame\")   #same as JAVA"
   ]
  },
  {
   "cell_type": "markdown",
   "id": "f9d8fa0b",
   "metadata": {},
   "source": [
    "Note: Rest (conditional operators) are same as JAVA/C#"
   ]
  },
  {
   "cell_type": "markdown",
   "id": "9d9dc923",
   "metadata": {},
   "source": [
    "## Branching\n",
    "> Branching in Python == Conditional statements in JAVA (if-else, while)<br>\n",
    "*Note*: Python does <u>not</u> have a SWITCH statement > Instead: use *If-Elif-Else*"
   ]
  },
  {
   "cell_type": "markdown",
   "id": "e219d3bf",
   "metadata": {},
   "source": [
    "##### IF statement:"
   ]
  },
  {
   "cell_type": "code",
   "execution_count": null,
   "id": "98420be3",
   "metadata": {},
   "outputs": [
    {
     "name": "stdout",
     "output_type": "stream",
     "text": [
      "Sorry cannot go to the ACDC concert\n"
     ]
    }
   ],
   "source": [
    "age = 15\n",
    "if(age>18):\n",
    "    print(\"Its a Go for ACDC concert\")\n",
    "else:\n",
    "    print(\"Sorry cannot go to the ACDC concert\")\n",
    "\n",
    "#Note how Python uses colon(:)+indents instead of using curly brackets { } for multiline def. ->same for class definition also"
   ]
  },
  {
   "cell_type": "markdown",
   "id": "30dd3e1e",
   "metadata": {},
   "source": [
    "##### ELIF statement:"
   ]
  },
  {
   "cell_type": "code",
   "execution_count": 21,
   "id": "c24eb226",
   "metadata": {},
   "outputs": [
    {
     "name": "stdout",
     "output_type": "stream",
     "text": [
      "Go see Pink Floyd\n"
     ]
    }
   ],
   "source": [
    "age = 17\n",
    "if(age>=18):\n",
    "    print(\"OK for ACDC concert\")\n",
    "elif(age==17):       #this is different from `Else If(condition)` in Java \n",
    "    print(\"Go see Pink Floyd\")\n",
    "else:\n",
    "    print(\"Go see Nsync\")"
   ]
  },
  {
   "cell_type": "markdown",
   "id": "190493bd",
   "metadata": {},
   "source": [
    "##### Logical Operators\n",
    "- AND\n",
    "- NOT\n",
    "- OR operator\n",
    "\n",
    "Note: same as JAVA/C#"
   ]
  },
  {
   "cell_type": "code",
   "execution_count": null,
   "id": "66f1f292",
   "metadata": {},
   "outputs": [
    {
     "name": "stdout",
     "output_type": "stream",
     "text": [
      "Album year is not 1984\n"
     ]
    }
   ],
   "source": [
    "album_year = 1983\n",
    "\n",
    "#NOT operator:\n",
    "if not (album_year == 1984):\n",
    "    print (\"Album year is not 1984\")"
   ]
  },
  {
   "cell_type": "code",
   "execution_count": null,
   "id": "fc622d6b",
   "metadata": {},
   "outputs": [
    {
     "name": "stdout",
     "output_type": "stream",
     "text": [
      "Success: Condition met\n"
     ]
    }
   ],
   "source": [
    "#OR (Logical operator) example\n",
    "\n",
    "#INPUTS:\n",
    "player_name = \"Lionel Messi\"\n",
    "sport = \"Soccer\"\n",
    "achievements = 20\n",
    "\n",
    "if sport==\"Tennis\" or achievements==20:   #Interesting: bracket () is optional !\n",
    "    print(\"Success: Condition met\")\n",
    "else:\n",
    "    print(\"Failed: Condition not met\")"
   ]
  },
  {
   "cell_type": "code",
   "execution_count": 34,
   "id": "1ad38973",
   "metadata": {},
   "outputs": [
    {
     "name": "stdout",
     "output_type": "stream",
     "text": [
      "Success: Condition met \n",
      "Player Name=Roger Federer, Sport=Tennis, Achievements=7\n"
     ]
    }
   ],
   "source": [
    "#AND (Logical operator) example\n",
    "\n",
    "#INPUTS:\n",
    "player_name = \"Roger Federer\"\n",
    "sport = \"Tennis\"\n",
    "achievements = 7\n",
    "\n",
    "if achievements<10 and sport!=\"Soccer\":   #Interesting: bracket () is optional !\n",
    "    #print(\"Success: Condition met \\n\")\n",
    "    print(f\"Success: Condition met \\nPlayer Name={player_name}, Sport={sport}, Achievements={achievements}\")\n",
    "else:\n",
    "    print(\"Sorry Condition was not met\")"
   ]
  },
  {
   "cell_type": "markdown",
   "id": "96384518",
   "metadata": {},
   "source": [
    "## Loops\n",
    "- FOR loop\n",
    "- WHILE loop"
   ]
  },
  {
   "cell_type": "markdown",
   "id": "e7f0a85c",
   "metadata": {},
   "source": [
    "##### Range Function:"
   ]
  },
  {
   "cell_type": "code",
   "execution_count": null,
   "id": "8371bb42",
   "metadata": {},
   "outputs": [
    {
     "data": {
      "text/plain": [
       "range(0, 3)"
      ]
     },
     "execution_count": 35,
     "metadata": {},
     "output_type": "execute_result"
    }
   ],
   "source": [
    "range(3)  #outputs an ordered sequence as a List"
   ]
  },
  {
   "cell_type": "code",
   "execution_count": 42,
   "id": "4ed596ef",
   "metadata": {},
   "outputs": [
    {
     "name": "stdout",
     "output_type": "stream",
     "text": [
      "Range function:\n",
      "0\n",
      "1\n",
      "2\n",
      "3\n",
      "4\n"
     ]
    }
   ],
   "source": [
    "print(\"Range function:\")\n",
    "for i in range(5):\n",
    "    print(i)"
   ]
  },
  {
   "cell_type": "markdown",
   "id": "5e94a44b",
   "metadata": {},
   "source": [
    "> Write a FOR loop that prints out all the elements between -5 and 5 using the range function"
   ]
  },
  {
   "cell_type": "code",
   "execution_count": 112,
   "id": "10d313a9",
   "metadata": {},
   "outputs": [
    {
     "name": "stdout",
     "output_type": "stream",
     "text": [
      "-5\n",
      "-4\n",
      "-3\n",
      "-2\n",
      "-1\n",
      "0\n",
      "1\n",
      "2\n",
      "3\n",
      "4\n"
     ]
    }
   ],
   "source": [
    "#FOR loop that prints out all the elements between -5 and 5 using the range function:\n",
    "for i in range(-5,5):   #params: range => (starting value, ending val)\n",
    "    print(i)"
   ]
  },
  {
   "cell_type": "markdown",
   "id": "894da259",
   "metadata": {},
   "source": [
    "##### FOR loop:"
   ]
  },
  {
   "cell_type": "code",
   "execution_count": 47,
   "id": "0369c90d",
   "metadata": {},
   "outputs": [
    {
     "name": "stdout",
     "output_type": "stream",
     "text": [
      "Accessing Index:\n",
      "0\n",
      "1\n",
      "2\n",
      "3\n",
      "4\n"
     ]
    }
   ],
   "source": [
    "#accessing Index:\n",
    "print(\"Accessing Index:\")\n",
    "for i in range(5):\n",
    "    print(i)"
   ]
  },
  {
   "cell_type": "code",
   "execution_count": null,
   "id": "0240d709",
   "metadata": {},
   "outputs": [
    {
     "name": "stdout",
     "output_type": "stream",
     "text": [
      "Accessing Values:\n",
      "white\n",
      "blue\n",
      "orange\n",
      "green\n"
     ]
    }
   ],
   "source": [
    "#Accessing Values of a list:\n",
    "colors = [\"white\", \"blue\", \"orange\", \"green\"]\n",
    "\n",
    "print(\"Accessing Values:\")\n",
    "for color in colors:\n",
    "    print(color)\n"
   ]
  },
  {
   "cell_type": "code",
   "execution_count": null,
   "id": "8498217a",
   "metadata": {},
   "outputs": [
    {
     "name": "stdout",
     "output_type": "stream",
     "text": [
      "['white', 'blue', 'orange', 'green']\n",
      "Index:0, Color:white\n",
      "Index:1, Color:blue\n",
      "Index:2, Color:orange\n",
      "Index:3, Color:green\n"
     ]
    }
   ],
   "source": [
    "#Accessing both values and index:\n",
    "print(colors)  #this is the Iterable\n",
    "for i,color in enumerate(colors):  #Syntax: enumerate(iterable)\n",
    "    print(f\"Index:{i}, Color:{color}\")"
   ]
  },
  {
   "cell_type": "markdown",
   "id": "9c3c8a0c",
   "metadata": {},
   "source": []
  },
  {
   "cell_type": "markdown",
   "id": "0927a866",
   "metadata": {},
   "source": [
    "##### WHILE loop:"
   ]
  },
  {
   "cell_type": "code",
   "execution_count": null,
   "id": "0f9c2f75",
   "metadata": {},
   "outputs": [
    {
     "name": "stdout",
     "output_type": "stream",
     "text": [
      "10\n",
      "9.5\n",
      "10\n",
      "8\n",
      "7.5\n"
     ]
    }
   ],
   "source": [
    "#Exercise: Display ratings of an Album using WHILE Loop. If the score is less than 6, exit the loop.\n",
    "\n",
    "#List\n",
    "PlayListRatings = [10, 9.5, 10, 8, 7.5, 5, 10, 10]\n",
    "i=0  #counter\n",
    "\n",
    "#while (i < len(PlayListRatings) and PlayListRatings[i] > 6):  #from HOL, but this is can be shorter..\n",
    "while (PlayListRatings[i]>6):\n",
    "    print(PlayListRatings[i])\n",
    "    i=i+1"
   ]
  },
  {
   "cell_type": "code",
   "execution_count": null,
   "id": "2f9951b9",
   "metadata": {},
   "outputs": [
    {
     "data": {
      "text/plain": [
       "{7.5, 8, 9.5, 10}"
      ]
     },
     "execution_count": 83,
     "metadata": {},
     "output_type": "execute_result"
    }
   ],
   "source": [
    "#modify to print only unique ratings :) >>Ignore all ratings < 6;\n",
    "\n",
    "PlayListRatings = [10, 9.5, 10, 8, 7.5, 5, 10, 10]\n",
    "i=0  #counter\n",
    "\n",
    "Ratings = set()\n",
    "for count, rating in enumerate(PlayListRatings):\n",
    "    if rating > 6:\n",
    "        Ratings.add(rating)\n",
    "\n",
    "Ratings    #example of \"Implicit printing\" in Python"
   ]
  },
  {
   "cell_type": "markdown",
   "id": "66510c71",
   "metadata": {},
   "source": [
    "\n",
    "## Functions in Python"
   ]
  },
  {
   "cell_type": "markdown",
   "id": "a662a4e3",
   "metadata": {},
   "source": [
    "### Function basics:"
   ]
  },
  {
   "cell_type": "code",
   "execution_count": 48,
   "id": "cd161d49",
   "metadata": {},
   "outputs": [
    {
     "data": {
      "text/plain": [
       "9"
      ]
     },
     "execution_count": 48,
     "metadata": {},
     "output_type": "execute_result"
    }
   ],
   "source": [
    "# Custom Function using 'def' fnName:\n",
    "def addFn(n1,n2):\n",
    "    '''\n",
    "    This is a \"Documentation String\"; \n",
    "    It tells other what the fn does. \n",
    "    '''\n",
    "    result = n1+n2\n",
    "    return(result)\n",
    "\n",
    "var_sum = addFn(3,6)\n",
    "var_sum"
   ]
  },
  {
   "cell_type": "code",
   "execution_count": 49,
   "id": "5c43ed6a",
   "metadata": {},
   "outputs": [
    {
     "name": "stdout",
     "output_type": "stream",
     "text": [
      "Help on function addFn in module __main__:\n",
      "\n",
      "addFn(n1, n2)\n",
      "    This is a \"Documentation String\";\n",
      "    It tells other what the fn does.\n",
      "\n"
     ]
    }
   ],
   "source": [
    "# Getting help on any function\n",
    "help(addFn)\n"
   ]
  },
  {
   "cell_type": "markdown",
   "id": "7c53055d",
   "metadata": {},
   "source": [
    "### Functions- HOLs:"
   ]
  },
  {
   "cell_type": "markdown",
   "id": "2fdfe8a6",
   "metadata": {},
   "source": [
    "#### Hands-on-lab exercise (basic differences Java/C#):"
   ]
  },
  {
   "cell_type": "code",
   "execution_count": 10,
   "id": "549316f5",
   "metadata": {},
   "outputs": [
    {
     "data": {
      "text/plain": [
       "5.0"
      ]
     },
     "execution_count": 10,
     "metadata": {},
     "output_type": "execute_result"
    }
   ],
   "source": [
    "#Come up with a function that divides the first input by the second input:\n",
    "\n",
    "def div_fn(numerator, denominator):\n",
    "    return(numerator/denominator)\n",
    "\n",
    "#testing\n",
    "div_fn(10,2)"
   ]
  },
  {
   "cell_type": "code",
   "execution_count": null,
   "id": "75b094c3",
   "metadata": {},
   "outputs": [
    {
     "name": "stdout",
     "output_type": "stream",
     "text": [
      "8\n",
      "does thiswork\n",
      "[2, 3, 1, 9, 10]\n",
      "(1, 2, 3, 4, 5)\n"
     ]
    }
   ],
   "source": [
    "# Good Experiment:\n",
    "def con(a, b):\n",
    "    return(a + b)\n",
    "\n",
    "print(con(2,6))\n",
    "print(con(\"does this\",\"work\"))\n",
    "\n",
    "# Does this work with a list or tuple?\n",
    "print(con([2,3,1],[9,10]))  #List\n",
    "print(con((1,2,3),(4,5)))  #Tuple"
   ]
  },
  {
   "cell_type": "markdown",
   "id": "bfc95015",
   "metadata": {},
   "source": [
    "#### Good Hands-on-lab exercise:\n",
    "> Write a function code to find 'total count of words' in the given string:"
   ]
  },
  {
   "cell_type": "code",
   "execution_count": 21,
   "id": "8e798b52",
   "metadata": {},
   "outputs": [
    {
     "name": "stdout",
     "output_type": "stream",
     "text": [
      "{'mary': 6, 'had': 2, 'a': 2, 'little': 4, 'lamb': 3, 'lamb,': 1, 'lamb.its': 1, 'fleece': 1, 'was': 2, 'white': 1, 'as': 1, 'snow': 1, 'and': 1, 'everywhere': 2, 'that': 2, 'went': 3, 'went,': 1, 'the': 1, 'sure': 1, 'to': 1, 'go': 1}\n"
     ]
    }
   ],
   "source": [
    "#we can do this using List datatype, and using the split() fn:\n",
    "\n",
    "#creating Function\n",
    "def wordCount(inputString):\n",
    "    list_of_words = inputString.lower().split()\n",
    "    #creating a new empty dictionary to hold KV pair== <Word:Frequency>\n",
    "    dict_frequency_word = {}  #can also be done like this: sampleDict = dict()\n",
    "\n",
    "    #Updating all word-frequencies in the Dict\n",
    "    for TargetWord in list_of_words:\n",
    "        #If word is NOT present> ADD (key:value) with Frequency=1\n",
    "        if TargetWord not in dict_frequency_word:\n",
    "            dict_frequency_word.update({TargetWord:1})  #adding as a dict, can use any iterable (see next sample)\n",
    "\n",
    "        else:\n",
    "            dict_frequency_word[TargetWord] = dict_frequency_word[TargetWord] + 1\n",
    "            #If word IS present> increment word counter/Value\n",
    "    \n",
    "    \n",
    "    #print All dict items: --Method 1\n",
    "    print(dict_frequency_word)\n",
    "    \n",
    "    ''' -- Other Methods:--\n",
    "    #print All dict items: --Method 2\n",
    "    for each_item in dict_frequency_word.items():\n",
    "        print(each_item)\n",
    "    \n",
    "    #print All dict items: --Method 3\n",
    "    for key, value in dict_frequency_word.items():\n",
    "        print(f\"Key={key}, Value={value}\")\n",
    "    '''\n",
    "\n",
    "#end of function    \n",
    "\n",
    "\n",
    "#test code\n",
    "text = \"Mary had a little lamb Little lamb, little lamb Mary had a little lamb.Its fleece was white as snow And everywhere that Mary went Mary went, Mary went Everywhere that Mary went The lamb was sure to go\"\n",
    "wordCount(text)\n"
   ]
  },
  {
   "cell_type": "markdown",
   "id": "024804e1",
   "metadata": {},
   "source": [
    "#### Dictionary functions revisited:"
   ]
  },
  {
   "cell_type": "markdown",
   "id": "f7a33bb4",
   "metadata": {},
   "source": [
    "Search a key in dictionary:"
   ]
  },
  {
   "cell_type": "code",
   "execution_count": 83,
   "id": "5d4d3ca2",
   "metadata": {},
   "outputs": [
    {
     "name": "stdout",
     "output_type": "stream",
     "text": [
      "True\n"
     ]
    }
   ],
   "source": [
    "mydict = {\"one\":1, \"two\":2}\n",
    "\n",
    "#search Key in Dictionary\n",
    "search_key = \"one\"\n",
    "print(search_key in mydict) \n"
   ]
  },
  {
   "cell_type": "markdown",
   "id": "fdac8f59",
   "metadata": {},
   "source": [
    "Adding a new item to the dictionary:   (other ways than assignment '=' operator)"
   ]
  },
  {
   "cell_type": "code",
   "execution_count": 106,
   "id": "6a2b18ca",
   "metadata": {},
   "outputs": [
    {
     "name": "stdout",
     "output_type": "stream",
     "text": [
      "Dict = {'one': 1, 'two': 2, 'three': 3}\n",
      "Updating with dict: {'one': 1, 'two': 2, 'three': 3, 'five': 5, 'six': 6}\n",
      "Updating with tuple: {'one': 1, 'two': 2, 'three': 3, 'five': 5, 'six': 6, 'nine': 9, 'ten': 10}\n",
      "Updating with List: {'one': 1, 'two': 2, 'three': 3, 'five': 5, 'six': 6, 'nine': 9, 'ten': 10, 'seven': 7, 'eight': 8}\n"
     ]
    }
   ],
   "source": [
    "mydict = {\"one\":1, \"two\":2}\n",
    "\n",
    "#Adding a new item {\"three\":3} by assignment '='\n",
    "mydict[\"three\"] = 3\n",
    "print(f\"Dict = {mydict}\")\n",
    "\n",
    "#Add New Item as *Dict\n",
    "d2 = {\"five\":5 , \"six\":6}\n",
    "mydict.update(d2)\n",
    "print(f\"Updating with dict: {mydict}\")\n",
    "\n",
    "#Add New Item as *tuple\n",
    "t2 = ((\"nine\",9),(\"ten\",10))\n",
    "mydict.update(t2)\n",
    "print(f\"Updating with tuple: {mydict}\")\n",
    "\n",
    "#Add New Item as *List\n",
    "l2 = [(\"seven\",7),(\"eight\",8)]\n",
    "mydict.update(l2)\n",
    "print(f\"Updating with List: {mydict}\")\n"
   ]
  },
  {
   "cell_type": "markdown",
   "id": "caff8d44",
   "metadata": {},
   "source": [
    "#### Functions HOL continued:\n",
    "\n",
    "> Write a function code to find total count of word `little` in the given string"
   ]
  },
  {
   "cell_type": "code",
   "execution_count": null,
   "id": "bc6caede",
   "metadata": {},
   "outputs": [
    {
     "name": "stdout",
     "output_type": "stream",
     "text": [
      "Count of word 'little' = 4\n"
     ]
    }
   ],
   "source": [
    "#we can do this using List datatype, and using the split() fn:\n",
    "\n",
    "#creating Function\n",
    "def wordCount(input_string, search_string):\n",
    "    input_string = input_string.lower() #changing all words to lowerCase\n",
    "    list_of_words = []\n",
    "    list_of_words = input_string.split()\n",
    "\n",
    "    little_wordCount = 0\n",
    "    for word in list_of_words:       #KEY LEARNING: just use 'list.count(ItemName)'\n",
    "        if word == \"little\":\n",
    "            little_wordCount = little_wordCount + 1\n",
    "\n",
    "    return little_wordCount\n",
    "#end of function    \n",
    "\n",
    "\n",
    "#Code to Invoke and test the Fn\n",
    "text = \"Mary had a little lamb Little lamb, little lamb Mary had a little lamb.Its fleece was white as snow And everywhere \\\n",
    "    that Mary went Mary went, Mary went Everywhere that Mary went The lamb was sure to go\"\n",
    "search_string = \"little\"\n",
    "countOfWord = wordCount(text, search_string)\n",
    "print(f\"Count of word 'little' = {countOfWord}\")\n",
    "\n",
    "#end"
   ]
  },
  {
   "cell_type": "markdown",
   "id": "2e7cdb6f",
   "metadata": {},
   "source": [
    "> Alternate implementation using Dictionary (from HOL)"
   ]
  },
  {
   "cell_type": "code",
   "execution_count": 101,
   "id": "b987d886",
   "metadata": {},
   "outputs": [
    {
     "name": "stdout",
     "output_type": "stream",
     "text": [
      "Total Count: {'little': 4}\n"
     ]
    }
   ],
   "source": [
    "# Python Program to Count words in a String using Dictionary\n",
    "def freq(input_string,search_key):\n",
    "\n",
    "    #step1: A list variable is declared and initialized to an empty list.\n",
    "    words = []\n",
    "\n",
    "    #step2: Break the string into list of words\n",
    "    words = input_string.lower().split()\n",
    "\n",
    "    #step3: Declare a dictionary\n",
    "    Dict = {}\n",
    "\n",
    "    #step4: Use for loop to iterate words and values to the dictionary\n",
    "    for key in words:\n",
    "        if(key == search_key):\n",
    "            Dict[key] = words.count(key)   \n",
    "    #step5: Print the dictionary\n",
    "    print(\"Total Count:\",Dict)\n",
    "\n",
    "#step6: Call function and pass string in it\n",
    "freq(\"Mary had a little lamb Little lamb, little lamb Mary had a little lamb.Its fleece was white as snow And everywhere that Mary went Mary went, Mary went \\\n",
    "Everywhere that Mary went The lamb was sure to go\",\"little\")\n",
    "    "
   ]
  },
  {
   "cell_type": "markdown",
   "id": "e9b3ebd4",
   "metadata": {},
   "source": [
    "> 'Even smaller' Implementation using `List.count(ItemName)`"
   ]
  },
  {
   "cell_type": "code",
   "execution_count": null,
   "id": "5772961e",
   "metadata": {},
   "outputs": [
    {
     "name": "stdout",
     "output_type": "stream",
     "text": [
      "Count of word 'little' = 4\n"
     ]
    }
   ],
   "source": [
    "# Python Program to Count words in a String using just a LIST\n",
    "def freq(input_string,search_key):\n",
    "\n",
    "    #step1: A list variable is declared and initialized to an empty list.\n",
    "    words = []\n",
    "\n",
    "    #step2: Break the string into list of words\n",
    "    words = input_string.lower().split()\n",
    "    #print(words)\n",
    "    count_of_words = words.count(search_key)   # KEY LEARNING\n",
    "    \n",
    "    print(f\"Count of word '{search_key}' = {count_of_words}\")\n",
    "\n",
    "#step6: Call function and pass string in it\n",
    "text1 = \"Mary had a little lamb Little lamb, little lamb Mary had a little lamb.Its fleece was white as snow \\\n",
    "     And everywhere that Mary went Mary went, Mary went Everywhere that Mary went The lamb was sure to go\"\n",
    "freq(text1, \"little\")"
   ]
  },
  {
   "cell_type": "markdown",
   "id": "a2615093",
   "metadata": {},
   "source": [
    "-- end --"
   ]
  },
  {
   "cell_type": "markdown",
   "id": "453d1dbc",
   "metadata": {},
   "source": [
    "## Exception Handling"
   ]
  },
  {
   "cell_type": "markdown",
   "id": "7bed17c7",
   "metadata": {},
   "source": [
    "//Getting INPUTS from the user:"
   ]
  },
  {
   "cell_type": "code",
   "execution_count": null,
   "id": "30cdaf2a",
   "metadata": {},
   "outputs": [
    {
     "name": "stdout",
     "output_type": "stream",
     "text": [
      "10\n"
     ]
    }
   ],
   "source": [
    "i=1\n",
    "\n",
    "#input() function gets user Inputs\n",
    "userInput = input(\"Enter a number to Add:\")\n",
    "y = int(userInput)\n",
    "print(i+y)\n"
   ]
  },
  {
   "cell_type": "markdown",
   "id": "cc1c88bd",
   "metadata": {},
   "source": [
    "##### Try Except Else Finally :\n",
    "\n",
    "- Differences: In Python Try-*catch*=> Try-`except`, and Py also has an `Else` block.\n",
    "- `Else` block -> to run code only when there's been NO exception. e.g. ACK\n",
    "- `Finally` block -> runs regardless. e.g. Close file stream"
   ]
  },
  {
   "cell_type": "markdown",
   "id": "1faba98b",
   "metadata": {},
   "source": [
    "#### Exercise 1:\n",
    "Create a `safe_divide` function: handle 'Divide by zero' error, return None if Error"
   ]
  },
  {
   "cell_type": "code",
   "execution_count": null,
   "id": "7653d975",
   "metadata": {},
   "outputs": [
    {
     "name": "stdout",
     "output_type": "stream",
     "text": [
      "Type(xNumerator): <class 'int'>\n",
      "ACK: Success\n",
      "Return value: 10.0\n"
     ]
    }
   ],
   "source": [
    "def safe_divide (numerator, denominator):\n",
    "    \n",
    "    try:\n",
    "        retValue = numerator/denominator\n",
    "    except ZeroDivisionError:\n",
    "        retValue = None\n",
    "        print(\"Error: Division by zero\")\n",
    "    except ValueError:       # <<<< You will not hit this :)\n",
    "        retValue = None\n",
    "        print(\"Error: INPUT-Invalid datatype for numerical division\")\n",
    "    except:\n",
    "        retValue = None\n",
    "        print(\"An Error was encountered\")\n",
    "    else:\n",
    "        print(\"ACK: Success\")\n",
    "    finally:\n",
    "        return retValue\n",
    "    \n",
    "    #end of function\n",
    "\n",
    "#Test code=> Invoke fn\n",
    "xNumerator = int(input(\"Enter a numerator: \"))\n",
    "xDenominator = int(input(\"Enter a denominator: \"))\n",
    "\n",
    "print(f\"Type(xNumerator): {type(xNumerator)}\")  #interesting: Input was String, needed to be typecasted.\n",
    "\n",
    "ret = safe_divide(xNumerator,xDenominator)\n",
    "print(f\"Return value: {ret}\")\n",
    "\n",
    "#end of program\n"
   ]
  },
  {
   "cell_type": "markdown",
   "id": "edec6716",
   "metadata": {},
   "source": [
    "#### Exercise 2:\n",
    "\n",
    "Imagine you have a number and want to calculate its square root. To do this, you need to create a Python function. You give this function one number, 'number1'.\n",
    "\n",
    "The function should generate the square root value if you provide a positive integer or float value as input. However, the function should be clever enough to detect the mistake if you enter a negative value. It should kindly inform you with a message saying, 'Invalid input! Please enter a positive integer or a float value."
   ]
  },
  {
   "cell_type": "code",
   "execution_count": null,
   "id": "a30b99b7",
   "metadata": {},
   "outputs": [
    {
     "name": "stdout",
     "output_type": "stream",
     "text": [
      "ERROR: Cannot calculate Square root of a -ve number. Square root of a negative number is an imaginary number.\n",
      "Return value = None\n"
     ]
    }
   ],
   "source": [
    "import math\n",
    "\n",
    "def sqr_root(num):\n",
    "    '''#== HOW TO THROW AN EXCEPTION: ==\n",
    "    if num<0:\n",
    "        raise ValueError(\"ERROR: Cannot calculate Square root of a -ve number. \\\n",
    "                         Square root of a negative number is an imaginary number.\")\n",
    "    '''\n",
    "\n",
    "    try:\n",
    "        ret = math.sqrt(num)  #calc square root\n",
    "    except ValueError:\n",
    "        ret = None\n",
    "        print(\"ERROR: Cannot calculate Square root of a -ve number. Square root of a negative number is an imaginary number.\")\n",
    "    else:\n",
    "        print(\"SUCCESS\")\n",
    "    return ret\n",
    "    #end of function\n",
    "\n",
    "#Test harness=> invoke fn\n",
    "number1 = int(input(\"Enter number to calc Sqr root:\"))\n",
    "returnVal = sqr_root(number1)\n",
    "print(f\"Return value = {returnVal}\")"
   ]
  },
  {
   "cell_type": "markdown",
   "id": "188afccc",
   "metadata": {},
   "source": [
    "--end--"
   ]
  }
 ],
 "metadata": {
  "kernelspec": {
   "display_name": ".venv",
   "language": "python",
   "name": "python3"
  },
  "language_info": {
   "codemirror_mode": {
    "name": "ipython",
    "version": 3
   },
   "file_extension": ".py",
   "mimetype": "text/x-python",
   "name": "python",
   "nbconvert_exporter": "python",
   "pygments_lexer": "ipython3",
   "version": "3.12.3"
  }
 },
 "nbformat": 4,
 "nbformat_minor": 5
}
